{
  "cells": [
    {
      "cell_type": "code",
      "execution_count": null,
      "metadata": {
        "colab": {
          "base_uri": "https://localhost:8080/"
        },
        "id": "1di9cIz8Kz-v",
        "outputId": "730253f3-b5f5-43e2-ce56-9c3ca7b9abec"
      },
      "outputs": [
        {
          "output_type": "stream",
          "name": "stdout",
          "text": [
            "Mounted at /content/drive\n"
          ]
        }
      ],
      "source": [
        "from google.colab import driv\n",
        "drive.mount('/content/drive')"
      ]
    },
    {
      "cell_type": "code",
      "execution_count": null,
      "metadata": {
        "id": "pwqN5bvoWF8_"
      },
      "outputs": [],
      "source": [
        "import pandas as pd \n",
        "\n",
        "train_path = \"/content/drive/MyDrive/datasets/ta-misogyny/ta_misogyny_olid-train.csv\"\n",
        "dev_path = \"/content/drive/MyDrive/datasets/ta-misogyny/ta_misogyny_olid-dev.csv\"\n",
        "test_path = \"/content/drive/MyDrive/datasets/ta-misogyny/ta_misogyny_olid-test.csv\"\n",
        "\n",
        "\n",
        "train_df = pd.read_csv(train_path)\n",
        "dev_df = pd.read_csv(dev_path)\n",
        "test_df = pd.read_csv(test_path)"
      ]
    },
    {
      "cell_type": "code",
      "execution_count": null,
      "metadata": {
        "colab": {
          "base_uri": "https://localhost:8080/",
          "height": 424
        },
        "id": "XvD_AKMFbQPU",
        "outputId": "21ddc55b-bdf8-48e6-b7c0-8bef79e30f72"
      },
      "outputs": [
        {
          "output_type": "execute_result",
          "data": {
            "text/plain": [
              "      Unnamed: 0  Unnamed: 0.1  Unnamed: 0.1.1       labels  \\\n",
              "0              0             0               0  Not-Abusive   \n",
              "1              1             1               1  Not-Abusive   \n",
              "2              2             2               2  Not-Abusive   \n",
              "3              3             3               3  Not-Abusive   \n",
              "4              4             4               4      Abusive   \n",
              "...          ...           ...             ...          ...   \n",
              "2233        2233          2233            2235  Not-Abusive   \n",
              "2234        2234          2234            2236  Not-Abusive   \n",
              "2235        2235          2235            2237  Not-Abusive   \n",
              "2236        2236          2236            2238  Not-Abusive   \n",
              "2237        2237          2237            2239  Not-Abusive   \n",
              "\n",
              "                                                   text  \n",
              "0     உங்கள் பேச்சை எதிர்பார்த்தேன் நல்ல விளக்கம் அர...  \n",
              "1     எச் ராசாவால் இராமருக்கே இழிவு இவர் எல்லாம் இரா...  \n",
              "2     கல்யாணம்னு வரும்போது தான் சாதி முக்கியம் எங்கள...  \n",
              "3                     Tentu Kottai ஐயா நான் தமிழ் இந்து  \n",
              "4     Tamil selvan அடே தேவடியாவுக்கு பிரந்தவனே பச்சத...  \n",
              "...                                                 ...  \n",
              "2233  ராஜா ஏண்டா பின்னாடி பின்னாடி பார்த்து பேசுற மு...  \n",
              "2234                 பழய சித்தாகதை கிளிக வேண்டும் ஆண்ணா  \n",
              "2235               SRI NARAYANA நீ ஒரு ஆரிய இந்து சரியா  \n",
              "2236  அறியா வயதில் குழந்தைகளை அடித்து சொல்லிக்கொடுத்...  \n",
              "2237  தயவு செய்து சாதி மதம் பேசதிர் நியாயம் மட்டும் ...  \n",
              "\n",
              "[2238 rows x 5 columns]"
            ],
            "text/html": [
              "\n",
              "  <div id=\"df-7341cf1a-c48d-4df2-999a-d08f341f6119\">\n",
              "    <div class=\"colab-df-container\">\n",
              "      <div>\n",
              "<style scoped>\n",
              "    .dataframe tbody tr th:only-of-type {\n",
              "        vertical-align: middle;\n",
              "    }\n",
              "\n",
              "    .dataframe tbody tr th {\n",
              "        vertical-align: top;\n",
              "    }\n",
              "\n",
              "    .dataframe thead th {\n",
              "        text-align: right;\n",
              "    }\n",
              "</style>\n",
              "<table border=\"1\" class=\"dataframe\">\n",
              "  <thead>\n",
              "    <tr style=\"text-align: right;\">\n",
              "      <th></th>\n",
              "      <th>Unnamed: 0</th>\n",
              "      <th>Unnamed: 0.1</th>\n",
              "      <th>Unnamed: 0.1.1</th>\n",
              "      <th>labels</th>\n",
              "      <th>text</th>\n",
              "    </tr>\n",
              "  </thead>\n",
              "  <tbody>\n",
              "    <tr>\n",
              "      <th>0</th>\n",
              "      <td>0</td>\n",
              "      <td>0</td>\n",
              "      <td>0</td>\n",
              "      <td>Not-Abusive</td>\n",
              "      <td>உங்கள் பேச்சை எதிர்பார்த்தேன் நல்ல விளக்கம் அர...</td>\n",
              "    </tr>\n",
              "    <tr>\n",
              "      <th>1</th>\n",
              "      <td>1</td>\n",
              "      <td>1</td>\n",
              "      <td>1</td>\n",
              "      <td>Not-Abusive</td>\n",
              "      <td>எச் ராசாவால் இராமருக்கே இழிவு இவர் எல்லாம் இரா...</td>\n",
              "    </tr>\n",
              "    <tr>\n",
              "      <th>2</th>\n",
              "      <td>2</td>\n",
              "      <td>2</td>\n",
              "      <td>2</td>\n",
              "      <td>Not-Abusive</td>\n",
              "      <td>கல்யாணம்னு வரும்போது தான் சாதி முக்கியம் எங்கள...</td>\n",
              "    </tr>\n",
              "    <tr>\n",
              "      <th>3</th>\n",
              "      <td>3</td>\n",
              "      <td>3</td>\n",
              "      <td>3</td>\n",
              "      <td>Not-Abusive</td>\n",
              "      <td>Tentu Kottai ஐயா நான் தமிழ் இந்து</td>\n",
              "    </tr>\n",
              "    <tr>\n",
              "      <th>4</th>\n",
              "      <td>4</td>\n",
              "      <td>4</td>\n",
              "      <td>4</td>\n",
              "      <td>Abusive</td>\n",
              "      <td>Tamil selvan அடே தேவடியாவுக்கு பிரந்தவனே பச்சத...</td>\n",
              "    </tr>\n",
              "    <tr>\n",
              "      <th>...</th>\n",
              "      <td>...</td>\n",
              "      <td>...</td>\n",
              "      <td>...</td>\n",
              "      <td>...</td>\n",
              "      <td>...</td>\n",
              "    </tr>\n",
              "    <tr>\n",
              "      <th>2233</th>\n",
              "      <td>2233</td>\n",
              "      <td>2233</td>\n",
              "      <td>2235</td>\n",
              "      <td>Not-Abusive</td>\n",
              "      <td>ராஜா ஏண்டா பின்னாடி பின்னாடி பார்த்து பேசுற மு...</td>\n",
              "    </tr>\n",
              "    <tr>\n",
              "      <th>2234</th>\n",
              "      <td>2234</td>\n",
              "      <td>2234</td>\n",
              "      <td>2236</td>\n",
              "      <td>Not-Abusive</td>\n",
              "      <td>பழய சித்தாகதை கிளிக வேண்டும் ஆண்ணா</td>\n",
              "    </tr>\n",
              "    <tr>\n",
              "      <th>2235</th>\n",
              "      <td>2235</td>\n",
              "      <td>2235</td>\n",
              "      <td>2237</td>\n",
              "      <td>Not-Abusive</td>\n",
              "      <td>SRI NARAYANA நீ ஒரு ஆரிய இந்து சரியா</td>\n",
              "    </tr>\n",
              "    <tr>\n",
              "      <th>2236</th>\n",
              "      <td>2236</td>\n",
              "      <td>2236</td>\n",
              "      <td>2238</td>\n",
              "      <td>Not-Abusive</td>\n",
              "      <td>அறியா வயதில் குழந்தைகளை அடித்து சொல்லிக்கொடுத்...</td>\n",
              "    </tr>\n",
              "    <tr>\n",
              "      <th>2237</th>\n",
              "      <td>2237</td>\n",
              "      <td>2237</td>\n",
              "      <td>2239</td>\n",
              "      <td>Not-Abusive</td>\n",
              "      <td>தயவு செய்து சாதி மதம் பேசதிர் நியாயம் மட்டும் ...</td>\n",
              "    </tr>\n",
              "  </tbody>\n",
              "</table>\n",
              "<p>2238 rows × 5 columns</p>\n",
              "</div>\n",
              "      <button class=\"colab-df-convert\" onclick=\"convertToInteractive('df-7341cf1a-c48d-4df2-999a-d08f341f6119')\"\n",
              "              title=\"Convert this dataframe to an interactive table.\"\n",
              "              style=\"display:none;\">\n",
              "        \n",
              "  <svg xmlns=\"http://www.w3.org/2000/svg\" height=\"24px\"viewBox=\"0 0 24 24\"\n",
              "       width=\"24px\">\n",
              "    <path d=\"M0 0h24v24H0V0z\" fill=\"none\"/>\n",
              "    <path d=\"M18.56 5.44l.94 2.06.94-2.06 2.06-.94-2.06-.94-.94-2.06-.94 2.06-2.06.94zm-11 1L8.5 8.5l.94-2.06 2.06-.94-2.06-.94L8.5 2.5l-.94 2.06-2.06.94zm10 10l.94 2.06.94-2.06 2.06-.94-2.06-.94-.94-2.06-.94 2.06-2.06.94z\"/><path d=\"M17.41 7.96l-1.37-1.37c-.4-.4-.92-.59-1.43-.59-.52 0-1.04.2-1.43.59L10.3 9.45l-7.72 7.72c-.78.78-.78 2.05 0 2.83L4 21.41c.39.39.9.59 1.41.59.51 0 1.02-.2 1.41-.59l7.78-7.78 2.81-2.81c.8-.78.8-2.07 0-2.86zM5.41 20L4 18.59l7.72-7.72 1.47 1.35L5.41 20z\"/>\n",
              "  </svg>\n",
              "      </button>\n",
              "      \n",
              "  <style>\n",
              "    .colab-df-container {\n",
              "      display:flex;\n",
              "      flex-wrap:wrap;\n",
              "      gap: 12px;\n",
              "    }\n",
              "\n",
              "    .colab-df-convert {\n",
              "      background-color: #E8F0FE;\n",
              "      border: none;\n",
              "      border-radius: 50%;\n",
              "      cursor: pointer;\n",
              "      display: none;\n",
              "      fill: #1967D2;\n",
              "      height: 32px;\n",
              "      padding: 0 0 0 0;\n",
              "      width: 32px;\n",
              "    }\n",
              "\n",
              "    .colab-df-convert:hover {\n",
              "      background-color: #E2EBFA;\n",
              "      box-shadow: 0px 1px 2px rgba(60, 64, 67, 0.3), 0px 1px 3px 1px rgba(60, 64, 67, 0.15);\n",
              "      fill: #174EA6;\n",
              "    }\n",
              "\n",
              "    [theme=dark] .colab-df-convert {\n",
              "      background-color: #3B4455;\n",
              "      fill: #D2E3FC;\n",
              "    }\n",
              "\n",
              "    [theme=dark] .colab-df-convert:hover {\n",
              "      background-color: #434B5C;\n",
              "      box-shadow: 0px 1px 3px 1px rgba(0, 0, 0, 0.15);\n",
              "      filter: drop-shadow(0px 1px 2px rgba(0, 0, 0, 0.3));\n",
              "      fill: #FFFFFF;\n",
              "    }\n",
              "  </style>\n",
              "\n",
              "      <script>\n",
              "        const buttonEl =\n",
              "          document.querySelector('#df-7341cf1a-c48d-4df2-999a-d08f341f6119 button.colab-df-convert');\n",
              "        buttonEl.style.display =\n",
              "          google.colab.kernel.accessAllowed ? 'block' : 'none';\n",
              "\n",
              "        async function convertToInteractive(key) {\n",
              "          const element = document.querySelector('#df-7341cf1a-c48d-4df2-999a-d08f341f6119');\n",
              "          const dataTable =\n",
              "            await google.colab.kernel.invokeFunction('convertToInteractive',\n",
              "                                                     [key], {});\n",
              "          if (!dataTable) return;\n",
              "\n",
              "          const docLinkHtml = 'Like what you see? Visit the ' +\n",
              "            '<a target=\"_blank\" href=https://colab.research.google.com/notebooks/data_table.ipynb>data table notebook</a>'\n",
              "            + ' to learn more about interactive tables.';\n",
              "          element.innerHTML = '';\n",
              "          dataTable['output_type'] = 'display_data';\n",
              "          await google.colab.output.renderOutput(dataTable, element);\n",
              "          const docLink = document.createElement('div');\n",
              "          docLink.innerHTML = docLinkHtml;\n",
              "          element.appendChild(docLink);\n",
              "        }\n",
              "      </script>\n",
              "    </div>\n",
              "  </div>\n",
              "  "
            ]
          },
          "metadata": {},
          "execution_count": 3
        }
      ],
      "source": [
        "train_df"
      ]
    },
    {
      "cell_type": "code",
      "execution_count": null,
      "metadata": {
        "colab": {
          "base_uri": "https://localhost:8080/"
        },
        "id": "5zyFRYJSW1z7",
        "outputId": "8692b9af-1161-4bc6-efa1-53c6a97b4e43"
      },
      "outputs": [
        {
          "output_type": "stream",
          "name": "stdout",
          "text": [
            "(2238, 5)\n",
            "(560, 5)\n",
            "(700, 5)\n"
          ]
        }
      ],
      "source": [
        "print(train_df.shape)\n",
        "print(dev_df.shape)\n",
        "print(test_df.shape)"
      ]
    },
    {
      "cell_type": "code",
      "source": [
        "#convert labels for Not Offensive\n",
        "train_df['labels'] = train_df['labels'].replace(['Not-Offensive'],['Not-Abusive'])\n",
        "dev_df['labels'] = dev_df['labels'].replace(['Not-Offensive'],['Not-Abusive'])\n",
        "test_df['labels'] = test_df['labels'].replace(['Not-Offensive'],['Not-Abusive'])\n",
        "\n",
        "train_df['labels'] = train_df['labels'].replace(['Offensive'],['Abusive'])\n",
        "dev_df['labels'] = dev_df['labels'].replace(['Offensive'],['Abusive'])\n",
        "test_df['labels'] = test_df['labels'].replace(['Offensive'],['Abusive'])"
      ],
      "metadata": {
        "id": "EC1ynUDS9GwB"
      },
      "execution_count": null,
      "outputs": []
    },
    {
      "cell_type": "code",
      "source": [
        "train_df.to_csv(train_path)\n",
        "dev_df.to_csv(dev_path)\n",
        "test_df.to_csv(test_path)"
      ],
      "metadata": {
        "id": "cc30yDSX9pGW"
      },
      "execution_count": null,
      "outputs": []
    },
    {
      "cell_type": "code",
      "execution_count": null,
      "metadata": {
        "colab": {
          "base_uri": "https://localhost:8080/",
          "height": 424
        },
        "id": "qImug7-Mciz7",
        "outputId": "ba2e2421-f468-42c8-e088-95029f1dad96"
      },
      "outputs": [
        {
          "output_type": "execute_result",
          "data": {
            "text/plain": [
              "     Unnamed: 0  Unnamed: 0.1  Unnamed: 0.1.1       labels  \\\n",
              "0             0             0               0  Not-Abusive   \n",
              "1             1             1               1  Not-Abusive   \n",
              "2             2             2               2  Not-Abusive   \n",
              "3             3             3               3  Not-Abusive   \n",
              "4             4             4               4      Abusive   \n",
              "..          ...           ...             ...          ...   \n",
              "695         695           695             695  Not-Abusive   \n",
              "696         696           696             696  Not-Abusive   \n",
              "697         697           697             697  Not-Abusive   \n",
              "698         698           698             698      Abusive   \n",
              "699         699           699             699  Not-Abusive   \n",
              "\n",
              "                                                  text  \n",
              "0    உங்கள் பேச்சை எதிர்பார்த்தேன் நல்ல விளக்கம் அர...  \n",
              "1    எச் ராசாவால் இராமருக்கே இழிவு இவர் எல்லாம் இரா...  \n",
              "2    கல்யாணம்னு வரும்போது தான் சாதி முக்கியம் எங்கள...  \n",
              "3                    Tentu Kottai ஐயா நான் தமிழ் இந்து  \n",
              "4    Tamil selvan அடே தேவடியாவுக்கு பிரந்தவனே பச்சத...  \n",
              "..                                                 ...  \n",
              "695                       சினிவாசன் அய்யாக்கு நன்றி...  \n",
              "696  ஊருக்கே தெரியும் அவர் பிராமணன் என்று.அவர் ஒரு தலை  \n",
              "697  ஐயா அவர்கள் சரியான விளக்கம் பார்பனர்கள் வேறு ப...  \n",
              "698  Nandha Kumar  அட  நாயே; ; வந்தேறி பிராமண   நாய...  \n",
              "699                  Sylvester Justin   நன்றி சுவீட்டி  \n",
              "\n",
              "[3498 rows x 5 columns]"
            ],
            "text/html": [
              "\n",
              "  <div id=\"df-a954212a-208b-413a-9a8f-bc20cfb34736\">\n",
              "    <div class=\"colab-df-container\">\n",
              "      <div>\n",
              "<style scoped>\n",
              "    .dataframe tbody tr th:only-of-type {\n",
              "        vertical-align: middle;\n",
              "    }\n",
              "\n",
              "    .dataframe tbody tr th {\n",
              "        vertical-align: top;\n",
              "    }\n",
              "\n",
              "    .dataframe thead th {\n",
              "        text-align: right;\n",
              "    }\n",
              "</style>\n",
              "<table border=\"1\" class=\"dataframe\">\n",
              "  <thead>\n",
              "    <tr style=\"text-align: right;\">\n",
              "      <th></th>\n",
              "      <th>Unnamed: 0</th>\n",
              "      <th>Unnamed: 0.1</th>\n",
              "      <th>Unnamed: 0.1.1</th>\n",
              "      <th>labels</th>\n",
              "      <th>text</th>\n",
              "    </tr>\n",
              "  </thead>\n",
              "  <tbody>\n",
              "    <tr>\n",
              "      <th>0</th>\n",
              "      <td>0</td>\n",
              "      <td>0</td>\n",
              "      <td>0</td>\n",
              "      <td>Not-Abusive</td>\n",
              "      <td>உங்கள் பேச்சை எதிர்பார்த்தேன் நல்ல விளக்கம் அர...</td>\n",
              "    </tr>\n",
              "    <tr>\n",
              "      <th>1</th>\n",
              "      <td>1</td>\n",
              "      <td>1</td>\n",
              "      <td>1</td>\n",
              "      <td>Not-Abusive</td>\n",
              "      <td>எச் ராசாவால் இராமருக்கே இழிவு இவர் எல்லாம் இரா...</td>\n",
              "    </tr>\n",
              "    <tr>\n",
              "      <th>2</th>\n",
              "      <td>2</td>\n",
              "      <td>2</td>\n",
              "      <td>2</td>\n",
              "      <td>Not-Abusive</td>\n",
              "      <td>கல்யாணம்னு வரும்போது தான் சாதி முக்கியம் எங்கள...</td>\n",
              "    </tr>\n",
              "    <tr>\n",
              "      <th>3</th>\n",
              "      <td>3</td>\n",
              "      <td>3</td>\n",
              "      <td>3</td>\n",
              "      <td>Not-Abusive</td>\n",
              "      <td>Tentu Kottai ஐயா நான் தமிழ் இந்து</td>\n",
              "    </tr>\n",
              "    <tr>\n",
              "      <th>4</th>\n",
              "      <td>4</td>\n",
              "      <td>4</td>\n",
              "      <td>4</td>\n",
              "      <td>Abusive</td>\n",
              "      <td>Tamil selvan அடே தேவடியாவுக்கு பிரந்தவனே பச்சத...</td>\n",
              "    </tr>\n",
              "    <tr>\n",
              "      <th>...</th>\n",
              "      <td>...</td>\n",
              "      <td>...</td>\n",
              "      <td>...</td>\n",
              "      <td>...</td>\n",
              "      <td>...</td>\n",
              "    </tr>\n",
              "    <tr>\n",
              "      <th>695</th>\n",
              "      <td>695</td>\n",
              "      <td>695</td>\n",
              "      <td>695</td>\n",
              "      <td>Not-Abusive</td>\n",
              "      <td>சினிவாசன் அய்யாக்கு நன்றி...</td>\n",
              "    </tr>\n",
              "    <tr>\n",
              "      <th>696</th>\n",
              "      <td>696</td>\n",
              "      <td>696</td>\n",
              "      <td>696</td>\n",
              "      <td>Not-Abusive</td>\n",
              "      <td>ஊருக்கே தெரியும் அவர் பிராமணன் என்று.அவர் ஒரு தலை</td>\n",
              "    </tr>\n",
              "    <tr>\n",
              "      <th>697</th>\n",
              "      <td>697</td>\n",
              "      <td>697</td>\n",
              "      <td>697</td>\n",
              "      <td>Not-Abusive</td>\n",
              "      <td>ஐயா அவர்கள் சரியான விளக்கம் பார்பனர்கள் வேறு ப...</td>\n",
              "    </tr>\n",
              "    <tr>\n",
              "      <th>698</th>\n",
              "      <td>698</td>\n",
              "      <td>698</td>\n",
              "      <td>698</td>\n",
              "      <td>Abusive</td>\n",
              "      <td>Nandha Kumar  அட  நாயே; ; வந்தேறி பிராமண   நாய...</td>\n",
              "    </tr>\n",
              "    <tr>\n",
              "      <th>699</th>\n",
              "      <td>699</td>\n",
              "      <td>699</td>\n",
              "      <td>699</td>\n",
              "      <td>Not-Abusive</td>\n",
              "      <td>Sylvester Justin   நன்றி சுவீட்டி</td>\n",
              "    </tr>\n",
              "  </tbody>\n",
              "</table>\n",
              "<p>3498 rows × 5 columns</p>\n",
              "</div>\n",
              "      <button class=\"colab-df-convert\" onclick=\"convertToInteractive('df-a954212a-208b-413a-9a8f-bc20cfb34736')\"\n",
              "              title=\"Convert this dataframe to an interactive table.\"\n",
              "              style=\"display:none;\">\n",
              "        \n",
              "  <svg xmlns=\"http://www.w3.org/2000/svg\" height=\"24px\"viewBox=\"0 0 24 24\"\n",
              "       width=\"24px\">\n",
              "    <path d=\"M0 0h24v24H0V0z\" fill=\"none\"/>\n",
              "    <path d=\"M18.56 5.44l.94 2.06.94-2.06 2.06-.94-2.06-.94-.94-2.06-.94 2.06-2.06.94zm-11 1L8.5 8.5l.94-2.06 2.06-.94-2.06-.94L8.5 2.5l-.94 2.06-2.06.94zm10 10l.94 2.06.94-2.06 2.06-.94-2.06-.94-.94-2.06-.94 2.06-2.06.94z\"/><path d=\"M17.41 7.96l-1.37-1.37c-.4-.4-.92-.59-1.43-.59-.52 0-1.04.2-1.43.59L10.3 9.45l-7.72 7.72c-.78.78-.78 2.05 0 2.83L4 21.41c.39.39.9.59 1.41.59.51 0 1.02-.2 1.41-.59l7.78-7.78 2.81-2.81c.8-.78.8-2.07 0-2.86zM5.41 20L4 18.59l7.72-7.72 1.47 1.35L5.41 20z\"/>\n",
              "  </svg>\n",
              "      </button>\n",
              "      \n",
              "  <style>\n",
              "    .colab-df-container {\n",
              "      display:flex;\n",
              "      flex-wrap:wrap;\n",
              "      gap: 12px;\n",
              "    }\n",
              "\n",
              "    .colab-df-convert {\n",
              "      background-color: #E8F0FE;\n",
              "      border: none;\n",
              "      border-radius: 50%;\n",
              "      cursor: pointer;\n",
              "      display: none;\n",
              "      fill: #1967D2;\n",
              "      height: 32px;\n",
              "      padding: 0 0 0 0;\n",
              "      width: 32px;\n",
              "    }\n",
              "\n",
              "    .colab-df-convert:hover {\n",
              "      background-color: #E2EBFA;\n",
              "      box-shadow: 0px 1px 2px rgba(60, 64, 67, 0.3), 0px 1px 3px 1px rgba(60, 64, 67, 0.15);\n",
              "      fill: #174EA6;\n",
              "    }\n",
              "\n",
              "    [theme=dark] .colab-df-convert {\n",
              "      background-color: #3B4455;\n",
              "      fill: #D2E3FC;\n",
              "    }\n",
              "\n",
              "    [theme=dark] .colab-df-convert:hover {\n",
              "      background-color: #434B5C;\n",
              "      box-shadow: 0px 1px 3px 1px rgba(0, 0, 0, 0.15);\n",
              "      filter: drop-shadow(0px 1px 2px rgba(0, 0, 0, 0.3));\n",
              "      fill: #FFFFFF;\n",
              "    }\n",
              "  </style>\n",
              "\n",
              "      <script>\n",
              "        const buttonEl =\n",
              "          document.querySelector('#df-a954212a-208b-413a-9a8f-bc20cfb34736 button.colab-df-convert');\n",
              "        buttonEl.style.display =\n",
              "          google.colab.kernel.accessAllowed ? 'block' : 'none';\n",
              "\n",
              "        async function convertToInteractive(key) {\n",
              "          const element = document.querySelector('#df-a954212a-208b-413a-9a8f-bc20cfb34736');\n",
              "          const dataTable =\n",
              "            await google.colab.kernel.invokeFunction('convertToInteractive',\n",
              "                                                     [key], {});\n",
              "          if (!dataTable) return;\n",
              "\n",
              "          const docLinkHtml = 'Like what you see? Visit the ' +\n",
              "            '<a target=\"_blank\" href=https://colab.research.google.com/notebooks/data_table.ipynb>data table notebook</a>'\n",
              "            + ' to learn more about interactive tables.';\n",
              "          element.innerHTML = '';\n",
              "          dataTable['output_type'] = 'display_data';\n",
              "          await google.colab.output.renderOutput(dataTable, element);\n",
              "          const docLink = document.createElement('div');\n",
              "          docLink.innerHTML = docLinkHtml;\n",
              "          element.appendChild(docLink);\n",
              "        }\n",
              "      </script>\n",
              "    </div>\n",
              "  </div>\n",
              "  "
            ]
          },
          "metadata": {},
          "execution_count": 7
        }
      ],
      "source": [
        "cross_val_df = pd.concat([train_df,dev_df,test_df],axis=0)\n",
        "cross_val_df"
      ]
    },
    {
      "cell_type": "code",
      "execution_count": null,
      "metadata": {
        "colab": {
          "base_uri": "https://localhost:8080/"
        },
        "id": "-cyHpOHkqHNq",
        "outputId": "5f233ec7-3db7-4ce6-8221-aadce9002238"
      },
      "outputs": [
        {
          "output_type": "execute_result",
          "data": {
            "text/plain": [
              "Not-Abusive    2414\n",
              "Abusive        1084\n",
              "Name: labels, dtype: int64"
            ]
          },
          "metadata": {},
          "execution_count": 8
        }
      ],
      "source": [
        "cross_val_df['labels'].value_counts()"
      ]
    },
    {
      "cell_type": "code",
      "execution_count": null,
      "metadata": {
        "id": "u8TcOj_lqMWI"
      },
      "outputs": [],
      "source": [
        "cross_val_df = cross_val_df[cross_val_df.labels != 'Not-Tamil']"
      ]
    },
    {
      "cell_type": "code",
      "execution_count": null,
      "metadata": {
        "id": "gMLxUEwgmEks"
      },
      "outputs": [],
      "source": [
        "from sklearn.feature_extraction.text import CountVectorizer, TfidfTransformer\n",
        "from sklearn.metrics import accuracy_score, confusion_matrix, classification_report\n",
        "from sklearn.metrics import roc_curve, auc, roc_auc_score\n",
        "from sklearn import metrics\n",
        "from sklearn.linear_model import LogisticRegression\n",
        "\n",
        "\n",
        "from sklearn.naive_bayes import MultinomialNB\n",
        "from sklearn.tree import DecisionTreeClassifier\n",
        "from sklearn.ensemble import RandomForestClassifier\n",
        "from sklearn.svm import LinearSVC\n",
        "from sklearn.pipeline import Pipeline\n",
        "import pandas\n",
        "import os\n",
        "import warnings\n",
        "warnings.filterwarnings(\"ignore\")"
      ]
    },
    {
      "cell_type": "code",
      "execution_count": null,
      "metadata": {
        "id": "Qo4fpB9aqlQP"
      },
      "outputs": [],
      "source": [
        "cross_val_df = cross_val_df.dropna()"
      ]
    },
    {
      "cell_type": "markdown",
      "metadata": {
        "id": "NCpbcwUAUWQy"
      },
      "source": [
        "#Linear SVC "
      ]
    },
    {
      "cell_type": "code",
      "execution_count": null,
      "metadata": {
        "id": "xQasbqb5oWdT"
      },
      "outputs": [],
      "source": [
        "SVC__tfidf = Pipeline([('vect', CountVectorizer()),\n",
        "                    ('tfidf', TfidfTransformer()),\n",
        "                    ('clf', LinearSVC()),\n",
        "                    ])\n",
        "\n",
        "\n",
        "SVC__bow = Pipeline([('vect', CountVectorizer()),\n",
        "                    ('clf', LinearSVC()),\n",
        "                    ])"
      ]
    },
    {
      "cell_type": "markdown",
      "metadata": {
        "id": "jzk2tMHwUaCr"
      },
      "source": [
        "## SVC TFIDF"
      ]
    },
    {
      "cell_type": "markdown",
      "metadata": {
        "id": "0j6xT8-iWE87"
      },
      "source": [
        "### Macro F1"
      ]
    },
    {
      "cell_type": "code",
      "execution_count": null,
      "metadata": {
        "colab": {
          "base_uri": "https://localhost:8080/"
        },
        "id": "zOPoAp1YQ8kp",
        "outputId": "13409cb5-888f-4ab4-aed5-0292c6be7af5"
      },
      "outputs": [
        {
          "output_type": "stream",
          "name": "stdout",
          "text": [
            "              precision    recall  f1-score   support\n",
            "\n",
            "     Abusive       0.74      0.63      0.68       217\n",
            " Not-Abusive       0.84      0.90      0.87       483\n",
            "\n",
            "    accuracy                           0.82       700\n",
            "   macro avg       0.79      0.76      0.78       700\n",
            "weighted avg       0.81      0.82      0.81       700\n",
            "\n",
            "              precision    recall  f1-score   support\n",
            "\n",
            "     Abusive       0.67      0.55      0.60       217\n",
            " Not-Abusive       0.81      0.88      0.84       483\n",
            "\n",
            "    accuracy                           0.78       700\n",
            "   macro avg       0.74      0.71      0.72       700\n",
            "weighted avg       0.77      0.78      0.77       700\n",
            "\n",
            "              precision    recall  f1-score   support\n",
            "\n",
            "     Abusive       0.67      0.56      0.61       216\n",
            " Not-Abusive       0.82      0.88      0.85       483\n",
            "\n",
            "    accuracy                           0.78       699\n",
            "   macro avg       0.74      0.72      0.73       699\n",
            "weighted avg       0.77      0.78      0.77       699\n",
            "\n",
            "              precision    recall  f1-score   support\n",
            "\n",
            "     Abusive       0.66      0.53      0.59       217\n",
            " Not-Abusive       0.81      0.88      0.84       482\n",
            "\n",
            "    accuracy                           0.77       699\n",
            "   macro avg       0.73      0.70      0.71       699\n",
            "weighted avg       0.76      0.77      0.76       699\n",
            "\n",
            "              precision    recall  f1-score   support\n",
            "\n",
            "     Abusive       0.70      0.54      0.61       217\n",
            " Not-Abusive       0.81      0.90      0.85       482\n",
            "\n",
            "    accuracy                           0.79       699\n",
            "   macro avg       0.76      0.72      0.73       699\n",
            "weighted avg       0.78      0.79      0.78       699\n",
            "\n",
            "[0.77525629 0.72449567 0.7278753  0.71285045 0.73294958]\n"
          ]
        }
      ],
      "source": [
        "from sklearn.metrics import classification_report, accuracy_score, make_scorer, f1_score\n",
        "from sklearn.model_selection import cross_val_score, StratifiedKFold\n",
        "\n",
        "def classification_report_with_accuracy_score(y_true, y_pred):\n",
        "    print(classification_report(y_true, y_pred)) # print classification report\n",
        "    return f1_score(y_true, y_pred,average=\"macro\")\n",
        "\n",
        "    \n",
        "kfold = StratifiedKFold(n_splits=5, random_state=42,shuffle=True)\n",
        "# Nested CV with parameter optimization\n",
        "nested_score = cross_val_score(SVC__tfidf, X=cross_val_df['text'].values, y=cross_val_df['labels'].values, cv=kfold, \n",
        "               scoring=make_scorer(classification_report_with_accuracy_score))\n",
        "print(nested_score) "
      ]
    },
    {
      "cell_type": "code",
      "execution_count": null,
      "metadata": {
        "colab": {
          "base_uri": "https://localhost:8080/"
        },
        "id": "oPqDJVhAUFVb",
        "outputId": "c45a1bee-0a0c-4e7f-8543-9112eb8e0ab4"
      },
      "outputs": [
        {
          "output_type": "execute_result",
          "data": {
            "text/plain": [
              "0.7346854564578191"
            ]
          },
          "metadata": {},
          "execution_count": 14
        }
      ],
      "source": [
        "\n",
        "nested_score.mean()"
      ]
    },
    {
      "cell_type": "code",
      "execution_count": null,
      "metadata": {
        "colab": {
          "base_uri": "https://localhost:8080/"
        },
        "id": "DGyRyyi2UIS3",
        "outputId": "467f99c3-dc5d-481c-92e9-5ac07042c057"
      },
      "outputs": [
        {
          "output_type": "execute_result",
          "data": {
            "text/plain": [
              "0.02133533896647216"
            ]
          },
          "metadata": {},
          "execution_count": 15
        }
      ],
      "source": [
        "nested_score.std()"
      ]
    },
    {
      "cell_type": "markdown",
      "metadata": {
        "id": "nbob7H81WJOD"
      },
      "source": [
        "### Weighted F1"
      ]
    },
    {
      "cell_type": "code",
      "execution_count": null,
      "metadata": {
        "colab": {
          "base_uri": "https://localhost:8080/"
        },
        "id": "aNuuo-ReV4fA",
        "outputId": "37e7dcfa-2d07-4902-c174-2d25be739f22"
      },
      "outputs": [
        {
          "output_type": "stream",
          "name": "stdout",
          "text": [
            "              precision    recall  f1-score   support\n",
            "\n",
            "     Abusive       0.74      0.63      0.68       217\n",
            " Not-Abusive       0.84      0.90      0.87       483\n",
            "\n",
            "    accuracy                           0.82       700\n",
            "   macro avg       0.79      0.76      0.78       700\n",
            "weighted avg       0.81      0.82      0.81       700\n",
            "\n",
            "              precision    recall  f1-score   support\n",
            "\n",
            "     Abusive       0.67      0.55      0.60       217\n",
            " Not-Abusive       0.81      0.88      0.84       483\n",
            "\n",
            "    accuracy                           0.78       700\n",
            "   macro avg       0.74      0.71      0.72       700\n",
            "weighted avg       0.77      0.78      0.77       700\n",
            "\n",
            "              precision    recall  f1-score   support\n",
            "\n",
            "     Abusive       0.67      0.56      0.61       216\n",
            " Not-Abusive       0.82      0.88      0.85       483\n",
            "\n",
            "    accuracy                           0.78       699\n",
            "   macro avg       0.74      0.72      0.73       699\n",
            "weighted avg       0.77      0.78      0.77       699\n",
            "\n",
            "              precision    recall  f1-score   support\n",
            "\n",
            "     Abusive       0.66      0.53      0.59       217\n",
            " Not-Abusive       0.81      0.88      0.84       482\n",
            "\n",
            "    accuracy                           0.77       699\n",
            "   macro avg       0.73      0.70      0.71       699\n",
            "weighted avg       0.76      0.77      0.76       699\n",
            "\n",
            "              precision    recall  f1-score   support\n",
            "\n",
            "     Abusive       0.70      0.54      0.61       217\n",
            " Not-Abusive       0.81      0.90      0.85       482\n",
            "\n",
            "    accuracy                           0.79       699\n",
            "   macro avg       0.76      0.72      0.73       699\n",
            "weighted avg       0.78      0.79      0.78       699\n",
            "\n",
            "[0.8114914  0.77026087 0.77323025 0.76066257 0.77842895]\n"
          ]
        }
      ],
      "source": [
        "from sklearn.metrics import classification_report, accuracy_score, make_scorer, f1_score\n",
        "from sklearn.model_selection import cross_val_score, StratifiedKFold\n",
        "\n",
        "def classification_report_with_accuracy_score(y_true, y_pred):\n",
        "    print(classification_report(y_true, y_pred)) # print classification report\n",
        "    return f1_score(y_true, y_pred,average=\"weighted\")\n",
        "\n",
        "    \n",
        "kfold = StratifiedKFold(n_splits=5, random_state=42,shuffle=True)\n",
        "# Nested CV with parameter optimization\n",
        "nested_score = cross_val_score(SVC__tfidf, X=cross_val_df['text'].values, y=cross_val_df['labels'].values, cv=kfold, \n",
        "               scoring=make_scorer(classification_report_with_accuracy_score))\n",
        "print(nested_score) "
      ]
    },
    {
      "cell_type": "code",
      "execution_count": null,
      "metadata": {
        "colab": {
          "base_uri": "https://localhost:8080/"
        },
        "id": "lzRr8qaOWLvM",
        "outputId": "f3fdd1ad-0fa0-4e75-a5ad-53c15828c4f5"
      },
      "outputs": [
        {
          "output_type": "execute_result",
          "data": {
            "text/plain": [
              "0.7788148083211915"
            ]
          },
          "metadata": {},
          "execution_count": 17
        }
      ],
      "source": [
        "nested_score.mean()"
      ]
    },
    {
      "cell_type": "code",
      "execution_count": null,
      "metadata": {
        "colab": {
          "base_uri": "https://localhost:8080/"
        },
        "id": "G5dItxizWNtm",
        "outputId": "83d3f39b-ddd0-4567-ae03-9a63e9345c75"
      },
      "outputs": [
        {
          "output_type": "execute_result",
          "data": {
            "text/plain": [
              "0.017330719032445974"
            ]
          },
          "metadata": {},
          "execution_count": 18
        }
      ],
      "source": [
        "nested_score.std()"
      ]
    },
    {
      "cell_type": "markdown",
      "metadata": {
        "id": "o-WMFbjBWQGN"
      },
      "source": [
        "### Macro Precision"
      ]
    },
    {
      "cell_type": "code",
      "execution_count": null,
      "metadata": {
        "colab": {
          "base_uri": "https://localhost:8080/"
        },
        "id": "i5Pf78w3tFLc",
        "outputId": "d9f21620-bc97-48b0-bcec-5ec880536c92"
      },
      "outputs": [
        {
          "output_type": "stream",
          "name": "stdout",
          "text": [
            "              precision    recall  f1-score   support\n",
            "\n",
            "     Abusive       0.74      0.63      0.68       217\n",
            " Not-Abusive       0.84      0.90      0.87       483\n",
            "\n",
            "    accuracy                           0.82       700\n",
            "   macro avg       0.79      0.76      0.78       700\n",
            "weighted avg       0.81      0.82      0.81       700\n",
            "\n",
            "              precision    recall  f1-score   support\n",
            "\n",
            "     Abusive       0.67      0.55      0.60       217\n",
            " Not-Abusive       0.81      0.88      0.84       483\n",
            "\n",
            "    accuracy                           0.78       700\n",
            "   macro avg       0.74      0.71      0.72       700\n",
            "weighted avg       0.77      0.78      0.77       700\n",
            "\n",
            "              precision    recall  f1-score   support\n",
            "\n",
            "     Abusive       0.67      0.56      0.61       216\n",
            " Not-Abusive       0.82      0.88      0.85       483\n",
            "\n",
            "    accuracy                           0.78       699\n",
            "   macro avg       0.74      0.72      0.73       699\n",
            "weighted avg       0.77      0.78      0.77       699\n",
            "\n",
            "              precision    recall  f1-score   support\n",
            "\n",
            "     Abusive       0.66      0.53      0.59       217\n",
            " Not-Abusive       0.81      0.88      0.84       482\n",
            "\n",
            "    accuracy                           0.77       699\n",
            "   macro avg       0.73      0.70      0.71       699\n",
            "weighted avg       0.76      0.77      0.76       699\n",
            "\n",
            "              precision    recall  f1-score   support\n",
            "\n",
            "     Abusive       0.70      0.54      0.61       217\n",
            " Not-Abusive       0.81      0.90      0.85       482\n",
            "\n",
            "    accuracy                           0.79       699\n",
            "   macro avg       0.76      0.72      0.73       699\n",
            "weighted avg       0.78      0.79      0.78       699\n",
            "\n",
            "[0.79045856 0.74246794 0.74494813 0.73124318 0.75797014]\n"
          ]
        }
      ],
      "source": [
        "from sklearn.metrics import classification_report, accuracy_score,precision_score, make_scorer, f1_score\n",
        "from sklearn.model_selection import cross_val_score, StratifiedKFold\n",
        "\n",
        "def classification_report_with_accuracy_score(y_true, y_pred):\n",
        "\n",
        "    print(classification_report(y_true, y_pred)) # print classification report\n",
        "    return precision_score(y_true, y_pred,average=\"macro\")\n",
        "\n",
        "    \n",
        "kfold = StratifiedKFold(n_splits=5, random_state=42,shuffle=True)\n",
        "# Nested CV with parameter optimization\n",
        "precision_score = cross_val_score(SVC__tfidf, X=cross_val_df['text'].values, y=cross_val_df['labels'].values, cv=kfold, \n",
        "               scoring=make_scorer(classification_report_with_accuracy_score))\n",
        "print(precision_score) "
      ]
    },
    {
      "cell_type": "code",
      "execution_count": null,
      "metadata": {
        "colab": {
          "base_uri": "https://localhost:8080/"
        },
        "id": "TKfVdsZ3teo6",
        "outputId": "fbb2019b-86e1-4947-d3b1-b413364975b6"
      },
      "outputs": [
        {
          "output_type": "execute_result",
          "data": {
            "text/plain": [
              "0.7534175913398048"
            ]
          },
          "metadata": {},
          "execution_count": 20
        }
      ],
      "source": [
        "precision_score.mean()"
      ]
    },
    {
      "cell_type": "code",
      "execution_count": null,
      "metadata": {
        "colab": {
          "base_uri": "https://localhost:8080/"
        },
        "id": "eepejKpdtjhp",
        "outputId": "cce8d49d-45b0-475a-c4a1-c32633245168"
      },
      "outputs": [
        {
          "output_type": "execute_result",
          "data": {
            "text/plain": [
              "0.020376897375067753"
            ]
          },
          "metadata": {},
          "execution_count": 21
        }
      ],
      "source": [
        "precision_score.std()"
      ]
    },
    {
      "cell_type": "markdown",
      "metadata": {
        "id": "TLdYdf1EWWFR"
      },
      "source": [
        "### Weighted Precision"
      ]
    },
    {
      "cell_type": "code",
      "execution_count": null,
      "metadata": {
        "colab": {
          "base_uri": "https://localhost:8080/"
        },
        "id": "RkBdRAaRWajJ",
        "outputId": "70334b41-3a97-405b-c04a-549b8fe7579c"
      },
      "outputs": [
        {
          "output_type": "stream",
          "name": "stdout",
          "text": [
            "              precision    recall  f1-score   support\n",
            "\n",
            "     Abusive       0.74      0.63      0.68       217\n",
            " Not-Abusive       0.84      0.90      0.87       483\n",
            "\n",
            "    accuracy                           0.82       700\n",
            "   macro avg       0.79      0.76      0.78       700\n",
            "weighted avg       0.81      0.82      0.81       700\n",
            "\n",
            "              precision    recall  f1-score   support\n",
            "\n",
            "     Abusive       0.67      0.55      0.60       217\n",
            " Not-Abusive       0.81      0.88      0.84       483\n",
            "\n",
            "    accuracy                           0.78       700\n",
            "   macro avg       0.74      0.71      0.72       700\n",
            "weighted avg       0.77      0.78      0.77       700\n",
            "\n",
            "              precision    recall  f1-score   support\n",
            "\n",
            "     Abusive       0.67      0.56      0.61       216\n",
            " Not-Abusive       0.82      0.88      0.85       483\n",
            "\n",
            "    accuracy                           0.78       699\n",
            "   macro avg       0.74      0.72      0.73       699\n",
            "weighted avg       0.77      0.78      0.77       699\n",
            "\n",
            "              precision    recall  f1-score   support\n",
            "\n",
            "     Abusive       0.66      0.53      0.59       217\n",
            " Not-Abusive       0.81      0.88      0.84       482\n",
            "\n",
            "    accuracy                           0.77       699\n",
            "   macro avg       0.73      0.70      0.71       699\n",
            "weighted avg       0.76      0.77      0.76       699\n",
            "\n",
            "              precision    recall  f1-score   support\n",
            "\n",
            "     Abusive       0.70      0.54      0.61       217\n",
            " Not-Abusive       0.81      0.90      0.85       482\n",
            "\n",
            "    accuracy                           0.79       699\n",
            "   macro avg       0.76      0.72      0.73       699\n",
            "weighted avg       0.78      0.79      0.78       699\n",
            "\n",
            "[0.81094034 0.76912554 0.77198841 0.75933558 0.77904472]\n"
          ]
        }
      ],
      "source": [
        "from sklearn.metrics import classification_report, accuracy_score,precision_score, make_scorer, f1_score\n",
        "from sklearn.model_selection import cross_val_score, StratifiedKFold\n",
        "\n",
        "def classification_report_with_accuracy_score(y_true, y_pred):\n",
        "\n",
        "    print(classification_report(y_true, y_pred)) # print classification report\n",
        "    return precision_score(y_true, y_pred,average=\"weighted\")\n",
        "\n",
        "    \n",
        "kfold = StratifiedKFold(n_splits=5, random_state=42,shuffle=True)\n",
        "# Nested CV with parameter optimization\n",
        "precision_score = cross_val_score(SVC__tfidf, X=cross_val_df['text'].values, y=cross_val_df['labels'].values, cv=kfold, \n",
        "               scoring=make_scorer(classification_report_with_accuracy_score))\n",
        "print(precision_score) "
      ]
    },
    {
      "cell_type": "code",
      "execution_count": null,
      "metadata": {
        "colab": {
          "base_uri": "https://localhost:8080/"
        },
        "id": "E_TsHZEWWnDx",
        "outputId": "40c64b8c-8b37-4597-aab9-a980e8e27108"
      },
      "outputs": [
        {
          "output_type": "execute_result",
          "data": {
            "text/plain": [
              "0.7780869169545792"
            ]
          },
          "metadata": {},
          "execution_count": 23
        }
      ],
      "source": [
        "precision_score.mean()"
      ]
    },
    {
      "cell_type": "code",
      "execution_count": null,
      "metadata": {
        "colab": {
          "base_uri": "https://localhost:8080/"
        },
        "id": "ZBBdyLbiWqs1",
        "outputId": "197bc6ca-522f-41b7-db95-4823f2d7608d"
      },
      "outputs": [
        {
          "output_type": "execute_result",
          "data": {
            "text/plain": [
              "0.017603268448311983"
            ]
          },
          "metadata": {},
          "execution_count": 24
        }
      ],
      "source": [
        "precision_score.std()"
      ]
    },
    {
      "cell_type": "markdown",
      "metadata": {
        "id": "I1IixV_uWuYU"
      },
      "source": [
        "### Macro Recall"
      ]
    },
    {
      "cell_type": "code",
      "execution_count": null,
      "metadata": {
        "colab": {
          "base_uri": "https://localhost:8080/"
        },
        "id": "x86NY8VIt1wR",
        "outputId": "3d5191f1-32c5-417e-baa3-ee0bed73c336"
      },
      "outputs": [
        {
          "output_type": "stream",
          "name": "stdout",
          "text": [
            "              precision    recall  f1-score   support\n",
            "\n",
            "     Abusive       0.74      0.63      0.68       217\n",
            " Not-Abusive       0.84      0.90      0.87       483\n",
            "\n",
            "    accuracy                           0.82       700\n",
            "   macro avg       0.79      0.76      0.78       700\n",
            "weighted avg       0.81      0.82      0.81       700\n",
            "\n",
            "              precision    recall  f1-score   support\n",
            "\n",
            "     Abusive       0.67      0.55      0.60       217\n",
            " Not-Abusive       0.81      0.88      0.84       483\n",
            "\n",
            "    accuracy                           0.78       700\n",
            "   macro avg       0.74      0.71      0.72       700\n",
            "weighted avg       0.77      0.78      0.77       700\n",
            "\n",
            "              precision    recall  f1-score   support\n",
            "\n",
            "     Abusive       0.67      0.56      0.61       216\n",
            " Not-Abusive       0.82      0.88      0.85       483\n",
            "\n",
            "    accuracy                           0.78       699\n",
            "   macro avg       0.74      0.72      0.73       699\n",
            "weighted avg       0.77      0.78      0.77       699\n",
            "\n",
            "              precision    recall  f1-score   support\n",
            "\n",
            "     Abusive       0.66      0.53      0.59       217\n",
            " Not-Abusive       0.81      0.88      0.84       482\n",
            "\n",
            "    accuracy                           0.77       699\n",
            "   macro avg       0.73      0.70      0.71       699\n",
            "weighted avg       0.76      0.77      0.76       699\n",
            "\n",
            "              precision    recall  f1-score   support\n",
            "\n",
            "     Abusive       0.70      0.54      0.61       217\n",
            " Not-Abusive       0.81      0.90      0.85       482\n",
            "\n",
            "    accuracy                           0.79       699\n",
            "   macro avg       0.76      0.72      0.73       699\n",
            "weighted avg       0.78      0.79      0.78       699\n",
            "\n",
            "[0.76494357 0.71415214 0.71773637 0.70273629 0.72002218]\n"
          ]
        }
      ],
      "source": [
        "from sklearn.metrics import recall_score\n",
        "def classification_report_with_accuracy_score(y_true, y_pred):\n",
        "\n",
        "    print(classification_report(y_true, y_pred)) # print classification report\n",
        "    return recall_score(y_true, y_pred,average=\"macro\")\n",
        "\n",
        "\n",
        "\n",
        "\n",
        "\n",
        "kfold = StratifiedKFold(n_splits=5, random_state=42,shuffle=True)\n",
        "# Nested CV with parameter optimization\n",
        "recall_score = cross_val_score(SVC__tfidf, X=cross_val_df['text'].values, y=cross_val_df['labels'].values, cv=kfold, \n",
        "               scoring=make_scorer(classification_report_with_accuracy_score))\n",
        "print(recall_score) "
      ]
    },
    {
      "cell_type": "code",
      "execution_count": null,
      "metadata": {
        "colab": {
          "base_uri": "https://localhost:8080/"
        },
        "id": "SZcF56wUuGVz",
        "outputId": "d8a4a5a1-e7a2-4bb7-d89b-e1d4e5983fb7"
      },
      "outputs": [
        {
          "output_type": "execute_result",
          "data": {
            "text/plain": [
              "0.7239181102286559"
            ]
          },
          "metadata": {},
          "execution_count": 26
        }
      ],
      "source": [
        "recall_score.mean()"
      ]
    },
    {
      "cell_type": "code",
      "execution_count": null,
      "metadata": {
        "colab": {
          "base_uri": "https://localhost:8080/"
        },
        "id": "_xsHYrbHW309",
        "outputId": "1a1e2628-ccec-4031-f32c-c60349a41269"
      },
      "outputs": [
        {
          "output_type": "execute_result",
          "data": {
            "text/plain": [
              "0.02135660834769216"
            ]
          },
          "metadata": {},
          "execution_count": 27
        }
      ],
      "source": [
        "recall_score.std()"
      ]
    },
    {
      "cell_type": "markdown",
      "metadata": {
        "id": "EwRfUO5SW7dV"
      },
      "source": [
        "### Weighted Recall"
      ]
    },
    {
      "cell_type": "code",
      "execution_count": null,
      "metadata": {
        "colab": {
          "base_uri": "https://localhost:8080/"
        },
        "id": "dU-Hd_i1W-Vt",
        "outputId": "d45bbced-402c-4f3a-a424-e66e9477c24d"
      },
      "outputs": [
        {
          "output_type": "stream",
          "name": "stdout",
          "text": [
            "              precision    recall  f1-score   support\n",
            "\n",
            "     Abusive       0.74      0.63      0.68       217\n",
            " Not-Abusive       0.84      0.90      0.87       483\n",
            "\n",
            "    accuracy                           0.82       700\n",
            "   macro avg       0.79      0.76      0.78       700\n",
            "weighted avg       0.81      0.82      0.81       700\n",
            "\n",
            "              precision    recall  f1-score   support\n",
            "\n",
            "     Abusive       0.67      0.55      0.60       217\n",
            " Not-Abusive       0.81      0.88      0.84       483\n",
            "\n",
            "    accuracy                           0.78       700\n",
            "   macro avg       0.74      0.71      0.72       700\n",
            "weighted avg       0.77      0.78      0.77       700\n",
            "\n",
            "              precision    recall  f1-score   support\n",
            "\n",
            "     Abusive       0.67      0.56      0.61       216\n",
            " Not-Abusive       0.82      0.88      0.85       483\n",
            "\n",
            "    accuracy                           0.78       699\n",
            "   macro avg       0.74      0.72      0.73       699\n",
            "weighted avg       0.77      0.78      0.77       699\n",
            "\n",
            "              precision    recall  f1-score   support\n",
            "\n",
            "     Abusive       0.66      0.53      0.59       217\n",
            " Not-Abusive       0.81      0.88      0.84       482\n",
            "\n",
            "    accuracy                           0.77       699\n",
            "   macro avg       0.73      0.70      0.71       699\n",
            "weighted avg       0.76      0.77      0.76       699\n",
            "\n",
            "              precision    recall  f1-score   support\n",
            "\n",
            "     Abusive       0.70      0.54      0.61       217\n",
            " Not-Abusive       0.81      0.90      0.85       482\n",
            "\n",
            "    accuracy                           0.79       699\n",
            "   macro avg       0.76      0.72      0.73       699\n",
            "weighted avg       0.78      0.79      0.78       699\n",
            "\n",
            "[0.81571429 0.77714286 0.77968526 0.76824034 0.78683834]\n"
          ]
        }
      ],
      "source": [
        "from sklearn.metrics import recall_score\n",
        "def classification_report_with_accuracy_score(y_true, y_pred):\n",
        "\n",
        "    print(classification_report(y_true, y_pred)) # print classification report\n",
        "    return recall_score(y_true, y_pred,average=\"weighted\")\n",
        "\n",
        "\n",
        "\n",
        "\n",
        "\n",
        "kfold = StratifiedKFold(n_splits=5, random_state=42,shuffle=True)\n",
        "# Nested CV with parameter optimization\n",
        "recall_score = cross_val_score(SVC__tfidf, X=cross_val_df['text'].values, y=cross_val_df['labels'].values, cv=kfold, \n",
        "               scoring=make_scorer(classification_report_with_accuracy_score))\n",
        "print(recall_score) "
      ]
    },
    {
      "cell_type": "code",
      "execution_count": null,
      "metadata": {
        "colab": {
          "base_uri": "https://localhost:8080/"
        },
        "id": "MgEYFdVuXCgD",
        "outputId": "009a8ca7-0604-48f7-99c2-d7400a6921ab"
      },
      "outputs": [
        {
          "output_type": "execute_result",
          "data": {
            "text/plain": [
              "0.7855242182709994"
            ]
          },
          "metadata": {},
          "execution_count": 29
        }
      ],
      "source": [
        "recall_score.mean()"
      ]
    },
    {
      "cell_type": "code",
      "execution_count": null,
      "metadata": {
        "colab": {
          "base_uri": "https://localhost:8080/"
        },
        "id": "1TC8SLQSXFm8",
        "outputId": "c610cb54-726a-4133-a16d-ae96649bde12"
      },
      "outputs": [
        {
          "output_type": "execute_result",
          "data": {
            "text/plain": [
              "0.01622491920091351"
            ]
          },
          "metadata": {},
          "execution_count": 30
        }
      ],
      "source": [
        "recall_score.std()"
      ]
    },
    {
      "cell_type": "markdown",
      "metadata": {
        "id": "5-tRNmCdJh9W"
      },
      "source": [
        "### Accuracy"
      ]
    },
    {
      "cell_type": "code",
      "execution_count": null,
      "metadata": {
        "id": "YcIqBZW3JlxY"
      },
      "outputs": [],
      "source": [
        "nested_score = cross_val_score(SVC__tfidf, X=cross_val_df['text'].values, y=cross_val_df['labels'].values, cv=kfold, \n",
        "               scoring=\"accuracy\")"
      ]
    },
    {
      "cell_type": "code",
      "execution_count": null,
      "metadata": {
        "colab": {
          "base_uri": "https://localhost:8080/"
        },
        "id": "yBTdIFw-Jq3z",
        "outputId": "73f9f2d2-045e-4c9c-d9f7-c5592edf116b"
      },
      "outputs": [
        {
          "output_type": "execute_result",
          "data": {
            "text/plain": [
              "0.7855242182709994"
            ]
          },
          "metadata": {},
          "execution_count": 33
        }
      ],
      "source": [
        "nested_score.mean()"
      ]
    },
    {
      "cell_type": "code",
      "execution_count": null,
      "metadata": {
        "colab": {
          "base_uri": "https://localhost:8080/"
        },
        "id": "fIhHhYxoXJ1e",
        "outputId": "8d82c40e-73b2-4035-d0e1-14e0e78ef1bc"
      },
      "outputs": [
        {
          "output_type": "execute_result",
          "data": {
            "text/plain": [
              "0.01622491920091351"
            ]
          },
          "metadata": {},
          "execution_count": 34
        }
      ],
      "source": [
        "nested_score.std()"
      ]
    },
    {
      "cell_type": "markdown",
      "metadata": {
        "id": "UfncWa9vUdrv"
      },
      "source": [
        "## SVC BOW"
      ]
    },
    {
      "cell_type": "markdown",
      "source": [
        "## Macro Precision"
      ],
      "metadata": {
        "id": "lcH-quTj-Awx"
      }
    },
    {
      "cell_type": "code",
      "source": [
        "from sklearn.metrics import classification_report, accuracy_score,precision_score, make_scorer, f1_score\n",
        "from sklearn.model_selection import cross_val_score, StratifiedKFold\n",
        "\n",
        "def classification_report_with_accuracy_score(y_true, y_pred):\n",
        "\n",
        "    print(classification_report(y_true, y_pred)) # print classification report\n",
        "    return precision_score(y_true, y_pred,average=\"macro\")\n",
        "\n",
        "    \n",
        "kfold = StratifiedKFold(n_splits=5, random_state=42,shuffle=True)\n",
        "# Nested CV with parameter optimization\n",
        "precision_score = cross_val_score(SVC__tfidf, X=cross_val_df['text'].values, y=cross_val_df['labels'].values, cv=kfold, \n",
        "               scoring=make_scorer(classification_report_with_accuracy_score))\n",
        "print(precision_score) "
      ],
      "metadata": {
        "colab": {
          "base_uri": "https://localhost:8080/"
        },
        "id": "cLIneN5Y-DdZ",
        "outputId": "ef85d856-f545-4277-e561-b8400cc94046"
      },
      "execution_count": null,
      "outputs": [
        {
          "output_type": "stream",
          "name": "stdout",
          "text": [
            "              precision    recall  f1-score   support\n",
            "\n",
            "     Abusive       0.74      0.63      0.68       217\n",
            " Not-Abusive       0.84      0.90      0.87       483\n",
            "\n",
            "    accuracy                           0.82       700\n",
            "   macro avg       0.79      0.76      0.78       700\n",
            "weighted avg       0.81      0.82      0.81       700\n",
            "\n",
            "              precision    recall  f1-score   support\n",
            "\n",
            "     Abusive       0.67      0.55      0.60       217\n",
            " Not-Abusive       0.81      0.88      0.84       483\n",
            "\n",
            "    accuracy                           0.78       700\n",
            "   macro avg       0.74      0.71      0.72       700\n",
            "weighted avg       0.77      0.78      0.77       700\n",
            "\n",
            "              precision    recall  f1-score   support\n",
            "\n",
            "     Abusive       0.67      0.56      0.61       216\n",
            " Not-Abusive       0.82      0.88      0.85       483\n",
            "\n",
            "    accuracy                           0.78       699\n",
            "   macro avg       0.74      0.72      0.73       699\n",
            "weighted avg       0.77      0.78      0.77       699\n",
            "\n",
            "              precision    recall  f1-score   support\n",
            "\n",
            "     Abusive       0.66      0.53      0.59       217\n",
            " Not-Abusive       0.81      0.88      0.84       482\n",
            "\n",
            "    accuracy                           0.77       699\n",
            "   macro avg       0.73      0.70      0.71       699\n",
            "weighted avg       0.76      0.77      0.76       699\n",
            "\n",
            "              precision    recall  f1-score   support\n",
            "\n",
            "     Abusive       0.70      0.54      0.61       217\n",
            " Not-Abusive       0.81      0.90      0.85       482\n",
            "\n",
            "    accuracy                           0.79       699\n",
            "   macro avg       0.76      0.72      0.73       699\n",
            "weighted avg       0.78      0.79      0.78       699\n",
            "\n",
            "[0.79045856 0.74246794 0.74494813 0.73124318 0.75797014]\n"
          ]
        }
      ]
    },
    {
      "cell_type": "code",
      "source": [
        "precision_score.mean()"
      ],
      "metadata": {
        "colab": {
          "base_uri": "https://localhost:8080/"
        },
        "id": "yNfSmOPr-Fu4",
        "outputId": "9a416f24-e1bd-4c1f-9445-278702b37eed"
      },
      "execution_count": null,
      "outputs": [
        {
          "output_type": "execute_result",
          "data": {
            "text/plain": [
              "0.7534175913398048"
            ]
          },
          "metadata": {},
          "execution_count": 32
        }
      ]
    },
    {
      "cell_type": "code",
      "source": [
        "precision_score.std()"
      ],
      "metadata": {
        "id": "LEA4z43m-J7p",
        "outputId": "fab93e03-29c1-4d43-d988-5b68ddacacc8",
        "colab": {
          "base_uri": "https://localhost:8080/"
        }
      },
      "execution_count": null,
      "outputs": [
        {
          "output_type": "execute_result",
          "data": {
            "text/plain": [
              "0.020376897375067753"
            ]
          },
          "metadata": {},
          "execution_count": 33
        }
      ]
    },
    {
      "cell_type": "markdown",
      "metadata": {
        "id": "se2DHFH1XPz-"
      },
      "source": [
        "### Macro F1"
      ]
    },
    {
      "cell_type": "code",
      "source": [
        "SVC"
      ],
      "metadata": {
        "id": "lMKmQGBAGvPq",
        "colab": {
          "base_uri": "https://localhost:8080/",
          "height": 165
        },
        "outputId": "717acc27-3448-47bd-9395-7b8b2032c7f6"
      },
      "execution_count": null,
      "outputs": [
        {
          "output_type": "error",
          "ename": "NameError",
          "evalue": "ignored",
          "traceback": [
            "\u001b[0;31m---------------------------------------------------------------------------\u001b[0m",
            "\u001b[0;31mNameError\u001b[0m                                 Traceback (most recent call last)",
            "\u001b[0;32m<ipython-input-35-dc829b6e24b7>\u001b[0m in \u001b[0;36m<module>\u001b[0;34m()\u001b[0m\n\u001b[0;32m----> 1\u001b[0;31m \u001b[0mSVC\u001b[0m\u001b[0;34m\u001b[0m\u001b[0;34m\u001b[0m\u001b[0m\n\u001b[0m",
            "\u001b[0;31mNameError\u001b[0m: name 'SVC' is not defined"
          ]
        }
      ]
    },
    {
      "cell_type": "code",
      "execution_count": null,
      "metadata": {
        "id": "a7lVtmaoUg2h"
      },
      "outputs": [],
      "source": [
        "from sklearn.metrics import classification_report, accuracy_score, make_scorer, f1_score\n",
        "from sklearn.model_selection import cross_val_score, StratifiedKFold\n",
        "\n",
        "def classification_report_with_accuracy_score(y_true, y_pred):\n",
        "    print(classification_report(y_true, y_pred)) # print classification report\n",
        "    return f1_score(y_true, y_pred,average=\"macro\")\n",
        "\n",
        "    \n",
        "kfold = StratifiedKFold(n_splits=5, random_state=42,shuffle=True)\n",
        "# Nested CV with parameter optimization\n",
        "nested_score = cross_val_score(SVC__bow, X=cross_val_df['text'].values, y=cross_val_df['labels'].values, cv=kfold, \n",
        "               scoring=make_scorer(classification_report_with_accuracy_score))\n",
        "print(nested_score) "
      ]
    },
    {
      "cell_type": "code",
      "execution_count": null,
      "metadata": {
        "colab": {
          "base_uri": "https://localhost:8080/"
        },
        "id": "wEa6QMWxUrl3",
        "outputId": "5b7e2d77-9f25-4657-f6fd-d9d985425bfe"
      },
      "outputs": [
        {
          "output_type": "execute_result",
          "data": {
            "text/plain": [
              "0.7855242182709994"
            ]
          },
          "metadata": {},
          "execution_count": 36
        }
      ],
      "source": [
        "nested_score.mean()"
      ]
    },
    {
      "cell_type": "code",
      "execution_count": null,
      "metadata": {
        "colab": {
          "base_uri": "https://localhost:8080/"
        },
        "id": "MndKdaX4UtHw",
        "outputId": "82919d0f-c5b2-4b2d-b58e-49f431b95b66"
      },
      "outputs": [
        {
          "output_type": "execute_result",
          "data": {
            "text/plain": [
              "0.01622491920091351"
            ]
          },
          "metadata": {},
          "execution_count": 37
        }
      ],
      "source": [
        "nested_score.std()"
      ]
    },
    {
      "cell_type": "markdown",
      "metadata": {
        "id": "ew0IcpVhbTws"
      },
      "source": [
        "### Confusion Matrix"
      ]
    },
    {
      "cell_type": "code",
      "execution_count": null,
      "metadata": {
        "colab": {
          "base_uri": "https://localhost:8080/"
        },
        "id": "9HDT3yhzbWKO",
        "outputId": "4349bc1f-6455-48a5-c659-eef6ef347361"
      },
      "outputs": [
        {
          "output_type": "stream",
          "name": "stdout",
          "text": [
            "[[ 609  475]\n",
            " [ 275 2138]]\n"
          ]
        }
      ],
      "source": [
        "from sklearn.model_selection import cross_val_predict\n",
        "y_pred = cross_val_predict(SVC__tfidf, X=cross_val_df['text'].values, y=cross_val_df['labels'].values, cv=kfold)\n",
        "conf_mat = confusion_matrix(cross_val_df['labels'].values, y_pred)\n",
        "\n",
        "print(conf_mat)"
      ]
    },
    {
      "cell_type": "markdown",
      "metadata": {
        "id": "1_nCkL_ZXTdF"
      },
      "source": [
        "### Weighted F1"
      ]
    },
    {
      "cell_type": "code",
      "execution_count": null,
      "metadata": {
        "colab": {
          "base_uri": "https://localhost:8080/"
        },
        "id": "RuTrn5FBXVxU",
        "outputId": "2758a6bf-ab27-4179-d8be-6d80a1e8aac3"
      },
      "outputs": [
        {
          "output_type": "stream",
          "name": "stdout",
          "text": [
            "              precision    recall  f1-score   support\n",
            "\n",
            "     Abusive       0.68      0.65      0.66       217\n",
            " Not-Abusive       0.84      0.86      0.85       483\n",
            "\n",
            "    accuracy                           0.80       700\n",
            "   macro avg       0.76      0.75      0.76       700\n",
            "weighted avg       0.79      0.80      0.79       700\n",
            "\n",
            "              precision    recall  f1-score   support\n",
            "\n",
            "     Abusive       0.65      0.57      0.60       217\n",
            " Not-Abusive       0.82      0.86      0.84       483\n",
            "\n",
            "    accuracy                           0.77       700\n",
            "   macro avg       0.73      0.71      0.72       700\n",
            "weighted avg       0.76      0.77      0.77       700\n",
            "\n",
            "              precision    recall  f1-score   support\n",
            "\n",
            "     Abusive       0.63      0.55      0.59       216\n",
            " Not-Abusive       0.81      0.86      0.83       483\n",
            "\n",
            "    accuracy                           0.76       699\n",
            "   macro avg       0.72      0.70      0.71       699\n",
            "weighted avg       0.76      0.76      0.76       699\n",
            "\n",
            "              precision    recall  f1-score   support\n",
            "\n",
            "     Abusive       0.64      0.53      0.58       217\n",
            " Not-Abusive       0.80      0.87      0.83       482\n",
            "\n",
            "    accuracy                           0.76       699\n",
            "   macro avg       0.72      0.70      0.71       699\n",
            "weighted avg       0.75      0.76      0.75       699\n",
            "\n",
            "              precision    recall  f1-score   support\n",
            "\n",
            "     Abusive       0.64      0.55      0.59       217\n",
            " Not-Abusive       0.81      0.86      0.83       482\n",
            "\n",
            "    accuracy                           0.76       699\n",
            "   macro avg       0.72      0.70      0.71       699\n",
            "weighted avg       0.76      0.76      0.76       699\n",
            "\n",
            "[0.79420811 0.7654979  0.75763312 0.75436952 0.75728421]\n"
          ]
        }
      ],
      "source": [
        "from sklearn.metrics import classification_report, accuracy_score, make_scorer, f1_score\n",
        "from sklearn.model_selection import cross_val_score, StratifiedKFold\n",
        "\n",
        "def classification_report_with_accuracy_score(y_true, y_pred):\n",
        "    print(classification_report(y_true, y_pred)) # print classification report\n",
        "    return f1_score(y_true, y_pred,average=\"weighted\")\n",
        "\n",
        "    \n",
        "kfold = StratifiedKFold(n_splits=5, random_state=42,shuffle=True)\n",
        "# Nested CV with parameter optimization\n",
        "nested_score = cross_val_score(SVC__bow, X=cross_val_df['text'].values, y=cross_val_df['labels'].values, cv=kfold, \n",
        "               scoring=make_scorer(classification_report_with_accuracy_score))\n",
        "print(nested_score) "
      ]
    },
    {
      "cell_type": "code",
      "execution_count": null,
      "metadata": {
        "colab": {
          "base_uri": "https://localhost:8080/"
        },
        "id": "Vx0tO9FEXfkj",
        "outputId": "d84c294a-f4d3-49c3-f57e-1d16610bd572"
      },
      "outputs": [
        {
          "output_type": "execute_result",
          "data": {
            "text/plain": [
              "0.7657985730131502"
            ]
          },
          "metadata": {},
          "execution_count": 42
        }
      ],
      "source": [
        "nested_score.mean()"
      ]
    },
    {
      "cell_type": "code",
      "execution_count": null,
      "metadata": {
        "colab": {
          "base_uri": "https://localhost:8080/"
        },
        "id": "uzRgVyhlXijP",
        "outputId": "cc320321-2723-4f16-e145-387345425319"
      },
      "outputs": [
        {
          "output_type": "execute_result",
          "data": {
            "text/plain": [
              "0.014676404848267176"
            ]
          },
          "metadata": {},
          "execution_count": 43
        }
      ],
      "source": [
        "nested_score.std()"
      ]
    },
    {
      "cell_type": "markdown",
      "metadata": {
        "id": "MdtuBKLIbLtK"
      },
      "source": [
        "### Confusion Matrix"
      ]
    },
    {
      "cell_type": "code",
      "execution_count": null,
      "metadata": {
        "id": "Ilt2phk4a0HC"
      },
      "outputs": [],
      "source": [
        "from sklearn.model_selection import cross_val_predict\n",
        "from sklearn.metrics import confusion_matrix\n",
        "y_pred = cross_val_predict(SVC__bow, X=cross_val_df['text'].values, y=cross_val_df['labels'].values, cv=kfold)\n",
        "conf_mat = confusion_matrix(cross_val_df['labels'].values, y_pred)"
      ]
    },
    {
      "cell_type": "code",
      "execution_count": null,
      "metadata": {
        "colab": {
          "base_uri": "https://localhost:8080/"
        },
        "id": "mHmREE9Na_vs",
        "outputId": "dae9f5b8-5a12-4b22-c2d3-a14a10c23208"
      },
      "outputs": [
        {
          "output_type": "execute_result",
          "data": {
            "text/plain": [
              "array([[ 614,  470],\n",
              "       [ 335, 2078]])"
            ]
          },
          "metadata": {},
          "execution_count": 45
        }
      ],
      "source": [
        "conf_mat"
      ]
    },
    {
      "cell_type": "markdown",
      "metadata": {
        "id": "zf_Ut2bzvvOo"
      },
      "source": [
        "#### Macro Precision"
      ]
    },
    {
      "cell_type": "code",
      "execution_count": null,
      "metadata": {
        "colab": {
          "base_uri": "https://localhost:8080/"
        },
        "id": "2u-xyW7H3wSV",
        "outputId": "d7b793d5-01fe-4fe1-d772-de4748a328ae"
      },
      "outputs": [
        {
          "output_type": "stream",
          "name": "stdout",
          "text": [
            "              precision    recall  f1-score   support\n",
            "\n",
            "     Abusive       0.68      0.65      0.66       217\n",
            " Not-Abusive       0.84      0.86      0.85       483\n",
            "\n",
            "    accuracy                           0.79       700\n",
            "   macro avg       0.76      0.75      0.76       700\n",
            "weighted avg       0.79      0.79      0.79       700\n",
            "\n",
            "              precision    recall  f1-score   support\n",
            "\n",
            "     Abusive       0.65      0.57      0.60       217\n",
            " Not-Abusive       0.82      0.86      0.84       483\n",
            "\n",
            "    accuracy                           0.77       700\n",
            "   macro avg       0.73      0.71      0.72       700\n",
            "weighted avg       0.76      0.77      0.77       700\n",
            "\n",
            "              precision    recall  f1-score   support\n",
            "\n",
            "     Abusive       0.63      0.55      0.59       216\n",
            " Not-Abusive       0.81      0.86      0.83       483\n",
            "\n",
            "    accuracy                           0.76       699\n",
            "   macro avg       0.72      0.70      0.71       699\n",
            "weighted avg       0.75      0.76      0.76       699\n",
            "\n",
            "              precision    recall  f1-score   support\n",
            "\n",
            "     Abusive       0.64      0.53      0.58       217\n",
            " Not-Abusive       0.80      0.87      0.83       482\n",
            "\n",
            "    accuracy                           0.76       699\n",
            "   macro avg       0.72      0.70      0.71       699\n",
            "weighted avg       0.75      0.76      0.75       699\n",
            "\n",
            "              precision    recall  f1-score   support\n",
            "\n",
            "     Abusive       0.64      0.55      0.59       217\n",
            " Not-Abusive       0.81      0.86      0.83       482\n",
            "\n",
            "    accuracy                           0.76       699\n",
            "   macro avg       0.72      0.70      0.71       699\n",
            "weighted avg       0.76      0.76      0.76       699\n",
            "\n",
            "[0.76007094 0.73152735 0.7198049  0.72117855 0.72247869]\n"
          ]
        }
      ],
      "source": [
        "from sklearn.metrics import classification_report, accuracy_score,precision_score, make_scorer, f1_score\n",
        "from sklearn.model_selection import cross_val_score, StratifiedKFold\n",
        "\n",
        "def classification_report_with_accuracy_score(y_true, y_pred):\n",
        "\n",
        "    print(classification_report(y_true, y_pred)) # print classification report\n",
        "    return precision_score(y_true, y_pred,average=\"macro\")\n",
        "\n",
        "    \n",
        "kfold = StratifiedKFold(n_splits=5, random_state=42,shuffle=True)\n",
        "# Nested CV with parameter optimization\n",
        "precision_score = cross_val_score(SVC__bow, X=cross_val_df['text'].values, y=cross_val_df['labels'].values, cv=kfold, \n",
        "               scoring=make_scorer(classification_report_with_accuracy_score))\n",
        "print(precision_score) "
      ]
    },
    {
      "cell_type": "code",
      "execution_count": null,
      "metadata": {
        "colab": {
          "base_uri": "https://localhost:8080/"
        },
        "id": "GRrB2Xxb36bR",
        "outputId": "30adb2a4-2e93-45cf-f3e0-7945e53d66d4"
      },
      "outputs": [
        {
          "output_type": "stream",
          "name": "stdout",
          "text": [
            "0.7310120861527588\n"
          ]
        }
      ],
      "source": [
        "print(precision_score.mean())"
      ]
    },
    {
      "cell_type": "code",
      "execution_count": null,
      "metadata": {
        "colab": {
          "base_uri": "https://localhost:8080/"
        },
        "id": "JuZiRKNv3_WL",
        "outputId": "4f8b88aa-63ff-4d77-8ea4-7240891543ce"
      },
      "outputs": [
        {
          "output_type": "stream",
          "name": "stdout",
          "text": [
            "0.015098351753092773\n"
          ]
        }
      ],
      "source": [
        "print(precision_score.std())"
      ]
    },
    {
      "cell_type": "markdown",
      "metadata": {
        "id": "mctfQ8RJbhRE"
      },
      "source": [
        "### Weighted Precision"
      ]
    },
    {
      "cell_type": "code",
      "execution_count": null,
      "metadata": {
        "colab": {
          "base_uri": "https://localhost:8080/"
        },
        "id": "E6LifLOoblRh",
        "outputId": "b533bfad-38f9-463a-da3c-ef70f9745ea7"
      },
      "outputs": [
        {
          "output_type": "stream",
          "name": "stdout",
          "text": [
            "0.7642499722089258\n",
            "0.014891340372114894\n"
          ]
        }
      ],
      "source": [
        "from sklearn.metrics import classification_report, accuracy_score,precision_score, make_scorer, f1_score\n",
        "from sklearn.model_selection import cross_val_score, StratifiedKFold\n",
        "\n",
        "def classification_report_with_accuracy_score(y_true, y_pred):\n",
        "    return precision_score(y_true, y_pred,average=\"weighted\")\n",
        "\n",
        "    \n",
        "kfold = StratifiedKFold(n_splits=5, random_state=42,shuffle=True)\n",
        "# Nested CV with parameter optimization\n",
        "precision_score = cross_val_score(SVC__bow, X=cross_val_df['text'].values, y=cross_val_df['labels'].values, cv=kfold, \n",
        "               scoring=make_scorer(classification_report_with_accuracy_score))\n",
        "print(precision_score.mean())\n",
        "print(precision_score.std()) "
      ]
    },
    {
      "cell_type": "markdown",
      "metadata": {
        "id": "x4BtS-J84CCA"
      },
      "source": [
        "### Macro Recall"
      ]
    },
    {
      "cell_type": "code",
      "execution_count": null,
      "metadata": {
        "colab": {
          "base_uri": "https://localhost:8080/"
        },
        "id": "CC1GmyCf4Dtf",
        "outputId": "9a631878-123e-4a15-9c22-609c1e89ca4f"
      },
      "outputs": [
        {
          "output_type": "stream",
          "name": "stdout",
          "text": [
            "              precision    recall  f1-score   support\n",
            "\n",
            "     Abusive       0.68      0.65      0.66       217\n",
            " Not-Abusive       0.84      0.86      0.85       483\n",
            "\n",
            "    accuracy                           0.80       700\n",
            "   macro avg       0.76      0.75      0.76       700\n",
            "weighted avg       0.79      0.80      0.79       700\n",
            "\n",
            "              precision    recall  f1-score   support\n",
            "\n",
            "     Abusive       0.65      0.57      0.60       217\n",
            " Not-Abusive       0.82      0.86      0.84       483\n",
            "\n",
            "    accuracy                           0.77       700\n",
            "   macro avg       0.73      0.71      0.72       700\n",
            "weighted avg       0.76      0.77      0.77       700\n",
            "\n",
            "              precision    recall  f1-score   support\n",
            "\n",
            "     Abusive       0.63      0.55      0.59       216\n",
            " Not-Abusive       0.81      0.86      0.83       483\n",
            "\n",
            "    accuracy                           0.76       699\n",
            "   macro avg       0.72      0.70      0.71       699\n",
            "weighted avg       0.76      0.76      0.76       699\n",
            "\n",
            "              precision    recall  f1-score   support\n",
            "\n",
            "     Abusive       0.64      0.53      0.58       217\n",
            " Not-Abusive       0.80      0.87      0.83       482\n",
            "\n",
            "    accuracy                           0.76       699\n",
            "   macro avg       0.72      0.70      0.71       699\n",
            "weighted avg       0.75      0.76      0.75       699\n",
            "\n",
            "              precision    recall  f1-score   support\n",
            "\n",
            "     Abusive       0.64      0.55      0.59       217\n",
            " Not-Abusive       0.81      0.86      0.83       482\n",
            "\n",
            "    accuracy                           0.76       699\n",
            "   macro avg       0.72      0.70      0.71       699\n",
            "weighted avg       0.76      0.76      0.76       699\n",
            "\n",
            "[0.75425766 0.71405196 0.70403439 0.69754957 0.70365413]\n"
          ]
        }
      ],
      "source": [
        "from sklearn.metrics import recall_score\n",
        "def classification_report_with_accuracy_score(y_true, y_pred):\n",
        "\n",
        "    print(classification_report(y_true, y_pred)) # print classification report\n",
        "    return recall_score(y_true, y_pred,average=\"macro\")\n",
        "\n",
        "\n",
        "\n",
        "\n",
        "\n",
        "kfold = StratifiedKFold(n_splits=5, random_state=42,shuffle=True)\n",
        "# Nested CV with parameter optimization\n",
        "recall_score = cross_val_score(SVC__bow, X=cross_val_df['text'].values, y=cross_val_df['labels'].values, cv=kfold, \n",
        "               scoring=make_scorer(classification_report_with_accuracy_score))\n",
        "print(recall_score) "
      ]
    },
    {
      "cell_type": "code",
      "execution_count": null,
      "metadata": {
        "colab": {
          "base_uri": "https://localhost:8080/"
        },
        "id": "y6DGn0Hn4PwS",
        "outputId": "fa80e0f4-b4d4-4f54-e0fc-367ab7a607ca"
      },
      "outputs": [
        {
          "output_type": "execute_result",
          "data": {
            "text/plain": [
              "0.7147095434914859"
            ]
          },
          "metadata": {},
          "execution_count": 51
        }
      ],
      "source": [
        "recall_score.mean()"
      ]
    },
    {
      "cell_type": "code",
      "execution_count": null,
      "metadata": {
        "colab": {
          "base_uri": "https://localhost:8080/"
        },
        "id": "_gwBbuvk4T11",
        "outputId": "badb5bab-3053-4f83-b131-31c5f00feb89"
      },
      "outputs": [
        {
          "output_type": "execute_result",
          "data": {
            "text/plain": [
              "0.020470133792572443"
            ]
          },
          "metadata": {},
          "execution_count": 52
        }
      ],
      "source": [
        "recall_score.std()"
      ]
    },
    {
      "cell_type": "markdown",
      "metadata": {
        "id": "bW4ke_SHb0-D"
      },
      "source": [
        "\n",
        "### Weighted Recall"
      ]
    },
    {
      "cell_type": "code",
      "execution_count": null,
      "metadata": {
        "colab": {
          "base_uri": "https://localhost:8080/"
        },
        "id": "iTFEh_Hmb7xC",
        "outputId": "a6c52fe6-c736-4666-9591-1576b9654b5b"
      },
      "outputs": [
        {
          "output_type": "stream",
          "name": "stdout",
          "text": [
            "0.7703674637236869\n",
            "0.012510495959933038\n"
          ]
        }
      ],
      "source": [
        "from sklearn.metrics import recall_score\n",
        "def classification_report_with_accuracy_score(y_true, y_pred):\n",
        "    return recall_score(y_true, y_pred,average=\"weighted\")\n",
        "\n",
        "\n",
        "\n",
        "\n",
        "\n",
        "kfold = StratifiedKFold(n_splits=5, random_state=42,shuffle=True)\n",
        "# Nested CV with parameter optimization\n",
        "recall_score = cross_val_score(SVC__bow, X=cross_val_df['text'].values, y=cross_val_df['labels'].values, cv=kfold, \n",
        "               scoring=make_scorer(classification_report_with_accuracy_score))\n",
        "print(recall_score.mean())\n",
        "print(recall_score.std()) "
      ]
    },
    {
      "cell_type": "markdown",
      "metadata": {
        "id": "wEfQpW1lJz52"
      },
      "source": [
        "### Accuracy"
      ]
    },
    {
      "cell_type": "code",
      "execution_count": null,
      "metadata": {
        "colab": {
          "base_uri": "https://localhost:8080/"
        },
        "id": "dQAgha4dJ19A",
        "outputId": "c2474588-507c-4e52-d80a-d0caca58a214"
      },
      "outputs": [
        {
          "output_type": "execute_result",
          "data": {
            "text/plain": [
              "0.7709388922951155"
            ]
          },
          "metadata": {},
          "execution_count": 54
        }
      ],
      "source": [
        "nested_score = cross_val_score(SVC__bow, X=cross_val_df['text'].values, y=cross_val_df['labels'].values, cv=kfold, \n",
        "               scoring=\"accuracy\")\n",
        "nested_score.mean()"
      ]
    },
    {
      "cell_type": "code",
      "execution_count": null,
      "metadata": {
        "colab": {
          "base_uri": "https://localhost:8080/"
        },
        "id": "HDPBCb6WcGN4",
        "outputId": "a1c6c7de-0543-4cd1-988e-52eb0f1efe3a"
      },
      "outputs": [
        {
          "output_type": "execute_result",
          "data": {
            "text/plain": [
              "0.01308725426097974"
            ]
          },
          "metadata": {},
          "execution_count": 55
        }
      ],
      "source": [
        "nested_score.std()"
      ]
    },
    {
      "cell_type": "markdown",
      "metadata": {
        "id": "Fun_IuwsUyUP"
      },
      "source": [
        "# Random Forest"
      ]
    },
    {
      "cell_type": "code",
      "execution_count": null,
      "metadata": {
        "id": "tVKiJImDUw_A"
      },
      "outputs": [],
      "source": [
        "\n",
        "rf_tfidf = Pipeline([('vect', CountVectorizer()),\n",
        "                    ('tfidf', TfidfTransformer()),\n",
        "                    ('clf', RandomForestClassifier()),\n",
        "                    ])\n",
        "\n",
        "\n",
        "rf_bow = Pipeline([('vect', CountVectorizer()),\n",
        "                    ('clf', RandomForestClassifier()),\n",
        "                    ])"
      ]
    },
    {
      "cell_type": "markdown",
      "metadata": {
        "id": "WgQ2iTwVV7HY"
      },
      "source": [
        "## Random Forest TFIDF"
      ]
    },
    {
      "cell_type": "markdown",
      "metadata": {
        "id": "SSNggxdRcwth"
      },
      "source": [
        "### Macro F1"
      ]
    },
    {
      "cell_type": "code",
      "execution_count": null,
      "metadata": {
        "colab": {
          "base_uri": "https://localhost:8080/"
        },
        "id": "4darpUJIVYIJ",
        "outputId": "5406f8a7-11f9-48d2-f23b-5c703b8ea3a2"
      },
      "outputs": [
        {
          "output_type": "stream",
          "name": "stdout",
          "text": [
            "0.7316971535753638\n",
            "0.022797221925954222\n"
          ]
        }
      ],
      "source": [
        "from sklearn.metrics import classification_report, accuracy_score, make_scorer, f1_score\n",
        "from sklearn.model_selection import cross_val_score, StratifiedKFold\n",
        "\n",
        "def classification_report_with_accuracy_score(y_true, y_pred):\n",
        "    return f1_score(y_true, y_pred,average=\"macro\")\n",
        "\n",
        "    \n",
        "kfold = StratifiedKFold(n_splits=5, random_state=42,shuffle=True)\n",
        "# Nested CV with parameter optimization\n",
        "nested_score = cross_val_score(rf_tfidf, X=cross_val_df['text'].values, y=cross_val_df['labels'].values, cv=kfold, \n",
        "               scoring=make_scorer(classification_report_with_accuracy_score))\n",
        "print(nested_score.mean()) \n",
        "print(nested_score.std())"
      ]
    },
    {
      "cell_type": "markdown",
      "metadata": {
        "id": "oNrhnVCTc9Xa"
      },
      "source": [
        "### Weighted F1"
      ]
    },
    {
      "cell_type": "code",
      "execution_count": null,
      "metadata": {
        "colab": {
          "base_uri": "https://localhost:8080/"
        },
        "id": "10PVyNAidBFq",
        "outputId": "f8acdbfc-5748-481a-ffb1-64550380c53d"
      },
      "outputs": [
        {
          "output_type": "stream",
          "name": "stdout",
          "text": [
            "0.7791113438083012\n",
            "0.022464944773362912\n"
          ]
        }
      ],
      "source": [
        "from sklearn.metrics import classification_report, accuracy_score, make_scorer, f1_score\n",
        "from sklearn.model_selection import cross_val_score, StratifiedKFold\n",
        "\n",
        "def classification_report_with_accuracy_score(y_true, y_pred):\n",
        "    return f1_score(y_true, y_pred,average=\"weighted\")\n",
        "\n",
        "    \n",
        "kfold = StratifiedKFold(n_splits=5, random_state=42,shuffle=True)\n",
        "# Nested CV with parameter optimization\n",
        "nested_score = cross_val_score(rf_tfidf, X=cross_val_df['text'].values, y=cross_val_df['labels'].values, cv=kfold, \n",
        "               scoring=make_scorer(classification_report_with_accuracy_score))\n",
        "print(nested_score.mean()) \n",
        "print(nested_score.std())"
      ]
    },
    {
      "cell_type": "markdown",
      "metadata": {
        "id": "ToY3bQbu4ifC"
      },
      "source": [
        "### Macro Precision"
      ]
    },
    {
      "cell_type": "code",
      "execution_count": null,
      "metadata": {
        "colab": {
          "base_uri": "https://localhost:8080/"
        },
        "id": "jibRRy7p4lUG",
        "outputId": "995f3394-aeaf-418c-c9d0-3c16bfea2bde"
      },
      "outputs": [
        {
          "output_type": "stream",
          "name": "stdout",
          "text": [
            "0.7753252725053834\n",
            "0.028756724704001282\n"
          ]
        }
      ],
      "source": [
        "from sklearn.metrics import classification_report, accuracy_score,precision_score, make_scorer, f1_score\n",
        "from sklearn.model_selection import cross_val_score, StratifiedKFold\n",
        "\n",
        "def classification_report_with_accuracy_score(y_true, y_pred):\n",
        "\n",
        "    return precision_score(y_true, y_pred,average=\"macro\")\n",
        "\n",
        "    \n",
        "kfold = StratifiedKFold(n_splits=5, random_state=42,shuffle=True)\n",
        "# Nested CV with parameter optimization\n",
        "precision_score = cross_val_score(rf_tfidf, X=cross_val_df['text'].values, y=cross_val_df['labels'].values, cv=kfold, \n",
        "               scoring=make_scorer(classification_report_with_accuracy_score))\n",
        "print(precision_score.mean())\n",
        "print(precision_score.std()) "
      ]
    },
    {
      "cell_type": "markdown",
      "metadata": {
        "id": "xFqeXAt0dR75"
      },
      "source": [
        "### Weighted Precision"
      ]
    },
    {
      "cell_type": "code",
      "execution_count": null,
      "metadata": {
        "colab": {
          "base_uri": "https://localhost:8080/"
        },
        "id": "mNykhMisdVfJ",
        "outputId": "a44f12a6-16a0-4cce-c2b4-8190475138c4"
      },
      "outputs": [
        {
          "output_type": "stream",
          "name": "stdout",
          "text": [
            "0.7835536263396788\n",
            "0.02418981415306221\n"
          ]
        }
      ],
      "source": [
        "from sklearn.metrics import classification_report, accuracy_score,precision_score, make_scorer, f1_score\n",
        "from sklearn.model_selection import cross_val_score, StratifiedKFold\n",
        "\n",
        "def classification_report_with_accuracy_score(y_true, y_pred):\n",
        "\n",
        "    return precision_score(y_true, y_pred,average=\"weighted\")\n",
        "\n",
        "    \n",
        "kfold = StratifiedKFold(n_splits=5, random_state=42,shuffle=True)\n",
        "# Nested CV with parameter optimization\n",
        "precision_score = cross_val_score(rf_tfidf, X=cross_val_df['text'].values, y=cross_val_df['labels'].values, cv=kfold, \n",
        "               scoring=make_scorer(classification_report_with_accuracy_score))\n",
        "print(precision_score.mean())\n",
        "print(precision_score.std()) "
      ]
    },
    {
      "cell_type": "markdown",
      "metadata": {
        "id": "GscOgRnT42Gn"
      },
      "source": [
        "### Macro Recall"
      ]
    },
    {
      "cell_type": "code",
      "execution_count": null,
      "metadata": {
        "colab": {
          "base_uri": "https://localhost:8080/"
        },
        "id": "Kxxo47L145dK",
        "outputId": "d63ef1c4-7b7f-43b4-c13a-f0b876449a29"
      },
      "outputs": [
        {
          "output_type": "stream",
          "name": "stdout",
          "text": [
            "0.7141850478394536\n",
            "0.023992985916912426\n"
          ]
        }
      ],
      "source": [
        "from sklearn.metrics import recall_score\n",
        "def classification_report_with_accuracy_score(y_true, y_pred):\n",
        "    return recall_score(y_true, y_pred,average=\"macro\")\n",
        "\n",
        "\n",
        "\n",
        "\n",
        "\n",
        "kfold = StratifiedKFold(n_splits=5, random_state=42,shuffle=True)\n",
        "# Nested CV with parameter optimization\n",
        "recall_score = cross_val_score(rf_tfidf, X=cross_val_df['text'].values, y=cross_val_df['labels'].values, cv=kfold, \n",
        "               scoring=make_scorer(classification_report_with_accuracy_score))\n",
        "print(recall_score.mean()) \n",
        "print(recall_score.std()) "
      ]
    },
    {
      "cell_type": "markdown",
      "metadata": {
        "id": "fFanEJimdmCo"
      },
      "source": [
        "### Weighted Recall"
      ]
    },
    {
      "cell_type": "code",
      "execution_count": null,
      "metadata": {
        "colab": {
          "base_uri": "https://localhost:8080/"
        },
        "id": "71cMcAWmdot3",
        "outputId": "602f3275-a183-4b53-c264-87aa818e1f57"
      },
      "outputs": [
        {
          "output_type": "stream",
          "name": "stdout",
          "text": [
            "0.7895319844676069\n",
            "0.01989134407090116\n"
          ]
        }
      ],
      "source": [
        "from sklearn.metrics import recall_score\n",
        "def classification_report_with_accuracy_score(y_true, y_pred):\n",
        "    return recall_score(y_true, y_pred,average=\"weighted\")\n",
        "\n",
        "\n",
        "\n",
        "\n",
        "\n",
        "kfold = StratifiedKFold(n_splits=5, random_state=42,shuffle=True)\n",
        "# Nested CV with parameter optimization\n",
        "recall_score = cross_val_score(rf_tfidf, X=cross_val_df['text'].values, y=cross_val_df['labels'].values, cv=kfold, \n",
        "               scoring=make_scorer(classification_report_with_accuracy_score))\n",
        "print(recall_score.mean()) \n",
        "print(recall_score.std()) "
      ]
    },
    {
      "cell_type": "markdown",
      "metadata": {
        "id": "Hg5bGPPIKHnY"
      },
      "source": [
        "### Accuracy"
      ]
    },
    {
      "cell_type": "code",
      "execution_count": null,
      "metadata": {
        "id": "cNqxkXlwKKLI"
      },
      "outputs": [],
      "source": [
        "nested_score = cross_val_score(rf_tfidf, X=cross_val_df['text'].values, y=cross_val_df['labels'].values, cv=kfold, \n",
        "               scoring=\"accuracy\")"
      ]
    },
    {
      "cell_type": "code",
      "execution_count": null,
      "metadata": {
        "colab": {
          "base_uri": "https://localhost:8080/"
        },
        "id": "7IYaUvVmKQTH",
        "outputId": "3e47e7d8-9a6a-4153-d60f-4945690545b7"
      },
      "outputs": [
        {
          "output_type": "execute_result",
          "data": {
            "text/plain": [
              "0.7895319844676068"
            ]
          },
          "metadata": {},
          "execution_count": 64
        }
      ],
      "source": [
        "nested_score.mean()"
      ]
    },
    {
      "cell_type": "code",
      "execution_count": null,
      "metadata": {
        "colab": {
          "base_uri": "https://localhost:8080/"
        },
        "id": "942dHw04d1lo",
        "outputId": "8e536832-0e72-485f-a574-1e08b82e3cc8"
      },
      "outputs": [
        {
          "output_type": "execute_result",
          "data": {
            "text/plain": [
              "0.019854383186432213"
            ]
          },
          "metadata": {},
          "execution_count": 65
        }
      ],
      "source": [
        "nested_score.std()"
      ]
    },
    {
      "cell_type": "markdown",
      "metadata": {
        "id": "GUUBGuiid81B"
      },
      "source": [
        "### Confusion Matrix"
      ]
    },
    {
      "cell_type": "code",
      "execution_count": null,
      "metadata": {
        "id": "b9XAgvXheELs"
      },
      "outputs": [],
      "source": [
        "from sklearn.model_selection import cross_val_predict\n",
        "from sklearn.metrics import confusion_matrix\n",
        "y_pred = cross_val_predict(rf_tfidf, X=cross_val_df['text'].values, y=cross_val_df['labels'].values, cv=kfold)\n",
        "conf_mat = confusion_matrix(cross_val_df['labels'].values, y_pred)"
      ]
    },
    {
      "cell_type": "code",
      "execution_count": null,
      "metadata": {
        "colab": {
          "base_uri": "https://localhost:8080/"
        },
        "id": "_YNQZC2ReIdP",
        "outputId": "43934bda-0a0a-42e6-e1e8-e3abf0395e0b"
      },
      "outputs": [
        {
          "output_type": "execute_result",
          "data": {
            "text/plain": [
              "array([[ 544,  540],\n",
              "       [ 191, 2222]])"
            ]
          },
          "metadata": {},
          "execution_count": 67
        }
      ],
      "source": [
        "conf_mat"
      ]
    },
    {
      "cell_type": "markdown",
      "metadata": {
        "id": "lthy_UoNWFNf"
      },
      "source": [
        "## Random Forest with BOW"
      ]
    },
    {
      "cell_type": "markdown",
      "metadata": {
        "id": "Xi1zAR54eVvX"
      },
      "source": [
        "### Macro F1"
      ]
    },
    {
      "cell_type": "code",
      "execution_count": null,
      "metadata": {
        "colab": {
          "base_uri": "https://localhost:8080/"
        },
        "id": "ZXKAA_LpWIRg",
        "outputId": "20093015-e6a7-45b8-c28f-9fc7123a6b9c"
      },
      "outputs": [
        {
          "output_type": "stream",
          "name": "stdout",
          "text": [
            "0.735226506442555\n",
            "0.020019620788667765\n"
          ]
        }
      ],
      "source": [
        "from sklearn.metrics import classification_report, accuracy_score, make_scorer, f1_score\n",
        "from sklearn.model_selection import cross_val_score, StratifiedKFold\n",
        "\n",
        "def classification_report_with_accuracy_score(y_true, y_pred):\n",
        "    return f1_score(y_true, y_pred,average=\"macro\")\n",
        "\n",
        "    \n",
        "kfold = StratifiedKFold(n_splits=5, random_state=42,shuffle=True)\n",
        "# Nested CV with parameter optimization\n",
        "nested_score = cross_val_score(rf_bow, X=cross_val_df['text'].values, y=cross_val_df['labels'].values, cv=kfold, \n",
        "               scoring=make_scorer(classification_report_with_accuracy_score))\n",
        "print(nested_score.mean()) \n",
        "print(nested_score.std())"
      ]
    },
    {
      "cell_type": "markdown",
      "metadata": {
        "id": "7_EO_rR6eeZ9"
      },
      "source": [
        "### Weighted F1"
      ]
    },
    {
      "cell_type": "code",
      "execution_count": null,
      "metadata": {
        "colab": {
          "base_uri": "https://localhost:8080/"
        },
        "id": "Sh6DDcrjeaOO",
        "outputId": "e30dade5-77d7-457d-8cf6-e583fb05ccb0"
      },
      "outputs": [
        {
          "output_type": "stream",
          "name": "stdout",
          "text": [
            "0.780449250865904\n",
            "0.016045388465381085\n"
          ]
        }
      ],
      "source": [
        "from sklearn.metrics import classification_report, accuracy_score, make_scorer, f1_score\n",
        "from sklearn.model_selection import cross_val_score, StratifiedKFold\n",
        "\n",
        "def classification_report_with_accuracy_score(y_true, y_pred):\n",
        "    return f1_score(y_true, y_pred,average=\"weighted\")\n",
        "\n",
        "    \n",
        "kfold = StratifiedKFold(n_splits=5, random_state=42,shuffle=True)\n",
        "# Nested CV with parameter optimization\n",
        "nested_score = cross_val_score(rf_bow, X=cross_val_df['text'].values, y=cross_val_df['labels'].values, cv=kfold, \n",
        "               scoring=make_scorer(classification_report_with_accuracy_score))\n",
        "print(nested_score.mean()) \n",
        "print(nested_score.std())"
      ]
    },
    {
      "cell_type": "markdown",
      "metadata": {
        "id": "5T30dI_C5oJB"
      },
      "source": [
        "### Macro Precision"
      ]
    },
    {
      "cell_type": "code",
      "execution_count": null,
      "metadata": {
        "colab": {
          "base_uri": "https://localhost:8080/"
        },
        "id": "cBIMaNLD4dKr",
        "outputId": "611294b6-34d4-48c7-8d73-e74660c15c7c"
      },
      "outputs": [
        {
          "output_type": "stream",
          "name": "stdout",
          "text": [
            "0.7666331279797436\n",
            "0.01669885822704232\n"
          ]
        }
      ],
      "source": [
        "from sklearn.metrics import classification_report, accuracy_score,precision_score, make_scorer, f1_score\n",
        "from sklearn.model_selection import cross_val_score, StratifiedKFold\n",
        "\n",
        "def classification_report_with_accuracy_score(y_true, y_pred):\n",
        "\n",
        "    return precision_score(y_true, y_pred,average=\"macro\")\n",
        "\n",
        "    \n",
        "kfold = StratifiedKFold(n_splits=5, random_state=42,shuffle=True)\n",
        "# Nested CV with parameter optimization\n",
        "precision_score = cross_val_score(rf_bow, X=cross_val_df['text'].values, y=cross_val_df['labels'].values, cv=kfold, \n",
        "               scoring=make_scorer(classification_report_with_accuracy_score))\n",
        "print(precision_score.mean())\n",
        "print(precision_score.std()) "
      ]
    },
    {
      "cell_type": "markdown",
      "metadata": {
        "id": "CPX2ZTEve75p"
      },
      "source": [
        "### Weighted Precision"
      ]
    },
    {
      "cell_type": "code",
      "execution_count": null,
      "metadata": {
        "colab": {
          "base_uri": "https://localhost:8080/"
        },
        "id": "ltLRtI4t52Rc",
        "outputId": "302105c8-3c8e-4f1e-d254-90b4a2e64d47"
      },
      "outputs": [
        {
          "output_type": "stream",
          "name": "stdout",
          "text": [
            "0.7812833816059352\n",
            "0.01813529775282654\n"
          ]
        }
      ],
      "source": [
        "from sklearn.metrics import classification_report, accuracy_score,precision_score, make_scorer, f1_score\n",
        "from sklearn.model_selection import cross_val_score, StratifiedKFold\n",
        "\n",
        "def classification_report_with_accuracy_score(y_true, y_pred):\n",
        "\n",
        "    return precision_score(y_true, y_pred,average=\"weighted\")\n",
        "\n",
        "    \n",
        "kfold = StratifiedKFold(n_splits=5, random_state=42,shuffle=True)\n",
        "# Nested CV with parameter optimization\n",
        "precision_score = cross_val_score(rf_bow, X=cross_val_df['text'].values, y=cross_val_df['labels'].values, cv=kfold, \n",
        "               scoring=make_scorer(classification_report_with_accuracy_score))\n",
        "print(precision_score.mean())\n",
        "print(precision_score.std()) "
      ]
    },
    {
      "cell_type": "markdown",
      "metadata": {
        "id": "dRs44-u16CeG"
      },
      "source": [
        "### Macro Recall"
      ]
    },
    {
      "cell_type": "code",
      "execution_count": null,
      "metadata": {
        "colab": {
          "base_uri": "https://localhost:8080/"
        },
        "id": "XOa7whNV6FyJ",
        "outputId": "6d6f979b-fad9-4c72-ef05-626d47975909"
      },
      "outputs": [
        {
          "output_type": "stream",
          "name": "stdout",
          "text": [
            "0.7175893194502833\n",
            "0.020610521184346316\n"
          ]
        }
      ],
      "source": [
        "from sklearn.metrics import recall_score\n",
        "def classification_report_with_accuracy_score(y_true, y_pred):\n",
        "    return recall_score(y_true, y_pred,average=\"macro\")\n",
        "\n",
        "\n",
        "\n",
        "\n",
        "\n",
        "kfold = StratifiedKFold(n_splits=5, random_state=42,shuffle=True)\n",
        "# Nested CV with parameter optimization\n",
        "recall_score = cross_val_score(rf_bow, X=cross_val_df['text'].values, y=cross_val_df['labels'].values, cv=kfold, \n",
        "               scoring=make_scorer(classification_report_with_accuracy_score))\n",
        "print(recall_score.mean())\n",
        "print(recall_score.std()) "
      ]
    },
    {
      "cell_type": "markdown",
      "metadata": {
        "id": "UgLs3-BxfO-O"
      },
      "source": [
        "### Weighted Recall"
      ]
    },
    {
      "cell_type": "code",
      "execution_count": null,
      "metadata": {
        "colab": {
          "base_uri": "https://localhost:8080/"
        },
        "id": "xLbjUtrs6Oiy",
        "outputId": "5b615fc3-2a53-48b8-8aa8-09667b3a10b1"
      },
      "outputs": [
        {
          "output_type": "stream",
          "name": "stdout",
          "text": [
            "0.7903919885550786\n",
            "0.012833278286177637\n"
          ]
        }
      ],
      "source": [
        "from sklearn.metrics import recall_score\n",
        "def classification_report_with_accuracy_score(y_true, y_pred):\n",
        "    return recall_score(y_true, y_pred,average=\"weighted\")\n",
        "\n",
        "\n",
        "\n",
        "\n",
        "\n",
        "kfold = StratifiedKFold(n_splits=5, random_state=42,shuffle=True)\n",
        "# Nested CV with parameter optimization\n",
        "recall_score = cross_val_score(rf_bow, X=cross_val_df['text'].values, y=cross_val_df['labels'].values, cv=kfold, \n",
        "               scoring=make_scorer(classification_report_with_accuracy_score))\n",
        "print(recall_score.mean())\n",
        "print(recall_score.std()) "
      ]
    },
    {
      "cell_type": "markdown",
      "metadata": {
        "id": "BnhVbIw6fYLe"
      },
      "source": [
        "### Confusion Matrix"
      ]
    },
    {
      "cell_type": "code",
      "execution_count": null,
      "metadata": {
        "id": "UUXR7fiKfZLY"
      },
      "outputs": [],
      "source": [
        "from sklearn.model_selection import cross_val_predict\n",
        "from sklearn.metrics import confusion_matrix\n",
        "y_pred = cross_val_predict(rf_bow, X=cross_val_df['text'].values, y=cross_val_df['labels'].values, cv=kfold)\n",
        "conf_mat = confusion_matrix(cross_val_df['labels'].values, y_pred)"
      ]
    },
    {
      "cell_type": "code",
      "execution_count": null,
      "metadata": {
        "colab": {
          "base_uri": "https://localhost:8080/"
        },
        "id": "jCpPFfF2fjYv",
        "outputId": "0443dbb7-a5b0-4416-bc6b-4606cb357598"
      },
      "outputs": [
        {
          "output_type": "execute_result",
          "data": {
            "text/plain": [
              "array([[ 583,  501],\n",
              "       [ 224, 2189]])"
            ]
          },
          "metadata": {},
          "execution_count": 75
        }
      ],
      "source": [
        "conf_mat"
      ]
    },
    {
      "cell_type": "markdown",
      "metadata": {
        "id": "OCeM_oiLWPzJ"
      },
      "source": [
        "## MultinomialNB"
      ]
    },
    {
      "cell_type": "code",
      "execution_count": null,
      "metadata": {
        "id": "mDS4NECHWtJB"
      },
      "outputs": [],
      "source": [
        "mnb_tfidf = Pipeline([('vect', CountVectorizer()),\n",
        "                    ('tfidf', TfidfTransformer()),\n",
        "                    ('clf', MultinomialNB()),\n",
        "                    ])\n",
        "\n",
        "\n",
        "mnb_bow = Pipeline([('vect', CountVectorizer()),\n",
        "                    ('clf', MultinomialNB()),\n",
        "                    ])"
      ]
    },
    {
      "cell_type": "markdown",
      "metadata": {
        "id": "SOB8FZB_XR6Y"
      },
      "source": [
        "## MNB TFIDF"
      ]
    },
    {
      "cell_type": "markdown",
      "metadata": {
        "id": "XmnpuHPrfuv3"
      },
      "source": [
        "### Macro F1"
      ]
    },
    {
      "cell_type": "code",
      "execution_count": null,
      "metadata": {
        "colab": {
          "base_uri": "https://localhost:8080/"
        },
        "id": "EH5EN4M0XUjY",
        "outputId": "ceb6d5d1-0051-4bed-ddcd-c142ad9251a7"
      },
      "outputs": [
        {
          "output_type": "stream",
          "name": "stdout",
          "text": [
            "0.6810023452379117\n",
            "0.01413701812908041\n"
          ]
        }
      ],
      "source": [
        "from sklearn.metrics import classification_report, accuracy_score, make_scorer, f1_score\n",
        "from sklearn.model_selection import cross_val_score, StratifiedKFold\n",
        "\n",
        "def classification_report_with_accuracy_score(y_true, y_pred):\n",
        "    return f1_score(y_true, y_pred,average=\"macro\")\n",
        "\n",
        "    \n",
        "kfold = StratifiedKFold(n_splits=5, random_state=42,shuffle=True)\n",
        "# Nested CV with parameter optimization\n",
        "nested_score = cross_val_score(mnb_tfidf, X=cross_val_df['text'].values, y=cross_val_df['labels'].values, cv=kfold, \n",
        "               scoring=make_scorer(classification_report_with_accuracy_score))\n",
        "print(nested_score.mean()) \n",
        "print(nested_score.std())"
      ]
    },
    {
      "cell_type": "markdown",
      "metadata": {
        "id": "Jw2E9a1qf8Cw"
      },
      "source": [
        "### Weighted F1"
      ]
    },
    {
      "cell_type": "code",
      "execution_count": null,
      "metadata": {
        "colab": {
          "base_uri": "https://localhost:8080/"
        },
        "id": "B7KnppVAf_ID",
        "outputId": "169c81e2-251c-4452-fd42-9b0452ddc74b"
      },
      "outputs": [
        {
          "output_type": "stream",
          "name": "stdout",
          "text": [
            "0.7477809437060791\n",
            "0.010974925404249974\n"
          ]
        }
      ],
      "source": [
        "from sklearn.metrics import classification_report, accuracy_score, make_scorer, f1_score\n",
        "from sklearn.model_selection import cross_val_score, StratifiedKFold\n",
        "\n",
        "def classification_report_with_accuracy_score(y_true, y_pred):\n",
        "    return f1_score(y_true, y_pred,average=\"weighted\")\n",
        "\n",
        "    \n",
        "kfold = StratifiedKFold(n_splits=5, random_state=42,shuffle=True)\n",
        "# Nested CV with parameter optimization\n",
        "nested_score = cross_val_score(mnb_tfidf, X=cross_val_df['text'].values, y=cross_val_df['labels'].values, cv=kfold, \n",
        "               scoring=make_scorer(classification_report_with_accuracy_score))\n",
        "print(nested_score.mean()) \n",
        "print(nested_score.std())"
      ]
    },
    {
      "cell_type": "markdown",
      "metadata": {
        "id": "_v-fjtvO6jCr"
      },
      "source": [
        "### Macro Precision"
      ]
    },
    {
      "cell_type": "code",
      "execution_count": null,
      "metadata": {
        "colab": {
          "base_uri": "https://localhost:8080/"
        },
        "id": "krWXdy7A6iUa",
        "outputId": "57232f7e-8e43-4c0c-dc01-c05c119bc990"
      },
      "outputs": [
        {
          "output_type": "stream",
          "name": "stdout",
          "text": [
            "0.7932824439939393\n",
            "0.01570090533166209\n"
          ]
        }
      ],
      "source": [
        "from sklearn.metrics import classification_report, accuracy_score,precision_score, make_scorer, f1_score\n",
        "from sklearn.model_selection import cross_val_score, StratifiedKFold\n",
        "\n",
        "def classification_report_with_accuracy_score(y_true, y_pred):\n",
        "\n",
        "    return precision_score(y_true, y_pred,average=\"macro\")\n",
        "\n",
        "    \n",
        "kfold = StratifiedKFold(n_splits=5, random_state=42,shuffle=True)\n",
        "# Nested CV with parameter optimization\n",
        "precision_score = cross_val_score(mnb_tfidf, X=cross_val_df['text'].values, y=cross_val_df['labels'].values, cv=kfold, \n",
        "               scoring=make_scorer(classification_report_with_accuracy_score))\n",
        "print(precision_score.mean())\n",
        "print(precision_score.std()) "
      ]
    },
    {
      "cell_type": "markdown",
      "metadata": {
        "id": "0C9oomXYgbjs"
      },
      "source": [
        "### Weighted Precision"
      ]
    },
    {
      "cell_type": "code",
      "execution_count": null,
      "metadata": {
        "colab": {
          "base_uri": "https://localhost:8080/"
        },
        "id": "vvK0VKDY6zmN",
        "outputId": "ba0a07ad-45b2-4fb9-edda-389df3de9b5e"
      },
      "outputs": [
        {
          "output_type": "stream",
          "name": "stdout",
          "text": [
            "0.7851057258628511\n",
            "0.012054586236065892\n"
          ]
        }
      ],
      "source": [
        "from sklearn.metrics import classification_report, accuracy_score,precision_score, make_scorer, f1_score\n",
        "from sklearn.model_selection import cross_val_score, StratifiedKFold\n",
        "\n",
        "def classification_report_with_accuracy_score(y_true, y_pred):\n",
        "\n",
        "    return precision_score(y_true, y_pred,average=\"weighted\")\n",
        "\n",
        "    \n",
        "kfold = StratifiedKFold(n_splits=5, random_state=42,shuffle=True)\n",
        "# Nested CV with parameter optimization\n",
        "precision_score = cross_val_score(mnb_tfidf, X=cross_val_df['text'].values, y=cross_val_df['labels'].values, cv=kfold, \n",
        "               scoring=make_scorer(classification_report_with_accuracy_score))\n",
        "print(precision_score.mean())\n",
        "print(precision_score.std()) "
      ]
    },
    {
      "cell_type": "markdown",
      "metadata": {
        "id": "ixxpepHe6-qS"
      },
      "source": [
        "### Macro Recall"
      ]
    },
    {
      "cell_type": "code",
      "execution_count": null,
      "metadata": {
        "colab": {
          "base_uri": "https://localhost:8080/"
        },
        "id": "gcIzGOa-7Aj-",
        "outputId": "b7d54ee8-6139-4c49-f43b-c47861a29721"
      },
      "outputs": [
        {
          "output_type": "stream",
          "name": "stdout",
          "text": [
            "0.6644769533215729\n",
            "0.011581020194911142\n"
          ]
        }
      ],
      "source": [
        "from sklearn.metrics import recall_score\n",
        "def classification_report_with_accuracy_score(y_true, y_pred):\n",
        "\n",
        "    return recall_score(y_true, y_pred,average=\"macro\")\n",
        "\n",
        "\n",
        "\n",
        "\n",
        "\n",
        "kfold = StratifiedKFold(n_splits=5, random_state=42,shuffle=True)\n",
        "# Nested CV with parameter optimization\n",
        "recall_score = cross_val_score(mnb_tfidf, X=cross_val_df['text'].values, y=cross_val_df['labels'].values, cv=kfold, \n",
        "               scoring=make_scorer(classification_report_with_accuracy_score))\n",
        "print(recall_score.mean())\n",
        "print(recall_score.std()) "
      ]
    },
    {
      "cell_type": "markdown",
      "metadata": {
        "id": "EBC2NvvWg7de"
      },
      "source": [
        "### Weighted Recall"
      ]
    },
    {
      "cell_type": "code",
      "execution_count": null,
      "metadata": {
        "colab": {
          "base_uri": "https://localhost:8080/"
        },
        "id": "4nq7F1PDg_M6",
        "outputId": "fcaaed5a-b39c-4c3a-8919-f098ac0f0b58"
      },
      "outputs": [
        {
          "output_type": "stream",
          "name": "stdout",
          "text": [
            "0.7778099325567137\n",
            "0.008967228714495155\n"
          ]
        }
      ],
      "source": [
        "from sklearn.metrics import recall_score\n",
        "def classification_report_with_accuracy_score(y_true, y_pred):\n",
        "\n",
        "    return recall_score(y_true, y_pred,average=\"weighted\")\n",
        "\n",
        "\n",
        "\n",
        "\n",
        "\n",
        "kfold = StratifiedKFold(n_splits=5, random_state=42,shuffle=True)\n",
        "# Nested CV with parameter optimization\n",
        "recall_score = cross_val_score(mnb_tfidf, X=cross_val_df['text'].values, y=cross_val_df['labels'].values, cv=kfold, \n",
        "               scoring=make_scorer(classification_report_with_accuracy_score))\n",
        "print(recall_score.mean())\n",
        "print(recall_score.std()) "
      ]
    },
    {
      "cell_type": "markdown",
      "metadata": {
        "id": "hY2uhh8MhmAa"
      },
      "source": [
        "### Confusion Matrx|"
      ]
    },
    {
      "cell_type": "code",
      "execution_count": null,
      "metadata": {
        "id": "fw_Y2BETiejO"
      },
      "outputs": [],
      "source": [
        "from sklearn.model_selection import cross_val_predict\n",
        "from sklearn.metrics import confusion_matrix\n",
        "y_pred = cross_val_predict(mnb_tfidf, X=cross_val_df['text'].values, y=cross_val_df['labels'].values, cv=kfold)\n",
        "conf_mat = confusion_matrix(cross_val_df['labels'].values, y_pred)"
      ]
    },
    {
      "cell_type": "code",
      "execution_count": null,
      "metadata": {
        "colab": {
          "base_uri": "https://localhost:8080/"
        },
        "id": "9SkkFzWBimVS",
        "outputId": "8397a808-fdbe-45c1-cd38-201a51d7c0e1"
      },
      "outputs": [
        {
          "output_type": "execute_result",
          "data": {
            "text/plain": [
              "array([[ 397,  687],\n",
              "       [  90, 2323]])"
            ]
          },
          "metadata": {},
          "execution_count": 84
        }
      ],
      "source": [
        "conf_mat"
      ]
    },
    {
      "cell_type": "markdown",
      "metadata": {
        "id": "KWWoTve8XqO4"
      },
      "source": [
        "## MNB BOW"
      ]
    },
    {
      "cell_type": "markdown",
      "metadata": {
        "id": "xjzOjfGuklsm"
      },
      "source": [
        "### Macro F1 Score"
      ]
    },
    {
      "cell_type": "code",
      "execution_count": null,
      "metadata": {
        "colab": {
          "base_uri": "https://localhost:8080/"
        },
        "id": "QvJgQUSdXsOw",
        "outputId": "b770b0f2-1138-4cfc-aafb-52bae08eb91a"
      },
      "outputs": [
        {
          "output_type": "stream",
          "name": "stdout",
          "text": [
            "0.7411141300257312\n",
            "0.01789219418804216\n"
          ]
        }
      ],
      "source": [
        "from sklearn.metrics import classification_report, accuracy_score, make_scorer, f1_score\n",
        "from sklearn.model_selection import cross_val_score, StratifiedKFold\n",
        "\n",
        "def classification_report_with_accuracy_score(y_true, y_pred):\n",
        "    return f1_score(y_true, y_pred,average=\"macro\")\n",
        "\n",
        "    \n",
        "kfold = StratifiedKFold(n_splits=5, random_state=42,shuffle=True)\n",
        "# Nested CV with parameter optimization\n",
        "nested_score = cross_val_score(mnb_bow, X=cross_val_df['text'].values, y=cross_val_df['labels'].values, cv=kfold, \n",
        "               scoring=make_scorer(classification_report_with_accuracy_score))\n",
        "print(nested_score.mean()) \n",
        "print(nested_score.std())"
      ]
    },
    {
      "cell_type": "markdown",
      "metadata": {
        "id": "KQkXLxTtoNAM"
      },
      "source": [
        "### Weighted F1 Score"
      ]
    },
    {
      "cell_type": "code",
      "execution_count": null,
      "metadata": {
        "colab": {
          "base_uri": "https://localhost:8080/"
        },
        "id": "Qycx08ZZoTB6",
        "outputId": "7d6412f6-a88b-43e9-a3d5-6c63b9ae0e7e"
      },
      "outputs": [
        {
          "output_type": "stream",
          "name": "stdout",
          "text": [
            "0.782759662653062\n",
            "0.015002852169099362\n"
          ]
        }
      ],
      "source": [
        "from sklearn.metrics import classification_report, accuracy_score, make_scorer, f1_score\n",
        "from sklearn.model_selection import cross_val_score, StratifiedKFold\n",
        "\n",
        "def classification_report_with_accuracy_score(y_true, y_pred):\n",
        "    return f1_score(y_true, y_pred,average=\"weighted\")\n",
        "\n",
        "    \n",
        "kfold = StratifiedKFold(n_splits=5, random_state=42,shuffle=True)\n",
        "# Nested CV with parameter optimization\n",
        "nested_score = cross_val_score(mnb_bow, X=cross_val_df['text'].values, y=cross_val_df['labels'].values, cv=kfold, \n",
        "               scoring=make_scorer(classification_report_with_accuracy_score))\n",
        "print(nested_score.mean()) \n",
        "print(nested_score.std())"
      ]
    },
    {
      "cell_type": "markdown",
      "metadata": {
        "id": "suF5pqKX7Usj"
      },
      "source": [
        "### Macro Precision"
      ]
    },
    {
      "cell_type": "code",
      "execution_count": null,
      "metadata": {
        "colab": {
          "base_uri": "https://localhost:8080/"
        },
        "id": "mEA90Kyx65ps",
        "outputId": "f7e8e4c0-1040-4860-c244-74b4a0ea60ec"
      },
      "outputs": [
        {
          "output_type": "stream",
          "name": "stdout",
          "text": [
            "0.75447723698343\n",
            "0.018862295363135884\n"
          ]
        }
      ],
      "source": [
        "from sklearn.metrics import classification_report, accuracy_score,precision_score, make_scorer, f1_score\n",
        "from sklearn.model_selection import cross_val_score, StratifiedKFold\n",
        "\n",
        "def classification_report_with_accuracy_score(y_true, y_pred):\n",
        "    return precision_score(y_true, y_pred,average=\"macro\")\n",
        "\n",
        "    \n",
        "kfold = StratifiedKFold(n_splits=5, random_state=42,shuffle=True)\n",
        "# Nested CV with parameter optimization\n",
        "precision_score = cross_val_score(mnb_bow, X=cross_val_df['text'].values, y=cross_val_df['labels'].values, cv=kfold, \n",
        "               scoring=make_scorer(classification_report_with_accuracy_score))\n",
        "print(precision_score.mean())\n",
        "print(precision_score.std()) "
      ]
    },
    {
      "cell_type": "markdown",
      "metadata": {
        "id": "4vhNAEGXonRL"
      },
      "source": [
        "### Weighted Precision"
      ]
    },
    {
      "cell_type": "code",
      "execution_count": null,
      "metadata": {
        "colab": {
          "base_uri": "https://localhost:8080/"
        },
        "id": "aurX0sSZorN6",
        "outputId": "d5b67564-d20d-4b38-ed25-ab75d11dd4d8"
      },
      "outputs": [
        {
          "output_type": "stream",
          "name": "stdout",
          "text": [
            "0.7815613787842347\n",
            "0.015330948652514425\n"
          ]
        }
      ],
      "source": [
        "from sklearn.metrics import classification_report, accuracy_score,precision_score, make_scorer, f1_score\n",
        "from sklearn.model_selection import cross_val_score, StratifiedKFold\n",
        "\n",
        "def classification_report_with_accuracy_score(y_true, y_pred):\n",
        "    return precision_score(y_true, y_pred,average=\"weighted\")\n",
        "\n",
        "    \n",
        "kfold = StratifiedKFold(n_splits=5, random_state=42,shuffle=True)\n",
        "# Nested CV with parameter optimization\n",
        "precision_score = cross_val_score(mnb_bow, X=cross_val_df['text'].values, y=cross_val_df['labels'].values, cv=kfold, \n",
        "               scoring=make_scorer(classification_report_with_accuracy_score))\n",
        "print(precision_score.mean())\n",
        "print(precision_score.std()) "
      ]
    },
    {
      "cell_type": "markdown",
      "metadata": {
        "id": "mq6NiEgv7pRF"
      },
      "source": [
        "### Macro Recall"
      ]
    },
    {
      "cell_type": "code",
      "execution_count": null,
      "metadata": {
        "colab": {
          "base_uri": "https://localhost:8080/"
        },
        "id": "WEK3m8Lz7sNr",
        "outputId": "a5ecf5d0-1991-4c0d-8189-5f27558fdd81"
      },
      "outputs": [
        {
          "output_type": "stream",
          "name": "stdout",
          "text": [
            "0.7324893033216668\n",
            "0.017595371415746228\n"
          ]
        }
      ],
      "source": [
        "from sklearn.metrics import recall_score\n",
        "def classification_report_with_accuracy_score(y_true, y_pred):\n",
        "\n",
        "    return recall_score(y_true, y_pred,average=\"macro\")\n",
        "\n",
        "\n",
        "\n",
        "\n",
        "\n",
        "kfold = StratifiedKFold(n_splits=5, random_state=42,shuffle=True)\n",
        "# Nested CV with parameter optimization\n",
        "recall_score = cross_val_score(mnb_bow, X=cross_val_df['text'].values, y=cross_val_df['labels'].values, cv=kfold, \n",
        "               scoring=make_scorer(classification_report_with_accuracy_score))\n",
        "print(recall_score.mean())\n",
        "print(recall_score.std()) "
      ]
    },
    {
      "cell_type": "markdown",
      "metadata": {
        "id": "ukt201FRo6cH"
      },
      "source": [
        "### Weighted Recall"
      ]
    },
    {
      "cell_type": "code",
      "execution_count": null,
      "metadata": {
        "colab": {
          "base_uri": "https://localhost:8080/"
        },
        "id": "k-QCXbbK71c7",
        "outputId": "f4249a54-0736-4226-c745-76943225e6b9"
      },
      "outputs": [
        {
          "output_type": "stream",
          "name": "stdout",
          "text": [
            "0.7875315757204169\n",
            "0.01481635654492127\n"
          ]
        }
      ],
      "source": [
        "from sklearn.metrics import recall_score\n",
        "def classification_report_with_accuracy_score(y_true, y_pred):\n",
        "\n",
        "    return recall_score(y_true, y_pred,average=\"weighted\")\n",
        "\n",
        "\n",
        "kfold = StratifiedKFold(n_splits=5, random_state=42,shuffle=True)\n",
        "# Nested CV with parameter optimization\n",
        "recall_score = cross_val_score(mnb_bow, X=cross_val_df['text'].values, y=cross_val_df['labels'].values, cv=kfold, \n",
        "               scoring=make_scorer(classification_report_with_accuracy_score))\n",
        "print(recall_score.mean())\n",
        "print(recall_score.std()) "
      ]
    },
    {
      "cell_type": "markdown",
      "metadata": {
        "id": "V_XYaDLhpLHl"
      },
      "source": [
        "### Confusion Matrix"
      ]
    },
    {
      "cell_type": "code",
      "execution_count": null,
      "metadata": {
        "colab": {
          "base_uri": "https://localhost:8080/"
        },
        "id": "WOk3RD3NpOKF",
        "outputId": "577b8038-ec2d-45f0-c852-fee60252383b"
      },
      "outputs": [
        {
          "output_type": "stream",
          "name": "stdout",
          "text": [
            "[[ 637  447]\n",
            " [ 296 2117]]\n"
          ]
        }
      ],
      "source": [
        "from sklearn.model_selection import cross_val_predict\n",
        "from sklearn.metrics import confusion_matrix\n",
        "y_pred = cross_val_predict(mnb_bow, X=cross_val_df['text'].values, y=cross_val_df['labels'].values, cv=kfold)\n",
        "conf_mat = confusion_matrix(cross_val_df['labels'].values, y_pred)\n",
        "print(conf_mat)"
      ]
    },
    {
      "cell_type": "markdown",
      "metadata": {
        "id": "K8mRDNLHXwn2"
      },
      "source": [
        "# Decision Tree"
      ]
    },
    {
      "cell_type": "code",
      "execution_count": null,
      "metadata": {
        "id": "FYZ6F-poYHsh"
      },
      "outputs": [],
      "source": [
        "dt_tfidf = Pipeline([('vect', CountVectorizer()),\n",
        "                    ('tfidf', TfidfTransformer()),\n",
        "                    ('clf', DecisionTreeClassifier()),\n",
        "                    ])\n",
        "\n",
        "\n",
        "dt_bow = Pipeline([('vect', CountVectorizer()),\n",
        "                    ('clf',   DecisionTreeClassifier()),\n",
        "                    ])"
      ]
    },
    {
      "cell_type": "markdown",
      "metadata": {
        "id": "MTwV6TPAZWCr"
      },
      "source": [
        "## DT TFIDF"
      ]
    },
    {
      "cell_type": "markdown",
      "metadata": {
        "id": "0TLOD-XJpFCs"
      },
      "source": [
        "### Macro F1"
      ]
    },
    {
      "cell_type": "code",
      "execution_count": null,
      "metadata": {
        "colab": {
          "base_uri": "https://localhost:8080/"
        },
        "id": "0VAlp44JZSmy",
        "outputId": "d57a5dfa-7401-4f30-9465-6ae749ba421b"
      },
      "outputs": [
        {
          "output_type": "stream",
          "name": "stdout",
          "text": [
            "0.6948262368285473\n",
            "0.012556131066295238\n"
          ]
        }
      ],
      "source": [
        "from sklearn.metrics import classification_report, accuracy_score, make_scorer, f1_score\n",
        "from sklearn.model_selection import cross_val_score, StratifiedKFold\n",
        "\n",
        "def classification_report_with_accuracy_score(y_true, y_pred):\n",
        "    return f1_score(y_true, y_pred,average=\"macro\")\n",
        "\n",
        "    \n",
        "kfold = StratifiedKFold(n_splits=5, random_state=42,shuffle=True)\n",
        "# Nested CV with parameter optimization\n",
        "nested_score = cross_val_score(dt_tfidf, X=cross_val_df['text'].values, y=cross_val_df['labels'].values, cv=kfold, \n",
        "               scoring=make_scorer(classification_report_with_accuracy_score))\n",
        "print(nested_score.mean()) \n",
        "print(nested_score.std())"
      ]
    },
    {
      "cell_type": "markdown",
      "metadata": {
        "id": "5ynRMr8ypiqW"
      },
      "source": [
        "### Weighted F1"
      ]
    },
    {
      "cell_type": "code",
      "execution_count": null,
      "metadata": {
        "colab": {
          "base_uri": "https://localhost:8080/"
        },
        "id": "GiJ1Mwgaph4S",
        "outputId": "15c47376-24aa-479d-dccd-dbd2d5f7745f"
      },
      "outputs": [
        {
          "output_type": "stream",
          "name": "stdout",
          "text": [
            "0.7417232530374308\n",
            "0.011836022239963603\n"
          ]
        }
      ],
      "source": [
        "from sklearn.metrics import classification_report, accuracy_score, make_scorer, f1_score\n",
        "from sklearn.model_selection import cross_val_score, StratifiedKFold\n",
        "\n",
        "def classification_report_with_accuracy_score(y_true, y_pred):\n",
        "    return f1_score(y_true, y_pred,average=\"weighted\")\n",
        "\n",
        "    \n",
        "kfold = StratifiedKFold(n_splits=5, random_state=42,shuffle=True)\n",
        "# Nested CV with parameter optimization\n",
        "nested_score = cross_val_score(dt_tfidf, X=cross_val_df['text'].values, y=cross_val_df['labels'].values, cv=kfold, \n",
        "               scoring=make_scorer(classification_report_with_accuracy_score))\n",
        "print(nested_score.mean()) \n",
        "print(nested_score.std())"
      ]
    },
    {
      "cell_type": "markdown",
      "metadata": {
        "id": "ZSRzHeEF7_w1"
      },
      "source": [
        "### Macro Precision"
      ]
    },
    {
      "cell_type": "code",
      "execution_count": null,
      "metadata": {
        "colab": {
          "base_uri": "https://localhost:8080/"
        },
        "id": "ws8cl6mS77Dy",
        "outputId": "b33b233e-f76f-4e29-aa0c-178e2c12b7a8"
      },
      "outputs": [
        {
          "output_type": "stream",
          "name": "stdout",
          "text": [
            "0.693276137715771\n",
            "0.009395125335267715\n"
          ]
        }
      ],
      "source": [
        "from sklearn.metrics import classification_report, accuracy_score,precision_score, make_scorer, f1_score\n",
        "from sklearn.model_selection import cross_val_score, StratifiedKFold\n",
        "\n",
        "def classification_report_with_accuracy_score(y_true, y_pred):\n",
        "    return precision_score(y_true, y_pred,average=\"macro\")\n",
        "\n",
        "    \n",
        "kfold = StratifiedKFold(n_splits=5, random_state=42,shuffle=True)\n",
        "# Nested CV with parameter optimization\n",
        "precision_score = cross_val_score(dt_tfidf, X=cross_val_df['text'].values, y=cross_val_df['labels'].values, cv=kfold, \n",
        "               scoring=make_scorer(classification_report_with_accuracy_score))\n",
        "print(precision_score.mean())\n",
        "print(precision_score.std()) "
      ]
    },
    {
      "cell_type": "markdown",
      "metadata": {
        "id": "olAFdudyp11u"
      },
      "source": [
        "### Weighted Precision"
      ]
    },
    {
      "cell_type": "code",
      "execution_count": null,
      "metadata": {
        "colab": {
          "base_uri": "https://localhost:8080/"
        },
        "id": "2YMPWwcN8H2O",
        "outputId": "e9f442cc-c144-425b-b44c-8f3957a6a114"
      },
      "outputs": [
        {
          "output_type": "stream",
          "name": "stdout",
          "text": [
            "0.7815613787842347\n",
            "0.015330948652514425\n"
          ]
        }
      ],
      "source": [
        "from sklearn.metrics import classification_report, accuracy_score,precision_score, make_scorer, f1_score\n",
        "from sklearn.model_selection import cross_val_score, StratifiedKFold\n",
        "\n",
        "def classification_report_with_accuracy_score(y_true, y_pred):\n",
        "    return precision_score(y_true, y_pred,average=\"weighted\")\n",
        "\n",
        "    \n",
        "kfold = StratifiedKFold(n_splits=5, random_state=42,shuffle=True)\n",
        "# Nested CV with parameter optimization\n",
        "precision_score = cross_val_score(mnb_bow, X=cross_val_df['text'].values, y=cross_val_df['labels'].values, cv=kfold, \n",
        "               scoring=make_scorer(classification_report_with_accuracy_score))\n",
        "print(precision_score.mean())\n",
        "print(precision_score.std()) "
      ]
    },
    {
      "cell_type": "markdown",
      "metadata": {
        "id": "UFSXHHJT8SC9"
      },
      "source": [
        "### Macro Recall"
      ]
    },
    {
      "cell_type": "code",
      "execution_count": null,
      "metadata": {
        "colab": {
          "base_uri": "https://localhost:8080/"
        },
        "id": "SebWzrrm8Ugt",
        "outputId": "49f0ff42-5424-4ad2-cf3f-f89fb2cf084d"
      },
      "outputs": [
        {
          "output_type": "stream",
          "name": "stdout",
          "text": [
            "0.6967521163882602\n",
            "0.01635528896118793\n"
          ]
        }
      ],
      "source": [
        "from sklearn.metrics import recall_score\n",
        "def classification_report_with_accuracy_score(y_true, y_pred):\n",
        "\n",
        "    return recall_score(y_true, y_pred,average=\"macro\")\n",
        "\n",
        "\n",
        "\n",
        "\n",
        "\n",
        "kfold = StratifiedKFold(n_splits=5, random_state=42,shuffle=True)\n",
        "# Nested CV with parameter optimization\n",
        "recall_score = cross_val_score(dt_tfidf, X=cross_val_df['text'].values, y=cross_val_df['labels'].values, cv=kfold, \n",
        "               scoring=make_scorer(classification_report_with_accuracy_score))\n",
        "print(recall_score.mean())\n",
        "print(recall_score.std()) "
      ]
    },
    {
      "cell_type": "markdown",
      "metadata": {
        "id": "BoSc1YenqL-B"
      },
      "source": [
        "### Weighted Recall"
      ]
    },
    {
      "cell_type": "code",
      "execution_count": null,
      "metadata": {
        "colab": {
          "base_uri": "https://localhost:8080/"
        },
        "id": "QNL8oq_a8fT-",
        "outputId": "44e2fd3c-a7b6-403e-a6fb-1f6d3ac7daa6"
      },
      "outputs": [
        {
          "output_type": "stream",
          "name": "stdout",
          "text": [
            "0.7394870222767218\n",
            "0.014633297481573528\n"
          ]
        }
      ],
      "source": [
        "from sklearn.metrics import recall_score\n",
        "def classification_report_with_accuracy_score(y_true, y_pred):\n",
        "\n",
        "    return recall_score(y_true, y_pred,average=\"weighted\")\n",
        "\n",
        "\n",
        "\n",
        "\n",
        "\n",
        "kfold = StratifiedKFold(n_splits=5, random_state=42,shuffle=True)\n",
        "# Nested CV with parameter optimization\n",
        "recall_score = cross_val_score(dt_tfidf, X=cross_val_df['text'].values, y=cross_val_df['labels'].values, cv=kfold, \n",
        "               scoring=make_scorer(classification_report_with_accuracy_score))\n",
        "print(recall_score.mean())\n",
        "print(recall_score.std()) "
      ]
    },
    {
      "cell_type": "markdown",
      "metadata": {
        "id": "O6QR9lqqqWvj"
      },
      "source": [
        "### Confusion Matrix"
      ]
    },
    {
      "cell_type": "code",
      "execution_count": null,
      "metadata": {
        "colab": {
          "base_uri": "https://localhost:8080/"
        },
        "id": "phvPIXVSqV9N",
        "outputId": "8b5c3dbe-7cab-4836-ff6b-72cc5098da9f"
      },
      "outputs": [
        {
          "output_type": "stream",
          "name": "stdout",
          "text": [
            "[[ 616  468]\n",
            " [ 436 1977]]\n"
          ]
        }
      ],
      "source": [
        "from sklearn.model_selection import cross_val_predict\n",
        "from sklearn.metrics import confusion_matrix\n",
        "y_pred = cross_val_predict(dt_tfidf, X=cross_val_df['text'].values, y=cross_val_df['labels'].values, cv=kfold)\n",
        "conf_mat = confusion_matrix(cross_val_df['labels'].values, y_pred)\n",
        "print(conf_mat)"
      ]
    },
    {
      "cell_type": "markdown",
      "metadata": {
        "id": "kaPyiYCtaJFj"
      },
      "source": [
        "## DT BOW"
      ]
    },
    {
      "cell_type": "markdown",
      "metadata": {
        "id": "ZwIvKWbqqQlN"
      },
      "source": [
        "### Macro F1"
      ]
    },
    {
      "cell_type": "code",
      "execution_count": null,
      "metadata": {
        "colab": {
          "base_uri": "https://localhost:8080/"
        },
        "id": "FHiOGPkRaLlZ",
        "outputId": "256f79ae-e115-4f3a-baaf-a6a2fb7069e2"
      },
      "outputs": [
        {
          "output_type": "stream",
          "name": "stdout",
          "text": [
            "0.6846552263933979\n",
            "0.017954940071888713\n"
          ]
        }
      ],
      "source": [
        "from sklearn.metrics import classification_report, accuracy_score, make_scorer, f1_score\n",
        "from sklearn.model_selection import cross_val_score, StratifiedKFold\n",
        "\n",
        "def classification_report_with_accuracy_score(y_true, y_pred):\n",
        "    return f1_score(y_true, y_pred,average=\"macro\")\n",
        "\n",
        "    \n",
        "kfold = StratifiedKFold(n_splits=5, random_state=42,shuffle=True)\n",
        "# Nested CV with parameter optimization\n",
        "nested_score = cross_val_score(dt_bow, X=cross_val_df['text'].values, y=cross_val_df['labels'].values, cv=kfold, \n",
        "               scoring=make_scorer(classification_report_with_accuracy_score))\n",
        "print(nested_score.mean()) \n",
        "print(nested_score.std())"
      ]
    },
    {
      "cell_type": "markdown",
      "metadata": {
        "id": "A_AteX_cqs9u"
      },
      "source": [
        "### Weighted F1"
      ]
    },
    {
      "cell_type": "code",
      "execution_count": null,
      "metadata": {
        "colab": {
          "base_uri": "https://localhost:8080/"
        },
        "id": "2_RCX5Udqv-l",
        "outputId": "6e21ffad-4fc7-4b3e-a976-bee4a6fba9a6"
      },
      "outputs": [
        {
          "output_type": "stream",
          "name": "stdout",
          "text": [
            "0.7418769672615223\n",
            "0.014080470858541269\n"
          ]
        }
      ],
      "source": [
        "from sklearn.metrics import classification_report, accuracy_score, make_scorer, f1_score\n",
        "from sklearn.model_selection import cross_val_score, StratifiedKFold\n",
        "\n",
        "def classification_report_with_accuracy_score(y_true, y_pred):\n",
        "    return f1_score(y_true, y_pred,average=\"weighted\")\n",
        "\n",
        "    \n",
        "kfold = StratifiedKFold(n_splits=5, random_state=42,shuffle=True)\n",
        "# Nested CV with parameter optimization\n",
        "nested_score = cross_val_score(dt_tfidf, X=cross_val_df['text'].values, y=cross_val_df['labels'].values, cv=kfold, \n",
        "               scoring=make_scorer(classification_report_with_accuracy_score))\n",
        "print(nested_score.mean()) \n",
        "print(nested_score.std())"
      ]
    },
    {
      "cell_type": "markdown",
      "metadata": {
        "id": "4lEuwgBp8m7a"
      },
      "source": [
        "### Macro Precision"
      ]
    },
    {
      "cell_type": "code",
      "execution_count": null,
      "metadata": {
        "colab": {
          "base_uri": "https://localhost:8080/"
        },
        "id": "OxZcKQMq8qBx",
        "outputId": "8090505a-5db8-41be-d68a-1420fb017462"
      },
      "outputs": [
        {
          "output_type": "stream",
          "name": "stdout",
          "text": [
            "0.6856222949504873\n",
            "0.016688544234197276\n"
          ]
        }
      ],
      "source": [
        "from sklearn.metrics import classification_report, accuracy_score,precision_score, make_scorer, f1_score\n",
        "from sklearn.model_selection import cross_val_score, StratifiedKFold\n",
        "\n",
        "def classification_report_with_accuracy_score(y_true, y_pred):\n",
        "    return precision_score(y_true, y_pred,average=\"macro\")\n",
        "\n",
        "    \n",
        "kfold = StratifiedKFold(n_splits=5, random_state=42,shuffle=True)\n",
        "# Nested CV with parameter optimization\n",
        "precision_score = cross_val_score(dt_bow, X=cross_val_df['text'].values, y=cross_val_df['labels'].values, cv=kfold, \n",
        "               scoring=make_scorer(classification_report_with_accuracy_score))\n",
        "print(precision_score.mean())\n",
        "print(precision_score.std()) "
      ]
    },
    {
      "cell_type": "markdown",
      "metadata": {
        "id": "e8En79qiq9bL"
      },
      "source": [
        "### Weighted Precision"
      ]
    },
    {
      "cell_type": "code",
      "execution_count": null,
      "metadata": {
        "colab": {
          "base_uri": "https://localhost:8080/"
        },
        "id": "LpB9BFWwq8lR",
        "outputId": "d0e3b153-a557-42c1-b184-b8c31e33cd23"
      },
      "outputs": [
        {
          "output_type": "stream",
          "name": "stdout",
          "text": [
            "0.7388184937187011\n",
            "0.012203111345149181\n"
          ]
        }
      ],
      "source": [
        "from sklearn.metrics import classification_report, accuracy_score,precision_score, make_scorer, f1_score\n",
        "from sklearn.model_selection import cross_val_score, StratifiedKFold\n",
        "\n",
        "def classification_report_with_accuracy_score(y_true, y_pred):\n",
        "    return precision_score(y_true, y_pred,average=\"weighted\")\n",
        "\n",
        "    \n",
        "kfold = StratifiedKFold(n_splits=5, random_state=42,shuffle=True)\n",
        "# Nested CV with parameter optimization\n",
        "precision_score = cross_val_score(dt_tfidf, X=cross_val_df['text'].values, y=cross_val_df['labels'].values, cv=kfold, \n",
        "               scoring=make_scorer(classification_report_with_accuracy_score))\n",
        "print(precision_score.mean())\n",
        "print(precision_score.std()) "
      ]
    },
    {
      "cell_type": "markdown",
      "metadata": {
        "id": "NQ7IUuq885dt"
      },
      "source": [
        "### Macro Recall"
      ]
    },
    {
      "cell_type": "code",
      "execution_count": null,
      "metadata": {
        "colab": {
          "base_uri": "https://localhost:8080/"
        },
        "id": "GYo9raZE88ha",
        "outputId": "daa2e4f0-724d-436c-8d58-04ab2c941bc2"
      },
      "outputs": [
        {
          "output_type": "stream",
          "name": "stdout",
          "text": [
            "0.691060900938733\n",
            "0.01421159444425028\n"
          ]
        }
      ],
      "source": [
        "from sklearn.metrics import recall_score\n",
        "def classification_report_with_accuracy_score(y_true, y_pred):\n",
        "\n",
        "    return recall_score(y_true, y_pred,average=\"macro\")\n",
        "\n",
        "\n",
        "\n",
        "\n",
        "\n",
        "kfold = StratifiedKFold(n_splits=5, random_state=42,shuffle=True)\n",
        "# Nested CV with parameter optimization\n",
        "recall_score = cross_val_score(dt_bow, X=cross_val_df['text'].values, y=cross_val_df['labels'].values, cv=kfold, \n",
        "               scoring=make_scorer(classification_report_with_accuracy_score))\n",
        "print(recall_score.mean())\n",
        "print(recall_score.std()) "
      ]
    },
    {
      "cell_type": "markdown",
      "metadata": {
        "id": "CYk6HjWFrj35"
      },
      "source": [
        "### Weighted Recall"
      ]
    },
    {
      "cell_type": "code",
      "execution_count": null,
      "metadata": {
        "colab": {
          "base_uri": "https://localhost:8080/"
        },
        "id": "1xupJLY6rmow",
        "outputId": "c46c5c9d-86dc-41d3-ef15-9a0e60df2400"
      },
      "outputs": [
        {
          "output_type": "stream",
          "name": "stdout",
          "text": [
            "0.732056815859391\n",
            "0.020907165904080722\n"
          ]
        }
      ],
      "source": [
        "from sklearn.metrics import recall_score\n",
        "def classification_report_with_accuracy_score(y_true, y_pred):\n",
        "\n",
        "    return recall_score(y_true, y_pred,average=\"weighted\")\n",
        "\n",
        "\n",
        "\n",
        "\n",
        "\n",
        "kfold = StratifiedKFold(n_splits=5, random_state=42,shuffle=True)\n",
        "# Nested CV with parameter optimization\n",
        "recall_score = cross_val_score(dt_bow, X=cross_val_df['text'].values, y=cross_val_df['labels'].values, cv=kfold, \n",
        "               scoring=make_scorer(classification_report_with_accuracy_score))\n",
        "print(recall_score.mean())\n",
        "print(recall_score.std()) "
      ]
    },
    {
      "cell_type": "markdown",
      "metadata": {
        "id": "yEzd_kSpsq_8"
      },
      "source": [
        "### Confusion Matrix"
      ]
    },
    {
      "cell_type": "code",
      "execution_count": null,
      "metadata": {
        "colab": {
          "base_uri": "https://localhost:8080/"
        },
        "id": "mqMImEmZsoPB",
        "outputId": "af959c1f-c12b-4589-ae27-d4b3e6f3c834"
      },
      "outputs": [
        {
          "output_type": "stream",
          "name": "stdout",
          "text": [
            "[[ 637  447]\n",
            " [ 489 1924]]\n"
          ]
        }
      ],
      "source": [
        "\n",
        "from sklearn.model_selection import cross_val_predict\n",
        "from sklearn.metrics import confusion_matrix\n",
        "y_pred = cross_val_predict(dt_bow, X=cross_val_df['text'].values, y=cross_val_df['labels'].values, cv=kfold)\n",
        "conf_mat = confusion_matrix(cross_val_df['labels'].values, y_pred)\n",
        "print(conf_mat)"
      ]
    },
    {
      "cell_type": "markdown",
      "metadata": {
        "id": "7s_luhBHaSMv"
      },
      "source": [
        "# Logitic Regression"
      ]
    },
    {
      "cell_type": "code",
      "execution_count": null,
      "metadata": {
        "id": "ASmzJAR7aZI5"
      },
      "outputs": [],
      "source": [
        "lr_tfidf = Pipeline([('vect', CountVectorizer()),\n",
        "                    ('tfidf', TfidfTransformer()),\n",
        "                    ('clf', LogisticRegression()),\n",
        "                    ])\n",
        "\n",
        "\n",
        "lr_bow = Pipeline([('vect', CountVectorizer()),\n",
        "                    ('clf',   LogisticRegression()),\n",
        "                    ])"
      ]
    },
    {
      "cell_type": "markdown",
      "metadata": {
        "id": "Nvp_vlvpcbBp"
      },
      "source": [
        "## LR TFIDF"
      ]
    },
    {
      "cell_type": "markdown",
      "metadata": {
        "id": "hYbzGGVQrskV"
      },
      "source": [
        "### Macro F1"
      ]
    },
    {
      "cell_type": "code",
      "execution_count": null,
      "metadata": {
        "colab": {
          "base_uri": "https://localhost:8080/"
        },
        "id": "g06A6NwacPCL",
        "outputId": "8f36808c-e63d-4a14-9684-e563bece9cb4"
      },
      "outputs": [
        {
          "output_type": "stream",
          "name": "stdout",
          "text": [
            "0.7244140375457991\n",
            "0.024140302346924367\n"
          ]
        }
      ],
      "source": [
        "from sklearn.metrics import classification_report, accuracy_score, make_scorer, f1_score\n",
        "from sklearn.model_selection import cross_val_score, StratifiedKFold\n",
        "\n",
        "def classification_report_with_accuracy_score(y_true, y_pred):\n",
        "    return f1_score(y_true, y_pred,average=\"macro\")\n",
        "\n",
        "    \n",
        "kfold = StratifiedKFold(n_splits=5, random_state=42,shuffle=True)\n",
        "# Nested CV with parameter optimization\n",
        "nested_score = cross_val_score(lr_tfidf, X=cross_val_df['text'].values, y=cross_val_df['labels'].values, cv=kfold, \n",
        "               scoring=make_scorer(classification_report_with_accuracy_score))\n",
        "print(nested_score.mean()) \n",
        "print(nested_score.std())"
      ]
    },
    {
      "cell_type": "markdown",
      "metadata": {
        "id": "oLlTk698r38U"
      },
      "source": [
        "### Weighted F1"
      ]
    },
    {
      "cell_type": "code",
      "execution_count": null,
      "metadata": {
        "colab": {
          "base_uri": "https://localhost:8080/"
        },
        "id": "ncVjUCfVr7-1",
        "outputId": "f74fc91b-7036-451b-8fac-cfa3908b56fc"
      },
      "outputs": [
        {
          "output_type": "stream",
          "name": "stdout",
          "text": [
            "0.7768468962216782\n",
            "0.01832765813899637\n"
          ]
        }
      ],
      "source": [
        "from sklearn.metrics import classification_report, accuracy_score, make_scorer, f1_score\n",
        "from sklearn.model_selection import cross_val_score, StratifiedKFold\n",
        "\n",
        "def classification_report_with_accuracy_score(y_true, y_pred):\n",
        "    return f1_score(y_true, y_pred,average=\"weighted\")\n",
        "\n",
        "    \n",
        "kfold = StratifiedKFold(n_splits=5, random_state=42,shuffle=True)\n",
        "# Nested CV with parameter optimization\n",
        "nested_score = cross_val_score(lr_tfidf, X=cross_val_df['text'].values, y=cross_val_df['labels'].values, cv=kfold, \n",
        "               scoring=make_scorer(classification_report_with_accuracy_score))\n",
        "print(nested_score.mean()) \n",
        "print(nested_score.std())"
      ]
    },
    {
      "cell_type": "markdown",
      "metadata": {
        "id": "J61nrvXQsFZk"
      },
      "source": [
        "### Macro Precision"
      ]
    },
    {
      "cell_type": "code",
      "execution_count": null,
      "metadata": {
        "colab": {
          "base_uri": "https://localhost:8080/"
        },
        "id": "1E3-FHwPsIs2",
        "outputId": "3488acda-ba78-4c0f-ec40-fd1fccca9a0f"
      },
      "outputs": [
        {
          "output_type": "stream",
          "name": "stdout",
          "text": [
            "0.784689202462856\n",
            "0.017311964395202654\n"
          ]
        }
      ],
      "source": [
        "from sklearn.metrics import classification_report, accuracy_score,precision_score, make_scorer, f1_score\n",
        "from sklearn.model_selection import cross_val_score, StratifiedKFold\n",
        "\n",
        "def classification_report_with_accuracy_score(y_true, y_pred):\n",
        "    return precision_score(y_true, y_pred,average=\"macro\")\n",
        "\n",
        "    \n",
        "kfold = StratifiedKFold(n_splits=5, random_state=42,shuffle=True)\n",
        "# Nested CV with parameter optimization\n",
        "precision_score = cross_val_score(lr_tfidf, X=cross_val_df['text'].values, y=cross_val_df['labels'].values, cv=kfold, \n",
        "               scoring=make_scorer(classification_report_with_accuracy_score))\n",
        "print(precision_score.mean())\n",
        "print(precision_score.std()) "
      ]
    },
    {
      "cell_type": "markdown",
      "metadata": {
        "id": "xCQXmJHK9P46"
      },
      "source": [
        "### Weighted Precision"
      ]
    },
    {
      "cell_type": "code",
      "execution_count": null,
      "metadata": {
        "colab": {
          "base_uri": "https://localhost:8080/"
        },
        "id": "__JikLeS9NnK",
        "outputId": "f7f02ea8-8a35-48dc-81a5-9fac45517129"
      },
      "outputs": [
        {
          "output_type": "stream",
          "name": "stdout",
          "text": [
            "0.7900833659354463\n",
            "0.01597271112003094\n"
          ]
        }
      ],
      "source": [
        "from sklearn.metrics import classification_report, accuracy_score,precision_score, make_scorer, f1_score\n",
        "from sklearn.model_selection import cross_val_score, StratifiedKFold\n",
        "\n",
        "def classification_report_with_accuracy_score(y_true, y_pred):\n",
        "    return precision_score(y_true, y_pred,average=\"weighted\")\n",
        "\n",
        "    \n",
        "kfold = StratifiedKFold(n_splits=5, random_state=42,shuffle=True)\n",
        "# Nested CV with parameter optimization\n",
        "precision_score = cross_val_score(lr_tfidf, X=cross_val_df['text'].values, y=cross_val_df['labels'].values, cv=kfold, \n",
        "               scoring=make_scorer(classification_report_with_accuracy_score))\n",
        "print(precision_score.mean())\n",
        "print(precision_score.std()) "
      ]
    },
    {
      "cell_type": "markdown",
      "metadata": {
        "id": "kS6Rv-WT9aUV"
      },
      "source": [
        "### Macro Recall"
      ]
    },
    {
      "cell_type": "code",
      "execution_count": null,
      "metadata": {
        "colab": {
          "base_uri": "https://localhost:8080/"
        },
        "id": "dokeFcKO9dPa",
        "outputId": "a35efbde-1c57-45c2-8ccb-ac2ec344f148"
      },
      "outputs": [
        {
          "output_type": "stream",
          "name": "stdout",
          "text": [
            "0.7055971849682894\n",
            "0.02287750816467066\n"
          ]
        }
      ],
      "source": [
        "from sklearn.metrics import recall_score\n",
        "def classification_report_with_accuracy_score(y_true, y_pred):\n",
        "\n",
        "    return recall_score(y_true, y_pred,average=\"macro\")\n",
        "\n",
        "\n",
        "\n",
        "\n",
        "\n",
        "kfold = StratifiedKFold(n_splits=5, random_state=42,shuffle=True)\n",
        "# Nested CV with parameter optimization\n",
        "recall_score = cross_val_score(lr_tfidf, X=cross_val_df['text'].values, y=cross_val_df['labels'].values, cv=kfold, \n",
        "               scoring=make_scorer(classification_report_with_accuracy_score))\n",
        "print(recall_score.mean())\n",
        "print(recall_score.std()) "
      ]
    },
    {
      "cell_type": "markdown",
      "metadata": {
        "id": "fL8k8VJ3seZe"
      },
      "source": [
        "### Weighted Recall"
      ]
    },
    {
      "cell_type": "code",
      "execution_count": null,
      "metadata": {
        "colab": {
          "base_uri": "https://localhost:8080/"
        },
        "id": "_IYBIDYMshSm",
        "outputId": "22ad5e39-8eb7-4cf8-8fb1-f3032695706d"
      },
      "outputs": [
        {
          "output_type": "stream",
          "name": "stdout",
          "text": [
            "0.7935360719395055\n",
            "0.01482509803447973\n"
          ]
        }
      ],
      "source": [
        "from sklearn.metrics import recall_score\n",
        "def classification_report_with_accuracy_score(y_true, y_pred):\n",
        "\n",
        "    return recall_score(y_true, y_pred,average=\"weighted\")\n",
        "\n",
        "\n",
        "\n",
        "\n",
        "\n",
        "kfold = StratifiedKFold(n_splits=5, random_state=42,shuffle=True)\n",
        "# Nested CV with parameter optimization\n",
        "recall_score = cross_val_score(lr_tfidf, X=cross_val_df['text'].values, y=cross_val_df['labels'].values, cv=kfold, \n",
        "               scoring=make_scorer(classification_report_with_accuracy_score))\n",
        "print(recall_score.mean())\n",
        "print(recall_score.std()) "
      ]
    },
    {
      "cell_type": "markdown",
      "metadata": {
        "id": "DSIppV55swHU"
      },
      "source": [
        "### Confusion Matrix"
      ]
    },
    {
      "cell_type": "code",
      "execution_count": null,
      "metadata": {
        "colab": {
          "base_uri": "https://localhost:8080/"
        },
        "id": "inf3d62ZsvkP",
        "outputId": "5c504f2d-5ed3-435b-cae7-35b6f4d67b4e"
      },
      "outputs": [
        {
          "output_type": "stream",
          "name": "stdout",
          "text": [
            "[[ 514  570]\n",
            " [ 152 2261]]\n"
          ]
        }
      ],
      "source": [
        "from sklearn.model_selection import cross_val_predict\n",
        "from sklearn.metrics import confusion_matrix\n",
        "y_pred = cross_val_predict(lr_tfidf, X=cross_val_df['text'].values, y=cross_val_df['labels'].values, cv=kfold)\n",
        "conf_mat = confusion_matrix(cross_val_df['labels'].values, y_pred)\n",
        "print(conf_mat)"
      ]
    },
    {
      "cell_type": "markdown",
      "metadata": {
        "id": "g_QfxW94ciXY"
      },
      "source": [
        "## LR BOW"
      ]
    },
    {
      "cell_type": "markdown",
      "metadata": {
        "id": "FGz6H-A7s7hJ"
      },
      "source": [
        "### Macro F1"
      ]
    },
    {
      "cell_type": "code",
      "execution_count": null,
      "metadata": {
        "colab": {
          "base_uri": "https://localhost:8080/"
        },
        "id": "lAhjzUQtceMa",
        "outputId": "5e812109-cb61-4d68-ea66-6d0a3bee3062"
      },
      "outputs": [
        {
          "output_type": "stream",
          "name": "stdout",
          "text": [
            "0.7369184364293623\n",
            "0.015954261169327008\n"
          ]
        }
      ],
      "source": [
        "from sklearn.metrics import classification_report, accuracy_score, make_scorer, f1_score\n",
        "from sklearn.model_selection import cross_val_score, StratifiedKFold\n",
        "\n",
        "def classification_report_with_accuracy_score(y_true, y_pred):\n",
        "    return f1_score(y_true, y_pred,average=\"macro\")\n",
        "\n",
        "    \n",
        "kfold = StratifiedKFold(n_splits=5, random_state=42,shuffle=True)\n",
        "# Nested CV with parameter optimization\n",
        "nested_score = cross_val_score(lr_bow, X=cross_val_df['text'].values, y=cross_val_df['labels'].values, cv=kfold, \n",
        "               scoring=make_scorer(classification_report_with_accuracy_score))\n",
        "print(nested_score.mean()) \n",
        "print(nested_score.std())"
      ]
    },
    {
      "cell_type": "markdown",
      "metadata": {
        "id": "I91vEv07tFdM"
      },
      "source": [
        "### Weighted F1"
      ]
    },
    {
      "cell_type": "code",
      "execution_count": null,
      "metadata": {
        "colab": {
          "base_uri": "https://localhost:8080/"
        },
        "id": "hoosS_eEtE5d",
        "outputId": "f4acbd4e-36ee-4fae-a91d-9edc180eb5da"
      },
      "outputs": [
        {
          "output_type": "stream",
          "name": "stdout",
          "text": [
            "0.7827044833708066\n",
            "0.012528198912697375\n"
          ]
        }
      ],
      "source": [
        "from sklearn.metrics import classification_report, accuracy_score, make_scorer, f1_score\n",
        "from sklearn.model_selection import cross_val_score, StratifiedKFold\n",
        "\n",
        "def classification_report_with_accuracy_score(y_true, y_pred):\n",
        "    return f1_score(y_true, y_pred,average=\"weighted\")\n",
        "\n",
        "    \n",
        "kfold = StratifiedKFold(n_splits=5, random_state=42,shuffle=True)\n",
        "# Nested CV with parameter optimization\n",
        "nested_score = cross_val_score(lr_bow, X=cross_val_df['text'].values, y=cross_val_df['labels'].values, cv=kfold, \n",
        "               scoring=make_scorer(classification_report_with_accuracy_score))\n",
        "print(nested_score.mean()) \n",
        "print(nested_score.std())"
      ]
    },
    {
      "cell_type": "markdown",
      "metadata": {
        "id": "zOVGwn_v9qzm"
      },
      "source": [
        "### Macro Precision"
      ]
    },
    {
      "cell_type": "code",
      "execution_count": null,
      "metadata": {
        "colab": {
          "base_uri": "https://localhost:8080/"
        },
        "id": "TrqBXcQm9n9H",
        "outputId": "1e5c3434-cfd4-4758-db97-1abae362bd7a"
      },
      "outputs": [
        {
          "output_type": "stream",
          "name": "stdout",
          "text": [
            "0.7667967655062726\n",
            "0.014789921729716774\n"
          ]
        }
      ],
      "source": [
        "from sklearn.metrics import classification_report, accuracy_score,precision_score, make_scorer, f1_score\n",
        "from sklearn.model_selection import cross_val_score, StratifiedKFold\n",
        "\n",
        "def classification_report_with_accuracy_score(y_true, y_pred):\n",
        "    return precision_score(y_true, y_pred,average=\"macro\")\n",
        "\n",
        "    \n",
        "kfold = StratifiedKFold(n_splits=5, random_state=42,shuffle=True)\n",
        "# Nested CV with parameter optimization\n",
        "precision_score = cross_val_score(lr_bow, X=cross_val_df['text'].values, y=cross_val_df['labels'].values, cv=kfold, \n",
        "               scoring=make_scorer(classification_report_with_accuracy_score))\n",
        "print(precision_score.mean())\n",
        "print(precision_score.std()) "
      ]
    },
    {
      "cell_type": "markdown",
      "metadata": {
        "id": "WVJFXm2HtYLQ"
      },
      "source": [
        "### Weighted Precision"
      ]
    },
    {
      "cell_type": "code",
      "execution_count": null,
      "metadata": {
        "colab": {
          "base_uri": "https://localhost:8080/"
        },
        "id": "YfC-KPX6tSbr",
        "outputId": "20dfb40f-2dd9-4738-a9a6-b821d461db8e"
      },
      "outputs": [
        {
          "output_type": "stream",
          "name": "stdout",
          "text": [
            "0.7848078730524277\n",
            "0.012605097113859248\n"
          ]
        }
      ],
      "source": [
        "from sklearn.metrics import classification_report, accuracy_score,precision_score, make_scorer, f1_score\n",
        "from sklearn.model_selection import cross_val_score, StratifiedKFold\n",
        "\n",
        "def classification_report_with_accuracy_score(y_true, y_pred):\n",
        "    return precision_score(y_true, y_pred,average=\"weighted\")\n",
        "\n",
        "    \n",
        "kfold = StratifiedKFold(n_splits=5, random_state=42,shuffle=True)\n",
        "# Nested CV with parameter optimization\n",
        "precision_score = cross_val_score(lr_bow, X=cross_val_df['text'].values, y=cross_val_df['labels'].values, cv=kfold, \n",
        "               scoring=make_scorer(classification_report_with_accuracy_score))\n",
        "print(precision_score.mean())\n",
        "print(precision_score.std()) "
      ]
    },
    {
      "cell_type": "markdown",
      "metadata": {
        "id": "_AmdOm4Y90Q-"
      },
      "source": [
        "### Macro Recall|"
      ]
    },
    {
      "cell_type": "code",
      "execution_count": null,
      "metadata": {
        "colab": {
          "base_uri": "https://localhost:8080/"
        },
        "id": "RDQvbh2j9z14",
        "outputId": "3ed41938-244d-442d-8302-b1202595bf91"
      },
      "outputs": [
        {
          "output_type": "stream",
          "name": "stdout",
          "text": [
            "[0.74190209 0.69478394 0.72065505 0.73269977 0.72290476]\n",
            "Mean of recall 0.7225891224613095\n",
            "STD of recall 0.015825196130110054\n"
          ]
        }
      ],
      "source": [
        "from sklearn.metrics import recall_score\n",
        "def classification_report_with_accuracy_score(y_true, y_pred):\n",
        "\n",
        "    #print(classification_report(y_true, y_pred)) # print classification report\n",
        "    return recall_score(y_true, y_pred,average=\"macro\")\n",
        "\n",
        "\n",
        "\n",
        "\n",
        "\n",
        "kfold = StratifiedKFold(n_splits=5, random_state=42,shuffle=True)\n",
        "# Nested CV with parameter optimization\n",
        "recall_score = cross_val_score(lr_bow, X=cross_val_df['text'].values, y=cross_val_df['labels'].values, cv=kfold, \n",
        "               scoring=make_scorer(classification_report_with_accuracy_score))\n",
        "print(recall_score) \n",
        "print(\"Mean of recall\",recall_score.mean())\n",
        "print(\"STD of recall\",recall_score.std())\n"
      ]
    },
    {
      "cell_type": "markdown",
      "metadata": {
        "id": "Kc8suC8RtjGs"
      },
      "source": [
        "### Weighted Recall"
      ]
    },
    {
      "cell_type": "code",
      "execution_count": null,
      "metadata": {
        "colab": {
          "base_uri": "https://localhost:8080/"
        },
        "id": "p6yWQ7O4tepx",
        "outputId": "9758196c-b6ec-4648-a920-3d305fd6bdd6"
      },
      "outputs": [
        {
          "output_type": "stream",
          "name": "stdout",
          "text": [
            "[0.80142857 0.77142857 0.7925608  0.80257511 0.7925608 ]\n",
            "Mean of recall 0.7921107704884529\n",
            "STD of recall 0.011175707336179157\n"
          ]
        }
      ],
      "source": [
        "from sklearn.metrics import recall_score\n",
        "def classification_report_with_accuracy_score(y_true, y_pred):\n",
        "\n",
        "    #print(classification_report(y_true, y_pred)) # print classification report\n",
        "    return recall_score(y_true, y_pred,average=\"weighted\")\n",
        "\n",
        "\n",
        "\n",
        "\n",
        "\n",
        "kfold = StratifiedKFold(n_splits=5, random_state=42,shuffle=True)\n",
        "# Nested CV with parameter optimization\n",
        "recall_score = cross_val_score(lr_bow, X=cross_val_df['text'].values, y=cross_val_df['labels'].values, cv=kfold, \n",
        "               scoring=make_scorer(classification_report_with_accuracy_score))\n",
        "print(recall_score) \n",
        "print(\"Mean of recall\",recall_score.mean())\n",
        "print(\"STD of recall\",recall_score.std())\n"
      ]
    },
    {
      "cell_type": "markdown",
      "metadata": {
        "id": "u7f6YDG6uOZb"
      },
      "source": [
        "### Confuion Matrix"
      ]
    },
    {
      "cell_type": "code",
      "execution_count": null,
      "metadata": {
        "id": "xNIV6KFZuRab",
        "colab": {
          "base_uri": "https://localhost:8080/"
        },
        "outputId": "efc4cbc1-8f97-4e44-8717-9c52a4a86248"
      },
      "outputs": [
        {
          "output_type": "stream",
          "name": "stdout",
          "text": [
            "[[ 585  499]\n",
            " [ 228 2185]]\n"
          ]
        }
      ],
      "source": [
        "from sklearn.model_selection import cross_val_predict\n",
        "from sklearn.metrics import confusion_matrix\n",
        "y_pred = cross_val_predict(lr_bow, X=cross_val_df['text'].values, y=cross_val_df['labels'].values, cv=kfold)\n",
        "conf_mat = confusion_matrix(cross_val_df['labels'].values, y_pred)\n",
        "print(conf_mat)"
      ]
    },
    {
      "cell_type": "markdown",
      "metadata": {
        "id": "9KfDvafM-CJs"
      },
      "source": [
        "# FASTTEXT"
      ]
    },
    {
      "cell_type": "code",
      "execution_count": null,
      "metadata": {
        "colab": {
          "base_uri": "https://localhost:8080/"
        },
        "id": "Xlw6KIbR6xXf",
        "outputId": "65e3d071-f84a-42e5-f2b8-f02dfe78503e"
      },
      "outputs": [
        {
          "output_type": "stream",
          "name": "stdout",
          "text": [
            "\u001b[?25l\r\u001b[K     |████▊                           | 10 kB 26.4 MB/s eta 0:00:01\r\u001b[K     |█████████▌                      | 20 kB 32.2 MB/s eta 0:00:01\r\u001b[K     |██████████████▎                 | 30 kB 27.7 MB/s eta 0:00:01\r\u001b[K     |███████████████████             | 40 kB 14.0 MB/s eta 0:00:01\r\u001b[K     |███████████████████████▉        | 51 kB 8.6 MB/s eta 0:00:01\r\u001b[K     |████████████████████████████▋   | 61 kB 8.4 MB/s eta 0:00:01\r\u001b[K     |████████████████████████████████| 68 kB 3.9 MB/s \n",
            "\u001b[?25h  Building wheel for fasttext (setup.py) ... \u001b[?25l\u001b[?25hdone\n"
          ]
        }
      ],
      "source": [
        "!pip install fasttext -q"
      ]
    },
    {
      "cell_type": "code",
      "execution_count": null,
      "metadata": {
        "colab": {
          "base_uri": "https://localhost:8080/"
        },
        "id": "if8pBxrK8wo2",
        "outputId": "d3ca5d7e-e95c-40b2-d364-6519563b932e"
      },
      "outputs": [
        {
          "output_type": "stream",
          "name": "stdout",
          "text": [
            "--2022-01-29 12:39:58--  https://dl.fbaipublicfiles.com/fasttext/vectors-crawl/cc.ta.300.bin.gz\n",
            "Resolving dl.fbaipublicfiles.com (dl.fbaipublicfiles.com)... 104.22.75.142, 104.22.74.142, 172.67.9.4, ...\n",
            "Connecting to dl.fbaipublicfiles.com (dl.fbaipublicfiles.com)|104.22.75.142|:443... connected.\n",
            "HTTP request sent, awaiting response... 200 OK\n",
            "Length: 4510026494 (4.2G) [application/octet-stream]\n",
            "Saving to: ‘cc.ta.300.bin.gz’\n",
            "\n",
            "cc.ta.300.bin.gz    100%[===================>]   4.20G  42.5MB/s    in 97s     \n",
            "\n",
            "2022-01-29 12:41:35 (44.6 MB/s) - ‘cc.ta.300.bin.gz’ saved [4510026494/4510026494]\n",
            "\n"
          ]
        }
      ],
      "source": [
        "!wget https://dl.fbaipublicfiles.com/fasttext/vectors-crawl/cc.ta.300.bin.gz"
      ]
    },
    {
      "cell_type": "code",
      "execution_count": null,
      "metadata": {
        "id": "91jqcZoFzTfZ"
      },
      "outputs": [],
      "source": [
        "!gzip -d /content/cc.ta.300.bin.gz"
      ]
    },
    {
      "cell_type": "code",
      "execution_count": null,
      "metadata": {
        "id": "0dQ86iFp8AWd"
      },
      "outputs": [],
      "source": [
        "import fasttext"
      ]
    },
    {
      "cell_type": "code",
      "execution_count": null,
      "metadata": {
        "colab": {
          "base_uri": "https://localhost:8080/"
        },
        "id": "ja-xS7gf8QcV",
        "outputId": "898a5e49-d45e-4ed0-b973-abd2d4511de7"
      },
      "outputs": [
        {
          "output_type": "stream",
          "name": "stderr",
          "text": [
            "Warning : `load_model` does not return WordVectorModel or SupervisedModel any more, but a `FastText` object which is very similar.\n"
          ]
        }
      ],
      "source": [
        "T_ft = fasttext.load_model('/content/cc.ta.300.bin')\n",
        "\n",
        "#T_ft.get_dimension()\n",
        "#fasttext.util.reduce_model(T_ft, 100)"
      ]
    },
    {
      "cell_type": "code",
      "execution_count": null,
      "metadata": {
        "id": "uLPoUWM5kvR7"
      },
      "outputs": [],
      "source": [
        "from sklearn.naive_bayes import GaussianNB\n",
        "\n",
        "dt = DecisionTreeClassifier()\n",
        "rf = RandomForestClassifier()\n",
        "lr = LogisticRegression()\n",
        "svc = LinearSVC()\n",
        "nb = GaussianNB()"
      ]
    },
    {
      "cell_type": "code",
      "execution_count": null,
      "metadata": {
        "id": "kREOMjNFe58d"
      },
      "outputs": [],
      "source": [
        "x = cross_val_df['text'].values\n",
        "y = cross_val_df['labels'].values\n",
        "\n",
        "x = [T_ft.get_word_vector(words)for words in x]\n",
        "#y = [T_ft.get_word_vector(words)for words in y]\n",
        "  "
      ]
    },
    {
      "cell_type": "markdown",
      "metadata": {
        "id": "HXzqfqPQf01Q"
      },
      "source": [
        "## LR with Fasttext"
      ]
    },
    {
      "cell_type": "markdown",
      "metadata": {
        "id": "LY95wv5MtrCo"
      },
      "source": [
        "### Macro F1"
      ]
    },
    {
      "cell_type": "code",
      "execution_count": null,
      "metadata": {
        "colab": {
          "base_uri": "https://localhost:8080/"
        },
        "id": "_223uXtjfxtq",
        "outputId": "17d26223-f644-4f75-c5e8-90086df72802"
      },
      "outputs": [
        {
          "output_type": "stream",
          "name": "stdout",
          "text": [
            "[0.40828402 0.40728196 0.41358374 0.4081287  0.40712468]\n",
            "Mean of F1 0.40888062279930476\n",
            "STD of F1 0.002394980374248761\n"
          ]
        }
      ],
      "source": [
        "from sklearn.metrics import classification_report, accuracy_score,precision_score, make_scorer, f1_score\n",
        "from sklearn.model_selection import cross_val_score, StratifiedKFold\n",
        "\n",
        "def classification_report_with_accuracy_score(y_true, y_pred):\n",
        "\n",
        "    return f1_score(y_true, y_pred,average=\"macro\")\n",
        "\n",
        "    \n",
        "kfold = StratifiedKFold(n_splits=5, random_state=42,shuffle=True)\n",
        "\n",
        "nested_score = cross_val_score(lr, X=x, y=y, cv=kfold, \n",
        "               scoring=make_scorer(classification_report_with_accuracy_score))\n",
        "print(nested_score) \n",
        "print(f\"Mean of F1 {nested_score.mean()}\")\n",
        "print(f\"STD of F1 {nested_score.std()}\")"
      ]
    },
    {
      "cell_type": "markdown",
      "metadata": {
        "id": "BgbihK2ttw-W"
      },
      "source": [
        "### Weighted F1"
      ]
    },
    {
      "cell_type": "code",
      "execution_count": null,
      "metadata": {
        "id": "m5MmYzvSttrX",
        "colab": {
          "base_uri": "https://localhost:8080/"
        },
        "outputId": "7531174f-139a-4cc9-a06a-2cb89abea8e3"
      },
      "outputs": [
        {
          "output_type": "stream",
          "name": "stdout",
          "text": [
            "[0.56343195 0.56204911 0.56804158 0.56285561 0.56147095]\n",
            "Mean of F1 0.5635698399974609\n",
            "STD of F1 0.002334246621323106\n"
          ]
        }
      ],
      "source": [
        "from sklearn.metrics import classification_report, accuracy_score,precision_score, make_scorer, f1_score\n",
        "from sklearn.model_selection import cross_val_score, StratifiedKFold\n",
        "\n",
        "def classification_report_with_accuracy_score(y_true, y_pred):\n",
        "\n",
        "    return f1_score(y_true, y_pred,average=\"weighted\")\n",
        "\n",
        "nested_score = cross_val_score(lr, X=x, y=y, cv=kfold, \n",
        "               scoring=make_scorer(classification_report_with_accuracy_score))\n",
        "print(nested_score) \n",
        "print(f\"Mean of F1 {nested_score.mean()}\")\n",
        "print(f\"STD of F1 {nested_score.std()}\")"
      ]
    },
    {
      "cell_type": "markdown",
      "metadata": {
        "id": "SZ4iIup9-PSf"
      },
      "source": [
        "### Macro Precision"
      ]
    },
    {
      "cell_type": "code",
      "execution_count": null,
      "metadata": {
        "id": "tom6NZ7d9-JK",
        "colab": {
          "base_uri": "https://localhost:8080/"
        },
        "outputId": "48fa01c0-63ac-40ea-d32e-8fa019eedb5e"
      },
      "outputs": [
        {
          "output_type": "stream",
          "name": "stdout",
          "text": [
            "[0.345      0.34455587 0.84598854 0.34477825 0.34433286]\n",
            "0.4449311044700412\n",
            "0.2005288404140211\n"
          ]
        }
      ],
      "source": [
        "from sklearn.metrics import classification_report, accuracy_score,precision_score, make_scorer, f1_score\n",
        "from sklearn.model_selection import cross_val_score, StratifiedKFold\n",
        "\n",
        "def classification_report_with_accuracy_score(y_true, y_pred):\n",
        "\n",
        "    return precision_score(y_true, y_pred,average=\"macro\")\n",
        "\n",
        "    \n",
        "kfold = StratifiedKFold(n_splits=5, random_state=42,shuffle=True)\n",
        "# Nested CV with parameter optimization\n",
        "precision_score = cross_val_score(lr, X=x, y=y, cv=kfold, \n",
        "               scoring=make_scorer(classification_report_with_accuracy_score))\n",
        "print(precision_score) \n",
        "print(precision_score.mean())\n",
        "print(precision_score.std())"
      ]
    },
    {
      "cell_type": "markdown",
      "metadata": {
        "id": "n2tgKns3t7wc"
      },
      "source": [
        "### Weighted Precision"
      ]
    },
    {
      "cell_type": "code",
      "execution_count": null,
      "metadata": {
        "id": "S-S_vBrUt66m",
        "colab": {
          "base_uri": "https://localhost:8080/"
        },
        "outputId": "3e37f33f-a641-4add-b80c-fee4518f3b45"
      },
      "outputs": [
        {
          "output_type": "stream",
          "name": "stdout",
          "text": [
            "[0.4761     0.47548711 0.78716013 0.47548818 0.47487392]\n",
            "0.537821867028554\n",
            "0.12466973259610988\n"
          ]
        }
      ],
      "source": [
        "from sklearn.metrics import classification_report, accuracy_score,precision_score, make_scorer, f1_score\n",
        "from sklearn.model_selection import cross_val_score, StratifiedKFold\n",
        "\n",
        "def classification_report_with_accuracy_score(y_true, y_pred):\n",
        "\n",
        "    return precision_score(y_true, y_pred,average=\"weighted\")\n",
        "\n",
        "    \n",
        "kfold = StratifiedKFold(n_splits=5, random_state=42,shuffle=True)\n",
        "# Nested CV with parameter optimization\n",
        "precision_score = cross_val_score(lr, X=x, y=y, cv=kfold, \n",
        "               scoring=make_scorer(classification_report_with_accuracy_score))\n",
        "print(precision_score) \n",
        "print(precision_score.mean())\n",
        "print(precision_score.std())"
      ]
    },
    {
      "cell_type": "markdown",
      "metadata": {
        "id": "dTjPP4U1-h_2"
      },
      "source": [
        "### Macro Recall"
      ]
    },
    {
      "cell_type": "code",
      "execution_count": null,
      "metadata": {
        "id": "ZDvxHgHM-htI",
        "colab": {
          "base_uri": "https://localhost:8080/"
        },
        "outputId": "44ec119c-3334-4654-bedf-549c6b4eaaee"
      },
      "outputs": [
        {
          "output_type": "stream",
          "name": "stdout",
          "text": [
            "[0.5        0.49792961 0.50231481 0.5        0.49792531]\n",
            "Mean of recall 0.4996339465286786\n",
            "STD of recall 0.0016296781422598457\n"
          ]
        }
      ],
      "source": [
        "from sklearn.metrics import recall_score\n",
        "def classification_report_with_accuracy_score(y_true, y_pred):\n",
        "\n",
        "    #print(classification_report(y_true, y_pred)) # print classification report\n",
        "    return recall_score(y_true, y_pred,average=\"macro\")\n",
        "\n",
        "\n",
        "\n",
        "\n",
        "\n",
        "kfold = StratifiedKFold(n_splits=5, random_state=42,shuffle=True)\n",
        "# Nested CV with parameter optimization\n",
        "recall_score = cross_val_score(lr, X=x, y=y, cv=kfold, \n",
        "               scoring=make_scorer(classification_report_with_accuracy_score))\n",
        "print(recall_score) \n",
        "print(\"Mean of recall\",recall_score.mean())\n",
        "print(\"STD of recall\",recall_score.std())\n"
      ]
    },
    {
      "cell_type": "markdown",
      "metadata": {
        "id": "4Da8qfE3uEzR"
      },
      "source": [
        "### Weighted Recall"
      ]
    },
    {
      "cell_type": "code",
      "execution_count": null,
      "metadata": {
        "id": "VfGokuBruHXg",
        "colab": {
          "base_uri": "https://localhost:8080/"
        },
        "outputId": "ab5b3291-34a0-4a11-a552-6937cc6e8268"
      },
      "outputs": [
        {
          "output_type": "stream",
          "name": "stdout",
          "text": [
            "[0.69       0.68714286 0.69241774 0.68955651 0.68669528]\n",
            "Mean of recall 0.6891624770079706\n",
            "STD of recall 0.0020793927715807253\n"
          ]
        }
      ],
      "source": [
        "from sklearn.metrics import recall_score\n",
        "def classification_report_with_accuracy_score(y_true, y_pred):\n",
        "\n",
        "    #print(classification_report(y_true, y_pred)) # print classification report\n",
        "    return recall_score(y_true, y_pred,average=\"weighted\")\n",
        "\n",
        "\n",
        "\n",
        "\n",
        "\n",
        "kfold = StratifiedKFold(n_splits=5, random_state=42,shuffle=True)\n",
        "# Nested CV with parameter optimization\n",
        "recall_score = cross_val_score(lr, X=x, y=y, cv=kfold, \n",
        "               scoring=make_scorer(classification_report_with_accuracy_score))\n",
        "print(recall_score) \n",
        "print(\"Mean of recall\",recall_score.mean())\n",
        "print(\"STD of recall\",recall_score.std())\n"
      ]
    },
    {
      "cell_type": "code",
      "execution_count": null,
      "metadata": {
        "id": "3Hq_a7czu7W9",
        "colab": {
          "base_uri": "https://localhost:8080/"
        },
        "outputId": "9c621980-6878-43bb-f7e8-071bedc98f5e"
      },
      "outputs": [
        {
          "output_type": "stream",
          "name": "stdout",
          "text": [
            "[[   1 1083]\n",
            " [   4 2409]]\n"
          ]
        }
      ],
      "source": [
        "from sklearn.model_selection import cross_val_predict\n",
        "from sklearn.metrics import confusion_matrix\n",
        "y_pred = cross_val_predict(lr, X=x, y=y, cv=kfold)\n",
        "conf_mat = confusion_matrix(cross_val_df['labels'].values, y_pred)\n",
        "print(conf_mat)"
      ]
    },
    {
      "cell_type": "markdown",
      "source": [
        "### Confusion mATRIX"
      ],
      "metadata": {
        "id": "Y57mZbVWZyrE"
      }
    },
    {
      "cell_type": "code",
      "source": [
        "from sklearn.model_selection import cross_val_predict\n",
        "from sklearn.metrics import confusion_matrix\n",
        "y_pred = cross_val_predict(lr, X=x, y=y, cv=kfold)\n",
        "conf_mat = confusion_matrix(y, y_pred)\n",
        "print(conf_mat)"
      ],
      "metadata": {
        "id": "P3D_-nXMZn3s",
        "colab": {
          "base_uri": "https://localhost:8080/"
        },
        "outputId": "628d6f77-5448-4c82-9dd5-6873902ad673"
      },
      "execution_count": null,
      "outputs": [
        {
          "output_type": "stream",
          "name": "stdout",
          "text": [
            "[[   1 1083]\n",
            " [   4 2409]]\n"
          ]
        }
      ]
    },
    {
      "cell_type": "markdown",
      "metadata": {
        "id": "r0xPNBnagRP_"
      },
      "source": [
        "## DT with Fasttext"
      ]
    },
    {
      "cell_type": "markdown",
      "metadata": {
        "id": "l_qI8UUFvEJ3"
      },
      "source": [
        "### Macro F1"
      ]
    },
    {
      "cell_type": "code",
      "execution_count": null,
      "metadata": {
        "id": "KhKGd486gOv4",
        "colab": {
          "base_uri": "https://localhost:8080/"
        },
        "outputId": "ff191a7a-a434-4d7c-8932-1be94a2e856d"
      },
      "outputs": [
        {
          "output_type": "stream",
          "name": "stdout",
          "text": [
            "[0.61842332 0.60207666 0.61182614 0.61078057 0.60498174]\n",
            "Mean of F1 0.6096176863383679\n",
            "STD of F1 0.005694346802011977\n"
          ]
        }
      ],
      "source": [
        "from sklearn.metrics import classification_report, accuracy_score,precision_score, make_scorer, f1_score\n",
        "from sklearn.model_selection import cross_val_score, StratifiedKFold\n",
        "\n",
        "def classification_report_with_accuracy_score(y_true, y_pred):\n",
        "\n",
        "    return f1_score(y_true, y_pred,average=\"macro\")\n",
        "\n",
        "\n",
        "nested_score = cross_val_score(dt, X=x, y=y, cv=kfold, \n",
        "               scoring=make_scorer(classification_report_with_accuracy_score))\n",
        "print(nested_score) \n",
        "print(f\"Mean of F1 {nested_score.mean()}\")\n",
        "print(f\"STD of F1 {nested_score.std()}\")"
      ]
    },
    {
      "cell_type": "markdown",
      "metadata": {
        "id": "1FNF6HB8vHCu"
      },
      "source": [
        "### Weighted F1"
      ]
    },
    {
      "cell_type": "code",
      "execution_count": null,
      "metadata": {
        "id": "Jyp4Fk-kvJom",
        "colab": {
          "base_uri": "https://localhost:8080/"
        },
        "outputId": "80aaa8af-8c90-4673-b799-3972dd8a2e4a"
      },
      "outputs": [
        {
          "output_type": "stream",
          "name": "stdout",
          "text": [
            "[0.65711096 0.66354206 0.64880452 0.67177548 0.66662423]\n",
            "Mean of F1 0.6615714517526528\n",
            "STD of F1 0.007955208682544068\n"
          ]
        }
      ],
      "source": [
        "from sklearn.metrics import classification_report, accuracy_score,precision_score, make_scorer, f1_score\n",
        "from sklearn.model_selection import cross_val_score, StratifiedKFold\n",
        "\n",
        "def classification_report_with_accuracy_score(y_true, y_pred):\n",
        "\n",
        "    return f1_score(y_true, y_pred,average=\"weighted\")\n",
        "\n",
        "\n",
        "nested_score = cross_val_score(dt, X=x, y=y, cv=kfold, \n",
        "               scoring=make_scorer(classification_report_with_accuracy_score))\n",
        "print(nested_score) \n",
        "print(f\"Mean of F1 {nested_score.mean()}\")\n",
        "print(f\"STD of F1 {nested_score.std()}\")"
      ]
    },
    {
      "cell_type": "markdown",
      "metadata": {
        "id": "6CQ6Yvv0_MFU"
      },
      "source": [
        "### Macro Precision"
      ]
    },
    {
      "cell_type": "code",
      "execution_count": null,
      "metadata": {
        "id": "Dl6QNsLk-zrr",
        "colab": {
          "base_uri": "https://localhost:8080/"
        },
        "outputId": "23f53ff7-5b3d-4916-bf70-9756475ff5c8"
      },
      "outputs": [
        {
          "output_type": "stream",
          "name": "stdout",
          "text": [
            "[0.61482205 0.62275273 0.60703614 0.61908607 0.61437141]\n",
            "0.6156136790125262\n",
            "0.0052681597345435325\n"
          ]
        }
      ],
      "source": [
        "from sklearn.metrics import classification_report, accuracy_score,precision_score, make_scorer, f1_score\n",
        "from sklearn.model_selection import cross_val_score, StratifiedKFold\n",
        "\n",
        "def classification_report_with_accuracy_score(y_true, y_pred):\n",
        "\n",
        "    return precision_score(y_true, y_pred,average=\"macro\")\n",
        "\n",
        "    \n",
        "kfold = StratifiedKFold(n_splits=5, random_state=42,shuffle=True)\n",
        "# Nested CV with parameter optimization\n",
        "precision_score = cross_val_score(dt, X=x, y=y, cv=kfold, \n",
        "               scoring=make_scorer(classification_report_with_accuracy_score))\n",
        "print(precision_score) \n",
        "print(precision_score.mean())\n",
        "print(precision_score.std())"
      ]
    },
    {
      "cell_type": "markdown",
      "metadata": {
        "id": "nwZfKe8KvP5Q"
      },
      "source": [
        "### Weighted Precision"
      ]
    },
    {
      "cell_type": "code",
      "execution_count": null,
      "metadata": {
        "id": "IEUs032Ivc0Q",
        "colab": {
          "base_uri": "https://localhost:8080/"
        },
        "outputId": "430e9973-6a24-4c72-f612-13c84464cd3b"
      },
      "outputs": [
        {
          "output_type": "stream",
          "name": "stdout",
          "text": [
            "[0.61902298 0.61407346 0.62031826 0.62174402 0.60685027]\n",
            "0.6164017994588121\n",
            "0.005429574781413764\n"
          ]
        }
      ],
      "source": [
        "from sklearn.metrics import classification_report, accuracy_score,precision_score, make_scorer, f1_score\n",
        "from sklearn.model_selection import cross_val_score, StratifiedKFold\n",
        "\n",
        "def classification_report_with_accuracy_score(y_true, y_pred):\n",
        "\n",
        "    return precision_score(y_true, y_pred,average=\"macro\")\n",
        "\n",
        "    \n",
        "kfold = StratifiedKFold(n_splits=5, random_state=42,shuffle=True)\n",
        "# Nested CV with parameter optimization\n",
        "precision_score = cross_val_score(dt, X=x, y=y, cv=kfold, \n",
        "               scoring=make_scorer(classification_report_with_accuracy_score))\n",
        "print(precision_score) \n",
        "print(precision_score.mean())\n",
        "print(precision_score.std())"
      ]
    },
    {
      "cell_type": "markdown",
      "metadata": {
        "id": "LgHbj52A_KJd"
      },
      "source": [
        "### Macro Recall"
      ]
    },
    {
      "cell_type": "code",
      "execution_count": null,
      "metadata": {
        "id": "XQbDeUg3_B3J",
        "colab": {
          "base_uri": "https://localhost:8080/"
        },
        "outputId": "d54ed0dd-e4ac-4a7a-d62f-b4726fff9912"
      },
      "outputs": [
        {
          "output_type": "stream",
          "name": "stdout",
          "text": [
            "[0.63524344 0.61714419 0.59763918 0.62644129 0.61780312]\n",
            "Mean of recall 0.618854243847624\n",
            "STD of recall 0.012492214616893635\n"
          ]
        }
      ],
      "source": [
        "from sklearn.metrics import recall_score\n",
        "def classification_report_with_accuracy_score(y_true, y_pred):\n",
        "\n",
        "    #print(classification_report(y_true, y_pred)) # print classification report\n",
        "    return recall_score(y_true, y_pred,average=\"macro\")\n",
        "\n",
        "\n",
        "\n",
        "\n",
        "\n",
        "kfold = StratifiedKFold(n_splits=5, random_state=42,shuffle=True)\n",
        "# Nested CV with parameter optimization\n",
        "recall_score = cross_val_score(dt, X=x, y=y, cv=kfold, \n",
        "               scoring=make_scorer(classification_report_with_accuracy_score))\n",
        "print(recall_score) \n",
        "print(\"Mean of recall\",recall_score.mean())\n",
        "print(\"STD of recall\",recall_score.std())\n"
      ]
    },
    {
      "cell_type": "markdown",
      "metadata": {
        "id": "fvAvrcOUvvrS"
      },
      "source": [
        "### Weighted Recall"
      ]
    },
    {
      "cell_type": "code",
      "execution_count": null,
      "metadata": {
        "id": "DVl53N21vuix",
        "colab": {
          "base_uri": "https://localhost:8080/"
        },
        "outputId": "af1e64eb-60a5-443f-d1c6-574bb1a12b1b"
      },
      "outputs": [
        {
          "output_type": "stream",
          "name": "stdout",
          "text": [
            "[0.66       0.65714286 0.64663805 0.66666667 0.68240343]\n",
            "Mean of recall 0.662570202329859\n",
            "STD of recall 0.011832442118141473\n"
          ]
        }
      ],
      "source": [
        "from sklearn.metrics import recall_score\n",
        "def classification_report_with_accuracy_score(y_true, y_pred):\n",
        "\n",
        "    #print(classification_report(y_true, y_pred)) # print classification report\n",
        "    return recall_score(y_true, y_pred,average=\"weighted\")\n",
        "\n",
        "\n",
        "\n",
        "\n",
        "\n",
        "kfold = StratifiedKFold(n_splits=5, random_state=42,shuffle=True)\n",
        "# Nested CV with parameter optimization\n",
        "recall_score = cross_val_score(dt, X=x, y=y, cv=kfold, \n",
        "               scoring=make_scorer(classification_report_with_accuracy_score))\n",
        "print(recall_score) \n",
        "print(\"Mean of recall\",recall_score.mean())\n",
        "print(\"STD of recall\",recall_score.std())\n"
      ]
    },
    {
      "cell_type": "markdown",
      "source": [
        "### cONFUSION Matrix"
      ],
      "metadata": {
        "id": "40iOH8CgZ2uU"
      }
    },
    {
      "cell_type": "code",
      "source": [
        "from sklearn.model_selection import cross_val_predict\n",
        "from sklearn.metrics import confusion_matrix\n",
        "y_pred = cross_val_predict(dt, X=x, y=y, cv=kfold)\n",
        "conf_mat = confusion_matrix(y, y_pred)\n",
        "print(conf_mat)"
      ],
      "metadata": {
        "id": "JuzlA8UyZ6Nz",
        "colab": {
          "base_uri": "https://localhost:8080/"
        },
        "outputId": "1157e403-5ff5-49fd-9fd0-05e28f12798d"
      },
      "execution_count": null,
      "outputs": [
        {
          "output_type": "stream",
          "name": "stdout",
          "text": [
            "[[ 534  550]\n",
            " [ 640 1773]]\n"
          ]
        }
      ]
    },
    {
      "cell_type": "markdown",
      "metadata": {
        "id": "tGcE4qr0gX54"
      },
      "source": [
        "## RF with Fasttext"
      ]
    },
    {
      "cell_type": "markdown",
      "metadata": {
        "id": "w9z2xUS5v_SH"
      },
      "source": [
        "### Macro F1"
      ]
    },
    {
      "cell_type": "code",
      "execution_count": null,
      "metadata": {
        "id": "myo0gzvygXEY",
        "colab": {
          "base_uri": "https://localhost:8080/"
        },
        "outputId": "fd92dc2b-5328-44d1-d178-1c50cff867cb"
      },
      "outputs": [
        {
          "output_type": "stream",
          "name": "stdout",
          "text": [
            "[0.73038799 0.68275277 0.67011388 0.70270363 0.68931106]\n",
            "Mean of F1 0.6950538669758928\n",
            "STD of F1 0.020558789613369727\n"
          ]
        }
      ],
      "source": [
        "from sklearn.metrics import classification_report, accuracy_score,precision_score, make_scorer, f1_score\n",
        "from sklearn.model_selection import cross_val_score, StratifiedKFold\n",
        "\n",
        "def classification_report_with_accuracy_score(y_true, y_pred):\n",
        "\n",
        "    return f1_score(y_true, y_pred,average=\"macro\")\n",
        "\n",
        "\n",
        "nested_score = cross_val_score(rf, X=x, y=y, cv=kfold, \n",
        "               scoring=make_scorer(classification_report_with_accuracy_score))\n",
        "print(nested_score) \n",
        "print(f\"Mean of F1 {nested_score.mean()}\")\n",
        "print(f\"STD of F1 {nested_score.std()}\")"
      ]
    },
    {
      "cell_type": "markdown",
      "metadata": {
        "id": "C6z3w6UVwF_y"
      },
      "source": [
        "### Weighted F1"
      ]
    },
    {
      "cell_type": "code",
      "execution_count": null,
      "metadata": {
        "id": "myrC6udYwBsc",
        "colab": {
          "base_uri": "https://localhost:8080/"
        },
        "outputId": "7d9e1383-ec78-431c-cf4d-63b0a18866e6"
      },
      "outputs": [
        {
          "output_type": "stream",
          "name": "stdout",
          "text": [
            "[0.8062242  0.73713963 0.74323951 0.74206312 0.75818025]\n",
            "Mean of F1 0.7573693420516523\n",
            "STD of F1 0.02541900081235339\n"
          ]
        }
      ],
      "source": [
        "from sklearn.metrics import classification_report, accuracy_score,precision_score, make_scorer, f1_score\n",
        "from sklearn.model_selection import cross_val_score, StratifiedKFold\n",
        "\n",
        "def classification_report_with_accuracy_score(y_true, y_pred):\n",
        "\n",
        "    return f1_score(y_true, y_pred,average=\"weighted\")\n",
        "\n",
        "\n",
        "nested_score = cross_val_score(rf, X=x, y=y, cv=kfold, \n",
        "               scoring=make_scorer(classification_report_with_accuracy_score))\n",
        "print(nested_score) \n",
        "print(f\"Mean of F1 {nested_score.mean()}\")\n",
        "print(f\"STD of F1 {nested_score.std()}\")"
      ]
    },
    {
      "cell_type": "markdown",
      "metadata": {
        "id": "0Q7pzKyl_UbN"
      },
      "source": [
        "### Macro Precision"
      ]
    },
    {
      "cell_type": "code",
      "execution_count": null,
      "metadata": {
        "id": "gRXhvmxz_PFs",
        "colab": {
          "base_uri": "https://localhost:8080/"
        },
        "outputId": "1b56f47e-ec7d-4c98-838d-9f70a999481c"
      },
      "outputs": [
        {
          "output_type": "stream",
          "name": "stdout",
          "text": [
            "[0.84772272 0.77829879 0.79182214 0.78149111 0.76352061]\n",
            "0.7925710741945389\n",
            "0.029026396889160873\n"
          ]
        }
      ],
      "source": [
        "from sklearn.metrics import classification_report, accuracy_score,precision_score, make_scorer, f1_score\n",
        "from sklearn.model_selection import cross_val_score, StratifiedKFold\n",
        "\n",
        "def classification_report_with_accuracy_score(y_true, y_pred):\n",
        "\n",
        "    return precision_score(y_true, y_pred,average=\"macro\")\n",
        "\n",
        "    \n",
        "kfold = StratifiedKFold(n_splits=5, random_state=42,shuffle=True)\n",
        "# Nested CV with parameter optimization\n",
        "precision_score = cross_val_score(rf, X=x, y=y, cv=kfold, \n",
        "               scoring=make_scorer(classification_report_with_accuracy_score))\n",
        "print(precision_score) \n",
        "print(precision_score.mean())\n",
        "print(precision_score.std())"
      ]
    },
    {
      "cell_type": "markdown",
      "metadata": {
        "id": "GP3wYaBQwMY0"
      },
      "source": [
        "### Weighted Precision"
      ]
    },
    {
      "cell_type": "code",
      "execution_count": null,
      "metadata": {
        "id": "ew-m7AmxwQn2",
        "colab": {
          "base_uri": "https://localhost:8080/"
        },
        "outputId": "e1cbfbad-c1e5-49c5-c32e-9b82157ed652"
      },
      "outputs": [
        {
          "output_type": "stream",
          "name": "stdout",
          "text": [
            "[0.83075182 0.77243499 0.77979776 0.77645461 0.78494488]\n",
            "0.7888768127761611\n",
            "0.021335650283382582\n"
          ]
        }
      ],
      "source": [
        "from sklearn.metrics import classification_report, accuracy_score,precision_score, make_scorer, f1_score\n",
        "from sklearn.model_selection import cross_val_score, StratifiedKFold\n",
        "\n",
        "def classification_report_with_accuracy_score(y_true, y_pred):\n",
        "\n",
        "    return precision_score(y_true, y_pred,average=\"weighted\")\n",
        "\n",
        "    \n",
        "kfold = StratifiedKFold(n_splits=5, random_state=42,shuffle=True)\n",
        "# Nested CV with parameter optimization\n",
        "precision_score = cross_val_score(rf, X=x, y=y, cv=kfold, \n",
        "               scoring=make_scorer(classification_report_with_accuracy_score))\n",
        "print(precision_score) \n",
        "print(precision_score.mean())\n",
        "print(precision_score.std())"
      ]
    },
    {
      "cell_type": "markdown",
      "metadata": {
        "id": "Z1-zv8kY_XI4"
      },
      "source": [
        "### Macro Recall"
      ]
    },
    {
      "cell_type": "code",
      "execution_count": null,
      "metadata": {
        "id": "cnDMdKDC_Zii",
        "colab": {
          "base_uri": "https://localhost:8080/"
        },
        "outputId": "5b82c93d-7199-4080-c09d-1a688209d45b"
      },
      "outputs": [
        {
          "output_type": "stream",
          "name": "stdout",
          "text": [
            "[0.70717291 0.65544647 0.6531516  0.67786871 0.65920607]\n",
            "Mean of recall 0.670569152952339\n",
            "STD of recall 0.020269706376222867\n"
          ]
        }
      ],
      "source": [
        "from sklearn.metrics import recall_score\n",
        "def classification_report_with_accuracy_score(y_true, y_pred):\n",
        "\n",
        "    #print(classification_report(y_true, y_pred)) # print classification report\n",
        "    return recall_score(y_true, y_pred,average=\"macro\")\n",
        "\n",
        "\n",
        "\n",
        "\n",
        "\n",
        "kfold = StratifiedKFold(n_splits=5, random_state=42,shuffle=True)\n",
        "# Nested CV with parameter optimization\n",
        "recall_score = cross_val_score(rf, X=x, y=y, cv=kfold, \n",
        "               scoring=make_scorer(classification_report_with_accuracy_score))\n",
        "print(recall_score) \n",
        "print(\"Mean of recall\",recall_score.mean())\n",
        "print(\"STD of recall\",recall_score.std())\n"
      ]
    },
    {
      "cell_type": "markdown",
      "metadata": {
        "id": "JXo4bLL4wXfM"
      },
      "source": [
        "### Weighted Recall"
      ]
    },
    {
      "cell_type": "code",
      "execution_count": null,
      "metadata": {
        "id": "I-IEtDrwwaad",
        "colab": {
          "base_uri": "https://localhost:8080/"
        },
        "outputId": "c8a91e53-a84e-425b-c5a6-8a59336d5e2a"
      },
      "outputs": [
        {
          "output_type": "stream",
          "name": "stdout",
          "text": [
            "[0.80571429 0.77714286 0.78397711 0.77825465 0.77110157]\n",
            "Mean of recall 0.7832380952380953\n",
            "STD of recall 0.011958320081456987\n"
          ]
        }
      ],
      "source": [
        "from sklearn.metrics import recall_score\n",
        "def classification_report_with_accuracy_score(y_true, y_pred):\n",
        "\n",
        "    #print(classification_report(y_true, y_pred)) # print classification report\n",
        "    return recall_score(y_true, y_pred,average=\"weighted\")\n",
        "\n",
        "\n",
        "\n",
        "\n",
        "\n",
        "kfold = StratifiedKFold(n_splits=5, random_state=42,shuffle=True)\n",
        "# Nested CV with parameter optimization\n",
        "recall_score = cross_val_score(rf, X=x, y=y, cv=kfold, \n",
        "               scoring=make_scorer(classification_report_with_accuracy_score))\n",
        "print(recall_score) \n",
        "print(\"Mean of recall\",recall_score.mean())\n",
        "print(\"STD of recall\",recall_score.std())\n"
      ]
    },
    {
      "cell_type": "markdown",
      "source": [
        "### Confusion Matrix"
      ],
      "metadata": {
        "id": "5LbAvjl5Z9Ua"
      }
    },
    {
      "cell_type": "code",
      "source": [
        "from sklearn.model_selection import cross_val_predict\n",
        "from sklearn.metrics import confusion_matrix\n",
        "y_pred = cross_val_predict(rf, X=x, y=y, cv=kfold)\n",
        "conf_mat = confusion_matrix(y, y_pred)\n",
        "print(conf_mat)"
      ],
      "metadata": {
        "id": "VOV_j-w1aAb9",
        "colab": {
          "base_uri": "https://localhost:8080/"
        },
        "outputId": "42e5f5ce-2902-4024-9000-c1281b0b68fb"
      },
      "execution_count": null,
      "outputs": [
        {
          "output_type": "stream",
          "name": "stdout",
          "text": [
            "[[ 414  670]\n",
            " [ 107 2306]]\n"
          ]
        }
      ]
    },
    {
      "cell_type": "markdown",
      "metadata": {
        "id": "ujPxhLLVgfj0"
      },
      "source": [
        "## SVC with Fasttext"
      ]
    },
    {
      "cell_type": "code",
      "execution_count": null,
      "metadata": {
        "id": "VSfuBsyxgmVI",
        "colab": {
          "base_uri": "https://localhost:8080/"
        },
        "outputId": "6910528f-0a05-48c7-e06a-1475954db45b"
      },
      "outputs": [
        {
          "output_type": "stream",
          "name": "stdout",
          "text": [
            "[0.62719455 0.60479072 0.60790695 0.59475146 0.62835718]\n",
            "Mean of F1 0.6126001732252797\n",
            "STD of F1 0.013136738841594785\n"
          ]
        }
      ],
      "source": [
        "from sklearn.metrics import classification_report, accuracy_score,precision_score, make_scorer, f1_score\n",
        "from sklearn.model_selection import cross_val_score, StratifiedKFold\n",
        "\n",
        "def classification_report_with_accuracy_score(y_true, y_pred):\n",
        "\n",
        "    return f1_score(y_true, y_pred,average=\"macro\")\n",
        "\n",
        "nested_score = cross_val_score(svc,X=x, y=y, cv=kfold, \n",
        "               scoring=make_scorer(classification_report_with_accuracy_score))\n",
        "print(nested_score) \n",
        "print(f\"Mean of F1 {nested_score.mean()}\")\n",
        "print(f\"STD of F1 {nested_score.std()}\")"
      ]
    },
    {
      "cell_type": "code",
      "source": [
        "from sklearn.metrics import classification_report, accuracy_score,precision_score, make_scorer, f1_score\n",
        "from sklearn.model_selection import cross_val_score, StratifiedKFold\n",
        "\n",
        "def classification_report_with_accuracy_score(y_true, y_pred):\n",
        "\n",
        "    return f1_score(y_true, y_pred,average=\"weighted\")\n",
        "\n",
        "nested_score = cross_val_score(svc,X=x, y=y, cv=kfold, \n",
        "               scoring=make_scorer(classification_report_with_accuracy_score))\n",
        "print(nested_score) \n",
        "print(f\"Mean of F1 {nested_score.mean()}\")\n",
        "print(f\"STD of F1 {nested_score.std()}\")"
      ],
      "metadata": {
        "id": "zI1xNduYbvVj",
        "colab": {
          "base_uri": "https://localhost:8080/"
        },
        "outputId": "5d980de2-7583-497c-d004-c3a1b06225ac"
      },
      "execution_count": null,
      "outputs": [
        {
          "output_type": "stream",
          "name": "stdout",
          "text": [
            "[0.71037277 0.69446935 0.69704013 0.68706433 0.70978984]\n",
            "Mean of F1 0.6997472861822878\n",
            "STD of F1 0.009053137162568309\n"
          ]
        }
      ]
    },
    {
      "cell_type": "markdown",
      "metadata": {
        "id": "NPyGpokS_gnz"
      },
      "source": [
        "### Macro Precision"
      ]
    },
    {
      "cell_type": "code",
      "execution_count": null,
      "metadata": {
        "id": "6bc0fuEg_jGC",
        "colab": {
          "base_uri": "https://localhost:8080/"
        },
        "outputId": "7492bf37-ef08-4a94-da93-c0be37ddc48a"
      },
      "outputs": [
        {
          "output_type": "stream",
          "name": "stdout",
          "text": [
            "[0.78392604 0.77007874 0.76656669 0.76329316 0.76542178]\n",
            "0.7698572821277427\n",
            "0.007369783128477504\n"
          ]
        }
      ],
      "source": [
        "from sklearn.metrics import classification_report, accuracy_score,precision_score, make_scorer, f1_score\n",
        "from sklearn.model_selection import cross_val_score, StratifiedKFold\n",
        "\n",
        "def classification_report_with_accuracy_score(y_true, y_pred):\n",
        "\n",
        "    return precision_score(y_true, y_pred,average=\"macro\")\n",
        "\n",
        "    \n",
        "kfold = StratifiedKFold(n_splits=5, random_state=42,shuffle=True)\n",
        "# Nested CV with parameter optimization\n",
        "precision_score = cross_val_score(svc, X=x, y=y, cv=kfold, \n",
        "               scoring=make_scorer(classification_report_with_accuracy_score))\n",
        "print(precision_score) \n",
        "print(precision_score.mean())\n",
        "print(precision_score.std())"
      ]
    },
    {
      "cell_type": "markdown",
      "source": [
        "### Wighted Precision"
      ],
      "metadata": {
        "id": "iDJJUJTORvr7"
      }
    },
    {
      "cell_type": "code",
      "source": [
        "from sklearn.metrics import classification_report, accuracy_score,precision_score, make_scorer, f1_score\n",
        "from sklearn.model_selection import cross_val_score, StratifiedKFold\n",
        "\n",
        "def classification_report_with_accuracy_score(y_true, y_pred):\n",
        "\n",
        "    return precision_score(y_true, y_pred,average=\"weighted\")\n",
        "\n",
        "    \n",
        "kfold = StratifiedKFold(n_splits=5, random_state=42,shuffle=True)\n",
        "# Nested CV with parameter optimization\n",
        "precision_score = cross_val_score(svc, X=x, y=y, cv=kfold, \n",
        "               scoring=make_scorer(classification_report_with_accuracy_score))\n",
        "print(precision_score) \n",
        "print(precision_score.mean())\n",
        "print(precision_score.std())"
      ],
      "metadata": {
        "id": "pazbCdxWRuUC",
        "colab": {
          "base_uri": "https://localhost:8080/"
        },
        "outputId": "a8e41aa5-248b-4cb2-e107-36291f68d0fd"
      },
      "execution_count": null,
      "outputs": [
        {
          "output_type": "stream",
          "name": "stdout",
          "text": [
            "[0.77042905 0.75870866 0.75721669 0.75304595 0.75911731]\n",
            "0.7597035347736094\n",
            "0.005777160501896403\n"
          ]
        }
      ]
    },
    {
      "cell_type": "markdown",
      "metadata": {
        "id": "6LjZ9GkJ_poQ"
      },
      "source": [
        "###  Macro Recall"
      ]
    },
    {
      "cell_type": "code",
      "execution_count": null,
      "metadata": {
        "id": "4EhkE7Gr_r7H",
        "colab": {
          "base_uri": "https://localhost:8080/"
        },
        "outputId": "b52a3618-8bec-4956-885d-45b766b39a88"
      },
      "outputs": [
        {
          "output_type": "stream",
          "name": "stdout",
          "text": [
            "[0.62248714 0.60635811 0.60819243 0.59941775 0.62291814]\n",
            "Mean of recall 0.6118747151203809\n",
            "STD of recall 0.009313957567854443\n"
          ]
        }
      ],
      "source": [
        "from sklearn.metrics import recall_score\n",
        "def classification_report_with_accuracy_score(y_true, y_pred):\n",
        "\n",
        "    #print(classification_report(y_true, y_pred)) # print classification report\n",
        "    return recall_score(y_true, y_pred,average=\"macro\")\n",
        "\n",
        "\n",
        "\n",
        "\n",
        "\n",
        "kfold = StratifiedKFold(n_splits=5, random_state=42,shuffle=True)\n",
        "# Nested CV with parameter optimization\n",
        "recall_score = cross_val_score(svc, X=x, y=y, cv=kfold, \n",
        "               scoring=make_scorer(classification_report_with_accuracy_score))\n",
        "print(recall_score) \n",
        "print(\"Mean of recall\",recall_score.mean())\n",
        "print(\"STD of recall\",recall_score.std())\n"
      ]
    },
    {
      "cell_type": "markdown",
      "source": [
        "### Weighted Recall"
      ],
      "metadata": {
        "id": "BGO9CFYJUvlz"
      }
    },
    {
      "cell_type": "code",
      "source": [
        "from sklearn.metrics import recall_score\n",
        "def classification_report_with_accuracy_score(y_true, y_pred):\n",
        "\n",
        "    #print(classification_report(y_true, y_pred)) # print classification report\n",
        "    return recall_score(y_true, y_pred,average=\"weighted\")\n",
        "\n",
        "\n",
        "\n",
        "\n",
        "\n",
        "kfold = StratifiedKFold(n_splits=5, random_state=42,shuffle=True)\n",
        "# Nested CV with parameter optimization\n",
        "recall_score = cross_val_score(svc, X=x, y=y, cv=kfold, \n",
        "               scoring=make_scorer(classification_report_with_accuracy_score))\n",
        "print(recall_score) \n",
        "print(\"Mean of recall\",recall_score.mean())\n",
        "print(\"STD of recall\",recall_score.std())\n"
      ],
      "metadata": {
        "id": "bbGy_DT_UuKD",
        "colab": {
          "base_uri": "https://localhost:8080/"
        },
        "outputId": "22810054-657f-4905-ca8c-5d1d7c125acc"
      },
      "execution_count": null,
      "outputs": [
        {
          "output_type": "stream",
          "name": "stdout",
          "text": [
            "[0.75571429 0.74571429 0.74678112 0.74105866 0.75250358]\n",
            "Mean of recall 0.7483543838136113\n",
            "STD of recall 0.005177970681698347\n"
          ]
        }
      ]
    },
    {
      "cell_type": "markdown",
      "source": [
        "## Confusion Matrix"
      ],
      "metadata": {
        "id": "LA_bAAuvU0rX"
      }
    },
    {
      "cell_type": "code",
      "source": [
        "from sklearn.model_selection import cross_val_predict\n",
        "from sklearn.metrics import confusion_matrix\n",
        "y_pred = cross_val_predict(svc, X=x, y=y, cv=kfold)\n",
        "conf_mat = confusion_matrix(y, y_pred)\n",
        "print(conf_mat)"
      ],
      "metadata": {
        "id": "QFEThpLSZix7",
        "colab": {
          "base_uri": "https://localhost:8080/"
        },
        "outputId": "99bddd03-23c7-4c99-bcaa-9368c9a63aaa"
      },
      "execution_count": null,
      "outputs": [
        {
          "output_type": "stream",
          "name": "stdout",
          "text": [
            "[[ 274  810]\n",
            " [  70 2343]]\n"
          ]
        }
      ]
    },
    {
      "cell_type": "markdown",
      "metadata": {
        "id": "aR5lGtFdgyec"
      },
      "source": [
        "## Naive bayes with fasttext"
      ]
    },
    {
      "cell_type": "markdown",
      "source": [
        "### Macro F1"
      ],
      "metadata": {
        "id": "zfoI-NZFabxM"
      }
    },
    {
      "cell_type": "code",
      "execution_count": null,
      "metadata": {
        "id": "nNB4Ausvgw81",
        "colab": {
          "base_uri": "https://localhost:8080/"
        },
        "outputId": "69eff7a6-3517-4b14-deee-bcbb27c0941f"
      },
      "outputs": [
        {
          "output_type": "stream",
          "name": "stdout",
          "text": [
            "[0.4628071  0.43178072 0.42465813 0.42829047 0.46053382]\n",
            "Mean of F1 0.44161404711349794\n",
            "STD of F1 0.01654580411600696\n"
          ]
        }
      ],
      "source": [
        "from sklearn.metrics import classification_report, accuracy_score,precision_score, make_scorer, f1_score\n",
        "from sklearn.model_selection import cross_val_score, StratifiedKFold\n",
        "\n",
        "def classification_report_with_accuracy_score(y_true, y_pred):\n",
        "\n",
        "    return f1_score(y_true, y_pred,average=\"macro\")\n",
        "\n",
        "nested_score = cross_val_score(nb,X=x, y=y, cv=kfold, \n",
        "               scoring=make_scorer(classification_report_with_accuracy_score))\n",
        "print(nested_score) \n",
        "print(f\"Mean of F1 {nested_score.mean()}\")\n",
        "print(f\"STD of F1 {nested_score.std()}\")"
      ]
    },
    {
      "cell_type": "markdown",
      "source": [
        "### Weighted F1"
      ],
      "metadata": {
        "id": "k5qpWBnXafPO"
      }
    },
    {
      "cell_type": "code",
      "source": [
        "from sklearn.metrics import classification_report, accuracy_score,precision_score, make_scorer, f1_score\n",
        "from sklearn.model_selection import cross_val_score, StratifiedKFold\n",
        "\n",
        "def classification_report_with_accuracy_score(y_true, y_pred):\n",
        "\n",
        "    return f1_score(y_true, y_pred,average=\"weighted\")\n",
        "\n",
        "nested_score = cross_val_score(nb,X=x, y=y, cv=kfold, \n",
        "               scoring=make_scorer(classification_report_with_accuracy_score))\n",
        "print(nested_score) \n",
        "print(f\"Mean of F1 {nested_score.mean()}\")\n",
        "print(f\"STD of F1 {nested_score.std()}\")"
      ],
      "metadata": {
        "id": "DNX_4lLlaeLo",
        "colab": {
          "base_uri": "https://localhost:8080/"
        },
        "outputId": "d8d2097b-9b9f-4588-8d8a-433b6e06bc0a"
      },
      "execution_count": null,
      "outputs": [
        {
          "output_type": "stream",
          "name": "stdout",
          "text": [
            "[0.43918596 0.41080531 0.40516531 0.40038371 0.44531927]\n",
            "Mean of F1 0.42017191186606573\n",
            "STD of F1 0.01843055940944883\n"
          ]
        }
      ]
    },
    {
      "cell_type": "markdown",
      "metadata": {
        "id": "HdoLEekz_yV7"
      },
      "source": [
        "### Macro Precision"
      ]
    },
    {
      "cell_type": "code",
      "execution_count": null,
      "metadata": {
        "id": "hPvJxbAm_0iN",
        "colab": {
          "base_uri": "https://localhost:8080/"
        },
        "outputId": "b3449267-6cc3-4580-cfaa-e94a0143d915"
      },
      "outputs": [
        {
          "output_type": "stream",
          "name": "stdout",
          "text": [
            "[0.63761994 0.56902033 0.55241868 0.59827377 0.58815117]\n",
            "0.5890967802164712\n",
            "0.028941165579279778\n"
          ]
        }
      ],
      "source": [
        "from sklearn.metrics import classification_report, accuracy_score,precision_score, make_scorer, f1_score\n",
        "from sklearn.model_selection import cross_val_score, StratifiedKFold\n",
        "\n",
        "def classification_report_with_accuracy_score(y_true, y_pred):\n",
        "\n",
        "    return precision_score(y_true, y_pred,average=\"macro\")\n",
        "\n",
        "    \n",
        "kfold = StratifiedKFold(n_splits=5, random_state=42,shuffle=True)\n",
        "# Nested CV with parameter optimization\n",
        "precision_score = cross_val_score(nb, X=x, y=y, cv=kfold, \n",
        "               scoring=make_scorer(classification_report_with_accuracy_score))\n",
        "print(precision_score) \n",
        "print(precision_score.mean())\n",
        "print(precision_score.std())"
      ]
    },
    {
      "cell_type": "markdown",
      "source": [
        "### Weighted Precision"
      ],
      "metadata": {
        "id": "ZmeogDqKamzj"
      }
    },
    {
      "cell_type": "code",
      "source": [
        "from sklearn.metrics import classification_report, accuracy_score,precision_score, make_scorer, f1_score\n",
        "from sklearn.model_selection import cross_val_score, StratifiedKFold\n",
        "\n",
        "def classification_report_with_accuracy_score(y_true, y_pred):\n",
        "\n",
        "    return precision_score(y_true, y_pred,average=\"weighted\")\n",
        "\n",
        "    \n",
        "kfold = StratifiedKFold(n_splits=5, random_state=42,shuffle=True)\n",
        "# Nested CV with parameter optimization\n",
        "precision_score = cross_val_score(nb, X=x, y=y, cv=kfold, \n",
        "               scoring=make_scorer(classification_report_with_accuracy_score))\n",
        "print(precision_score) \n",
        "print(precision_score.mean())\n",
        "print(precision_score.std())"
      ],
      "metadata": {
        "id": "BFiSJcBmap1c",
        "colab": {
          "base_uri": "https://localhost:8080/"
        },
        "outputId": "07cceb1e-0274-48ce-a29c-303ee229d6ed"
      },
      "execution_count": null,
      "outputs": [
        {
          "output_type": "stream",
          "name": "stdout",
          "text": [
            "[0.74179495 0.65628254 0.63657089 0.69385572 0.67765644]\n",
            "0.6812321081408406\n",
            "0.035936345081543364\n"
          ]
        }
      ]
    },
    {
      "cell_type": "markdown",
      "metadata": {
        "id": "6tmyygAb_7Qb"
      },
      "source": [
        "### Macro Recall"
      ]
    },
    {
      "cell_type": "code",
      "execution_count": null,
      "metadata": {
        "id": "j29jrYgb_6JZ",
        "colab": {
          "base_uri": "https://localhost:8080/"
        },
        "outputId": "4727d947-f6ca-46e0-94c2-18ef351d0545"
      },
      "outputs": [
        {
          "output_type": "stream",
          "name": "stdout",
          "text": [
            "[0.60071462 0.55406398 0.54216989 0.56825439 0.57425856]\n",
            "Mean of recall 0.5678922887230518\n",
            "STD of recall 0.019853614108451923\n"
          ]
        }
      ],
      "source": [
        "from sklearn.metrics import recall_score\n",
        "def classification_report_with_accuracy_score(y_true, y_pred):\n",
        "\n",
        "    #print(classification_report(y_true, y_pred)) # print classification report\n",
        "    return recall_score(y_true, y_pred,average=\"macro\")\n",
        "\n",
        "\n",
        "\n",
        "\n",
        "\n",
        "kfold = StratifiedKFold(n_splits=5, random_state=42,shuffle=True)\n",
        "# Nested CV with parameter optimization\n",
        "recall_score = cross_val_score(nb, X=x, y=y, cv=kfold, \n",
        "               scoring=make_scorer(classification_report_with_accuracy_score))\n",
        "print(recall_score) \n",
        "print(\"Mean of recall\",recall_score.mean())\n",
        "print(\"STD of recall\",recall_score.std())\n"
      ]
    },
    {
      "cell_type": "markdown",
      "source": [
        "### Weighted Recall"
      ],
      "metadata": {
        "id": "G1q6vH-AavsL"
      }
    },
    {
      "cell_type": "code",
      "source": [
        "from sklearn.metrics import recall_score\n",
        "def classification_report_with_accuracy_score(y_true, y_pred):\n",
        "\n",
        "    #print(classification_report(y_true, y_pred)) # print classification report\n",
        "    return recall_score(y_true, y_pred,average=\"weighted\")\n",
        "\n",
        "\n",
        "\n",
        "\n",
        "\n",
        "kfold = StratifiedKFold(n_splits=5, random_state=42,shuffle=True)\n",
        "# Nested CV with parameter optimization\n",
        "recall_score = cross_val_score(nb, X=x, y=y, cv=kfold, \n",
        "               scoring=make_scorer(classification_report_with_accuracy_score))\n",
        "print(recall_score) \n",
        "print(\"Mean of recall\",recall_score.mean())\n",
        "print(\"STD of recall\",recall_score.std())\n"
      ],
      "metadata": {
        "id": "4YCWGXjZayM-",
        "colab": {
          "base_uri": "https://localhost:8080/"
        },
        "outputId": "c2f8d1b0-c5a5-4f21-a7e3-3ea3d8d5a4d6"
      },
      "execution_count": null,
      "outputs": [
        {
          "output_type": "stream",
          "name": "stdout",
          "text": [
            "[0.47       0.43714286 0.42918455 0.43776824 0.46351931]\n",
            "Mean of recall 0.4475229920294298\n",
            "STD of recall 0.016126369970024\n"
          ]
        }
      ]
    },
    {
      "cell_type": "code",
      "source": [
        "from sklearn.model_selection import cross_val_predict\n",
        "from sklearn.metrics import confusion_matrix\n",
        "y_pred = cross_val_predict(nb, X=x, y=y, cv=kfold)\n",
        "conf_mat = confusion_matrix(y, y_pred)\n",
        "print(conf_mat)"
      ],
      "metadata": {
        "id": "7bBran1NaUz1",
        "colab": {
          "base_uri": "https://localhost:8080/"
        },
        "outputId": "68ef215a-50ee-4dcf-8c18-e56ab91d4a49"
      },
      "execution_count": null,
      "outputs": [
        {
          "output_type": "stream",
          "name": "stdout",
          "text": [
            "[[ 959  125]\n",
            " [1807  606]]\n"
          ]
        }
      ]
    },
    {
      "cell_type": "markdown",
      "source": [
        "## Accuracy"
      ],
      "metadata": {
        "id": "uB8POB1maYkf"
      }
    },
    {
      "cell_type": "code",
      "execution_count": null,
      "metadata": {
        "id": "rPqfKrN0AGua",
        "colab": {
          "base_uri": "https://localhost:8080/"
        },
        "outputId": "5129e095-6efe-4dc9-bab8-4f4e93e3bec4"
      },
      "outputs": [
        {
          "output_type": "stream",
          "name": "stdout",
          "text": [
            "THE Pipeline(steps=[('vect', CountVectorizer()), ('tfidf', TfidfTransformer()),\n",
            "                ('clf', RandomForestClassifier())]) has 0.7935328019619865 accuracy and 0.01787655620375487 standard deviation\n",
            "THE Pipeline(steps=[('vect', CountVectorizer()), ('clf', RandomForestClassifier())]) has 0.7903932147966483 accuracy and 0.01637100759351669 standard deviation\n",
            "THE Pipeline(steps=[('vect', CountVectorizer()), ('tfidf', TfidfTransformer()),\n",
            "                ('clf', MultinomialNB())]) has 0.7778099325567137 accuracy and 0.008967228714495155 standard deviation\n",
            "THE Pipeline(steps=[('vect', CountVectorizer()), ('clf', MultinomialNB())]) has 0.7875315757204169 accuracy and 0.01481635654492127 standard deviation\n",
            "THE Pipeline(steps=[('vect', CountVectorizer()), ('tfidf', TfidfTransformer()),\n",
            "                ('clf', DecisionTreeClassifier())]) has 0.7454931534845697 accuracy and 0.012119082073449956 standard deviation\n",
            "THE Pipeline(steps=[('vect', CountVectorizer()), ('clf', DecisionTreeClassifier())]) has 0.7311988555078683 accuracy and 0.010371751024546015 standard deviation\n",
            "THE Pipeline(steps=[('vect', CountVectorizer()), ('tfidf', TfidfTransformer()),\n",
            "                ('clf', LogisticRegression())]) has 0.7935360719395055 accuracy and 0.01482509803447973 standard deviation\n",
            "THE Pipeline(steps=[('vect', CountVectorizer()), ('clf', LogisticRegression())]) has 0.7921107704884529 accuracy and 0.011175707336179157 standard deviation\n"
          ]
        }
      ],
      "source": [
        "from sklearn.model_selection import cross_val_score, StratifiedKFold\n",
        "\n",
        "\n",
        "kfold = StratifiedKFold(n_splits=5, random_state=42,shuffle=True)\n",
        "models = [rf_tfidf,rf_bow,mnb_tfidf,mnb_bow,dt_tfidf,dt_bow,lr_tfidf,lr_bow]\n",
        "for model in models:\n",
        "  acc = cross_val_score(model, X=cross_val_df['text'].values, y=cross_val_df['labels'].values, cv=kfold, \n",
        "               scoring=\"accuracy\")\n",
        "  print(f\"THE {model} has {acc.mean()} accuracy and {acc.std()} standard deviation\")"
      ]
    },
    {
      "cell_type": "code",
      "execution_count": null,
      "metadata": {
        "id": "_dAB0v_vYNEv",
        "colab": {
          "base_uri": "https://localhost:8080/"
        },
        "outputId": "a21bd6c1-b759-4116-efc6-fe913c0e5c65"
      },
      "outputs": [
        {
          "output_type": "stream",
          "name": "stdout",
          "text": [
            "THE LogisticRegression() has 0.6891624770079706 accuracy and 0.0020793927715807253 standard deviation\n",
            "THE DecisionTreeClassifier() has 0.6680008174943797 accuracy and 0.008704575434339591 standard deviation\n",
            "THE RandomForestClassifier() has 0.7849519722051911 accuracy and 0.012327720106470942 standard deviation\n",
            "THE GaussianNB() has 0.4475229920294298 accuracy and 0.016126369970024 standard deviation\n",
            "THE LinearSVC() has 0.7483543838136113 accuracy and 0.005177970681698347 standard deviation\n"
          ]
        }
      ],
      "source": [
        "ft_models = [lr,dt,rf,nb,svc]\n",
        "for model in ft_models:\n",
        "  acc = cross_val_score(model, X=x, y=y, cv=kfold, \n",
        "               scoring=\"accuracy\")\n",
        "  print(f\"THE {model} has {acc.mean()} accuracy and {acc.std()} standard deviation\")"
      ]
    },
    {
      "cell_type": "code",
      "execution_count": null,
      "metadata": {
        "id": "VqPNJoeEYTk3"
      },
      "outputs": [],
      "source": [
        "\n"
      ]
    },
    {
      "cell_type": "markdown",
      "source": [
        "###"
      ],
      "metadata": {
        "id": "TJRC4fVPaSsN"
      }
    }
  ],
  "metadata": {
    "colab": {
      "name": "[Misogyny det 2 CLASS]  ML models - Tamil Misogyny Detection.ipynb",
      "provenance": []
    },
    "kernelspec": {
      "display_name": "Python 3",
      "name": "python3"
    },
    "language_info": {
      "name": "python"
    }
  },
  "nbformat": 4,
  "nbformat_minor": 0
}
